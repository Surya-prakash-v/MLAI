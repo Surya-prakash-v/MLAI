{
  "nbformat": 4,
  "nbformat_minor": 0,
  "metadata": {
    "colab": {
      "name": "Final Surya Assignment 1A - 1st DNN.ipynb",
      "version": "0.3.2",
      "provenance": [],
      "collapsed_sections": []
    },
    "kernelspec": {
      "name": "python3",
      "display_name": "Python 3"
    },
    "accelerator": "GPU"
  },
  "cells": [
    {
      "metadata": {
        "id": "aNyZv-Ec52ot",
        "colab_type": "text"
      },
      "cell_type": "markdown",
      "source": [
        "# **Import Libraries and modules**"
      ]
    },
    {
      "metadata": {
        "id": "3m3w1Cw49Zkt",
        "colab_type": "code",
        "colab": {}
      },
      "cell_type": "code",
      "source": [
        "# https://keras.io/\n",
        "!pip install -q keras\n",
        "import keras"
      ],
      "execution_count": 0,
      "outputs": []
    },
    {
      "metadata": {
        "id": "Eso6UHE080D4",
        "colab_type": "code",
        "colab": {}
      },
      "cell_type": "code",
      "source": [
        "import numpy as np\n",
        "\n",
        "from keras.models import Sequential\n",
        "from keras.layers import Dense, Dropout, Activation, Flatten, Add\n",
        "from keras.layers import Convolution2D, MaxPooling2D\n",
        "from keras.utils import np_utils\n",
        "\n",
        "from keras.datasets import mnist"
      ],
      "execution_count": 0,
      "outputs": []
    },
    {
      "metadata": {
        "id": "zByEi95J86RD",
        "colab_type": "text"
      },
      "cell_type": "markdown",
      "source": [
        "### Load pre-shuffled MNIST data into train and test sets"
      ]
    },
    {
      "metadata": {
        "id": "7eRM0QWN83PV",
        "colab_type": "code",
        "colab": {}
      },
      "cell_type": "code",
      "source": [
        "(X_train, y_train), (X_test, y_test) = mnist.load_data()"
      ],
      "execution_count": 0,
      "outputs": []
    },
    {
      "metadata": {
        "id": "4a4Be72j8-ZC",
        "colab_type": "code",
        "outputId": "634e1d8a-24a1-4b70-b6b5-87a87f3d8946",
        "colab": {
          "base_uri": "https://localhost:8080/",
          "height": 300
        }
      },
      "cell_type": "code",
      "source": [
        "print (X_train.shape)\n",
        "from matplotlib import pyplot as plt\n",
        "%matplotlib inline\n",
        "plt.imshow(X_train[0])"
      ],
      "execution_count": 0,
      "outputs": [
        {
          "output_type": "stream",
          "text": [
            "(60000, 28, 28)\n"
          ],
          "name": "stdout"
        },
        {
          "output_type": "execute_result",
          "data": {
            "text/plain": [
              "<matplotlib.image.AxesImage at 0x7f899491a0b8>"
            ]
          },
          "metadata": {
            "tags": []
          },
          "execution_count": 175
        },
        {
          "output_type": "display_data",
          "data": {
            "image/png": "[encoded data removed]",
            "text/plain": [
              "<Figure size 432x288 with 1 Axes>"
            ]
          },
          "metadata": {
            "tags": []
          }
        }
      ]
    },
    {
      "metadata": {
        "id": "dkmprriw9AnZ",
        "colab_type": "code",
        "colab": {}
      },
      "cell_type": "code",
      "source": [
        "X_train = X_train.reshape(X_train.shape[0], 28, 28,1)\n",
        "X_test = X_test.reshape(X_test.shape[0], 28, 28,1)"
      ],
      "execution_count": 0,
      "outputs": []
    },
    {
      "metadata": {
        "id": "X2m4YS4E9CRh",
        "colab_type": "code",
        "colab": {}
      },
      "cell_type": "code",
      "source": [
        "X_train = X_train.astype('float32')\n",
        "X_test = X_test.astype('float32')\n",
        "X_train /= 255\n",
        "X_test /= 255"
      ],
      "execution_count": 0,
      "outputs": []
    },
    {
      "metadata": {
        "id": "0Mn0vAYD9DvB",
        "colab_type": "code",
        "outputId": "1e4427f3-ffa7-4a71-cc86-be5ae2a43b2f",
        "colab": {
          "base_uri": "https://localhost:8080/",
          "height": 35
        }
      },
      "cell_type": "code",
      "source": [
        "y_train[:10]"
      ],
      "execution_count": 0,
      "outputs": [
        {
          "output_type": "execute_result",
          "data": {
            "text/plain": [
              "array([5, 0, 4, 1, 9, 2, 1, 3, 1, 4], dtype=uint8)"
            ]
          },
          "metadata": {
            "tags": []
          },
          "execution_count": 178
        }
      ]
    },
    {
      "metadata": {
        "id": "ZG8JiXR39FHC",
        "colab_type": "code",
        "colab": {}
      },
      "cell_type": "code",
      "source": [
        "# Convert 1-dimensional class arrays to 10-dimensional class matrices\n",
        "Y_train = np_utils.to_categorical(y_train, 10)\n",
        "Y_test = np_utils.to_categorical(y_test, 10)"
      ],
      "execution_count": 0,
      "outputs": []
    },
    {
      "metadata": {
        "id": "fYlFRvKS9HMB",
        "colab_type": "code",
        "outputId": "67531d8f-5cb1-4478-be6d-34a719f915fa",
        "colab": {
          "base_uri": "https://localhost:8080/",
          "height": 191
        }
      },
      "cell_type": "code",
      "source": [
        "Y_train[:10]\n"
      ],
      "execution_count": 0,
      "outputs": [
        {
          "output_type": "execute_result",
          "data": {
            "text/plain": [
              "array([[0., 0., 0., 0., 0., 1., 0., 0., 0., 0.],\n",
              "       [1., 0., 0., 0., 0., 0., 0., 0., 0., 0.],\n",
              "       [0., 0., 0., 0., 1., 0., 0., 0., 0., 0.],\n",
              "       [0., 1., 0., 0., 0., 0., 0., 0., 0., 0.],\n",
              "       [0., 0., 0., 0., 0., 0., 0., 0., 0., 1.],\n",
              "       [0., 0., 1., 0., 0., 0., 0., 0., 0., 0.],\n",
              "       [0., 1., 0., 0., 0., 0., 0., 0., 0., 0.],\n",
              "       [0., 0., 0., 1., 0., 0., 0., 0., 0., 0.],\n",
              "       [0., 1., 0., 0., 0., 0., 0., 0., 0., 0.],\n",
              "       [0., 0., 0., 0., 1., 0., 0., 0., 0., 0.]], dtype=float32)"
            ]
          },
          "metadata": {
            "tags": []
          },
          "execution_count": 180
        }
      ]
    },
    {
      "metadata": {
        "id": "osKqT73Q9JJB",
        "colab_type": "code",
        "colab": {}
      },
      "cell_type": "code",
      "source": [
        "from keras.layers import Activation\n",
        "model = Sequential()\n",
        " \n",
        "model.add(Convolution2D(32, (3, 3), activation='relu', input_shape=(28,28,1),name='layer1'))\n",
        "model.add(Convolution2D(64, 3, activation='relu'))\n",
        "model.add(Convolution2D(128, 3, activation='relu'))\n",
        "model.add(Convolution2D(256, 3, activation='relu'))\n",
        "model.add(Convolution2D(512, 3, activation='relu'))\n",
        "model.add(MaxPooling2D(2))\n",
        "model.add(Convolution2D(32, 1, activation='relu'))\n",
        "model.add(Convolution2D(64, 3, activation='relu'))\n",
        "model.add(Convolution2D(128, 3, activation='relu'))\n",
        "model.add(Convolution2D(256, 3, activation='relu'))\n",
        "model.add(Convolution2D(10, 1, activation='relu'))\n",
        "model.add(Convolution2D(10, 3))\n",
        "model.add(Flatten())\n",
        "model.add(Activation('softmax'))"
      ],
      "execution_count": 0,
      "outputs": []
    },
    {
      "metadata": {
        "id": "TzdAYg1k9K7Z",
        "colab_type": "code",
        "outputId": "b2274645-43be-4014-e55d-08ef28cf2777",
        "colab": {
          "base_uri": "https://localhost:8080/",
          "height": 624
        }
      },
      "cell_type": "code",
      "source": [
        "model.summary()"
      ],
      "execution_count": 0,
      "outputs": [
        {
          "output_type": "stream",
          "text": [
            "_________________________________________________________________\n",
            "Layer (type)                 Output Shape              Param #   \n",
            "=================================================================\n",
            "layer1 (Conv2D)              (None, 26, 26, 32)        320       \n",
            "_________________________________________________________________\n",
            "conv2d_86 (Conv2D)           (None, 24, 24, 64)        18496     \n",
            "_________________________________________________________________\n",
            "conv2d_87 (Conv2D)           (None, 22, 22, 128)       73856     \n",
            "_________________________________________________________________\n",
            "conv2d_88 (Conv2D)           (None, 20, 20, 256)       295168    \n",
            "_________________________________________________________________\n",
            "conv2d_89 (Conv2D)           (None, 18, 18, 512)       1180160   \n",
            "_________________________________________________________________\n",
            "max_pooling2d_10 (MaxPooling (None, 9, 9, 512)         0         \n",
            "_________________________________________________________________\n",
            "conv2d_90 (Conv2D)           (None, 9, 9, 32)          16416     \n",
            "_________________________________________________________________\n",
            "conv2d_91 (Conv2D)           (None, 7, 7, 64)          18496     \n",
            "_________________________________________________________________\n",
            "conv2d_92 (Conv2D)           (None, 5, 5, 128)         73856     \n",
            "_________________________________________________________________\n",
            "conv2d_93 (Conv2D)           (None, 3, 3, 256)         295168    \n",
            "_________________________________________________________________\n",
            "conv2d_94 (Conv2D)           (None, 3, 3, 10)          2570      \n",
            "_________________________________________________________________\n",
            "conv2d_95 (Conv2D)           (None, 1, 1, 10)          910       \n",
            "_________________________________________________________________\n",
            "flatten_10 (Flatten)         (None, 10)                0         \n",
            "_________________________________________________________________\n",
            "activation_10 (Activation)   (None, 10)                0         \n",
            "=================================================================\n",
            "Total params: 1,975,416\n",
            "Trainable params: 1,975,416\n",
            "Non-trainable params: 0\n",
            "_________________________________________________________________\n"
          ],
          "name": "stdout"
        }
      ]
    },
    {
      "metadata": {
        "id": "Zp6SuGrL9M3h",
        "colab_type": "code",
        "colab": {}
      },
      "cell_type": "code",
      "source": [
        "model.compile(loss='categorical_crossentropy',\n",
        "             optimizer='adam',\n",
        "             metrics=['accuracy'])"
      ],
      "execution_count": 0,
      "outputs": []
    },
    {
      "metadata": {
        "id": "4xWoKhPY9Of5",
        "colab_type": "code",
        "outputId": "09394d3d-9df6-4f6d-f817-2e68d6aecdca",
        "colab": {
          "base_uri": "https://localhost:8080/",
          "height": 936
        }
      },
      "cell_type": "code",
      "source": [
        "model.fit(X_train, Y_train, batch_size=1000, nb_epoch=25, verbose=1)"
      ],
      "execution_count": 0,
      "outputs": [
        {
          "output_type": "stream",
          "text": [
            "/usr/local/lib/python3.6/dist-packages/ipykernel_launcher.py:1: UserWarning: The `nb_epoch` argument in `fit` has been renamed `epochs`.\n",
            "  \"\"\"Entry point for launching an IPython kernel.\n"
          ],
          "name": "stderr"
        },
        {
          "output_type": "stream",
          "text": [
            "Epoch 1/25\n",
            "60000/60000 [==============================] - 60s 1ms/step - loss: 0.9672 - acc: 0.6762\n",
            "Epoch 2/25\n",
            "60000/60000 [==============================] - 57s 957us/step - loss: 0.1585 - acc: 0.9529\n",
            "Epoch 3/25\n",
            "60000/60000 [==============================] - 57s 956us/step - loss: 0.0846 - acc: 0.9749\n",
            "Epoch 4/25\n",
            "60000/60000 [==============================] - 57s 955us/step - loss: 0.0642 - acc: 0.9806\n",
            "Epoch 5/25\n",
            "60000/60000 [==============================] - 57s 953us/step - loss: 0.0430 - acc: 0.9866\n",
            "Epoch 6/25\n",
            "60000/60000 [==============================] - 57s 952us/step - loss: 0.0338 - acc: 0.9892\n",
            "Epoch 7/25\n",
            "60000/60000 [==============================] - 57s 952us/step - loss: 0.0286 - acc: 0.9910\n",
            "Epoch 8/25\n",
            "60000/60000 [==============================] - 57s 950us/step - loss: 0.0234 - acc: 0.9928\n",
            "Epoch 9/25\n",
            "60000/60000 [==============================] - 57s 949us/step - loss: 0.0218 - acc: 0.9927\n",
            "Epoch 10/25\n",
            "60000/60000 [==============================] - 57s 947us/step - loss: 0.0170 - acc: 0.9946\n",
            "Epoch 11/25\n",
            "60000/60000 [==============================] - 57s 945us/step - loss: 0.0149 - acc: 0.9951\n",
            "Epoch 12/25\n",
            "60000/60000 [==============================] - 57s 945us/step - loss: 0.0143 - acc: 0.9948\n",
            "Epoch 13/25\n",
            "60000/60000 [==============================] - 57s 944us/step - loss: 0.0132 - acc: 0.9956\n",
            "Epoch 14/25\n",
            "60000/60000 [==============================] - 57s 944us/step - loss: 0.0115 - acc: 0.9961\n",
            "Epoch 15/25\n",
            "60000/60000 [==============================] - 57s 942us/step - loss: 0.0106 - acc: 0.9964\n",
            "Epoch 16/25\n",
            "60000/60000 [==============================] - 57s 942us/step - loss: 0.0096 - acc: 0.9971\n",
            "Epoch 17/25\n",
            "60000/60000 [==============================] - 56s 940us/step - loss: 0.0064 - acc: 0.9978\n",
            "Epoch 18/25\n",
            "60000/60000 [==============================] - 56s 938us/step - loss: 0.0076 - acc: 0.9974\n",
            "Epoch 19/25\n",
            "60000/60000 [==============================] - 56s 940us/step - loss: 0.0078 - acc: 0.9977\n",
            "Epoch 20/25\n",
            "60000/60000 [==============================] - 56s 939us/step - loss: 0.0090 - acc: 0.9970\n",
            "Epoch 21/25\n",
            "60000/60000 [==============================] - 56s 938us/step - loss: 0.0060 - acc: 0.9980\n",
            "Epoch 22/25\n",
            "60000/60000 [==============================] - 56s 937us/step - loss: 0.0060 - acc: 0.9981\n",
            "Epoch 23/25\n",
            "60000/60000 [==============================] - 56s 937us/step - loss: 0.0079 - acc: 0.9971\n",
            "Epoch 24/25\n",
            "60000/60000 [==============================] - 56s 937us/step - loss: 0.0058 - acc: 0.9982\n",
            "Epoch 25/25\n",
            "60000/60000 [==============================] - 56s 936us/step - loss: 0.0062 - acc: 0.9980\n"
          ],
          "name": "stdout"
        },
        {
          "output_type": "execute_result",
          "data": {
            "text/plain": [
              "<keras.callbacks.History at 0x7f89948b6b38>"
            ]
          },
          "metadata": {
            "tags": []
          },
          "execution_count": 184
        }
      ]
    },
    {
      "metadata": {
        "id": "AtsH-lLk-eLb",
        "colab_type": "code",
        "colab": {}
      },
      "cell_type": "code",
      "source": [
        "score = model.evaluate(X_test, Y_test, verbose=0)"
      ],
      "execution_count": 0,
      "outputs": []
    },
    {
      "metadata": {
        "id": "mkX8JMv79q9r",
        "colab_type": "code",
        "outputId": "bc1d21ee-2127-4e07-f88a-7cdb2ca6a2e9",
        "colab": {
          "base_uri": "https://localhost:8080/",
          "height": 35
        }
      },
      "cell_type": "code",
      "source": [
        "print(score)"
      ],
      "execution_count": 0,
      "outputs": [
        {
          "output_type": "stream",
          "text": [
            "[0.03696510653876785, 0.9916]\n"
          ],
          "name": "stdout"
        }
      ]
    },
    {
      "metadata": {
        "id": "OCWoJkwE9suh",
        "colab_type": "code",
        "colab": {}
      },
      "cell_type": "code",
      "source": [
        "y_pred = model.predict(X_test)"
      ],
      "execution_count": 0,
      "outputs": []
    },
    {
      "metadata": {
        "id": "Ym7iCFBm9uBs",
        "colab_type": "code",
        "outputId": "ee49dfa0-b16d-49cd-f2fa-412bd4d05481",
        "colab": {
          "base_uri": "https://localhost:8080/",
          "height": 503
        }
      },
      "cell_type": "code",
      "source": [
        "print(y_pred[:9])\n",
        "print(y_test[:9])"
      ],
      "execution_count": 0,
      "outputs": [
        {
          "output_type": "stream",
          "text": [
            "[[1.39754528e-08 1.06657820e-08 8.16584245e-10 9.06682715e-07\n",
            "  5.30852973e-10 1.48554835e-10 1.79623501e-14 9.99998927e-01\n",
            "  1.64774683e-09 8.86229046e-08]\n",
            " [2.02086986e-10 3.68408581e-10 1.00000000e+00 2.52956107e-14\n",
            "  1.07974509e-15 2.06396981e-17 4.26288089e-08 5.66273677e-12\n",
            "  7.09195784e-15 3.74175641e-19]\n",
            " [7.86166340e-11 9.99980688e-01 2.65534936e-06 2.38499123e-08\n",
            "  2.17881553e-08 1.35987548e-05 2.32670438e-09 2.38015605e-06\n",
            "  6.74903163e-07 4.55113192e-09]\n",
            " [9.99097109e-01 1.82970348e-14 2.00319628e-09 3.22020965e-10\n",
            "  1.32895106e-12 3.28676635e-11 9.02912347e-04 1.90100106e-11\n",
            "  9.24474455e-11 5.52083622e-11]\n",
            " [1.16826416e-12 3.16287135e-10 4.51252073e-13 7.94806441e-13\n",
            "  9.99999881e-01 5.40112422e-15 2.30997688e-09 1.64338243e-09\n",
            "  1.29153612e-08 1.19058676e-07]\n",
            " [1.00867342e-10 9.99979854e-01 1.65174642e-05 5.63382119e-10\n",
            "  6.50555521e-08 1.68633150e-07 9.71931069e-09 2.96678058e-06\n",
            "  3.86210957e-07 1.77816606e-09]\n",
            " [3.83978670e-15 2.52942245e-09 1.32978212e-11 5.13166809e-12\n",
            "  9.99999881e-01 3.34954731e-09 9.35665989e-10 4.81613363e-08\n",
            "  9.14387996e-08 1.63326188e-08]\n",
            " [1.88686347e-08 4.02224955e-12 1.45905358e-12 8.44745662e-11\n",
            "  3.53712011e-08 6.69950992e-08 1.05743209e-11 4.74649724e-08\n",
            "  3.12190274e-08 9.99999881e-01]\n",
            " [5.54487461e-15 9.93083993e-23 1.21913334e-14 4.85486590e-15\n",
            "  7.57857546e-21 6.36941254e-01 3.63058716e-01 1.76224411e-15\n",
            "  8.80007345e-10 1.43843281e-12]]\n",
            "[7 2 1 0 4 1 4 9 5]\n"
          ],
          "name": "stdout"
        }
      ]
    },
    {
      "metadata": {
        "id": "CT--y98_dr2T",
        "colab_type": "code",
        "colab": {}
      },
      "cell_type": "code",
      "source": [
        "layer_dict = dict([(layer.name, layer) for layer in model.layers])"
      ],
      "execution_count": 0,
      "outputs": []
    },
    {
      "metadata": {
        "id": "2GY4Upv4dsUR",
        "colab_type": "code",
        "outputId": "ca8f3fea-e02c-4e82-91fd-e9a8c0ba3cf5",
        "colab": {
          "base_uri": "https://localhost:8080/",
          "height": 839
        }
      },
      "cell_type": "code",
      "source": [
        "import numpy as np\n",
        "from matplotlib import pyplot as plt\n",
        "from keras import backend as K\n",
        "%matplotlib inline\n",
        "# util function to convert a tensor into a valid image\n",
        "def deprocess_image(x):\n",
        "    # normalize tensor: center on 0., ensure std is 0.1\n",
        "    x -= x.mean()\n",
        "    x /= (x.std() + 1e-5)\n",
        "    x *= 0.1\n",
        "\n",
        "    # clip to [0, 1]\n",
        "    x += 0.5\n",
        "    x = np.clip(x, 0, 1)\n",
        "\n",
        "    # convert to RGB array\n",
        "    x *= 255\n",
        "    #x = x.transpose((1, 2, 0))\n",
        "    x = np.clip(x, 0, 255).astype('uint8')\n",
        "    return x\n",
        "\n",
        "def vis_img_in_filter(img = np.array(X_train[2]).reshape((1, 28, 28, 1)).astype(np.float64), \n",
        "                      layer_name = 'layer1'):\n",
        "    layer_output = layer_dict[layer_name].output\n",
        "    img_ascs = list()\n",
        "    for filter_index in range(layer_output.shape[3]):\n",
        "        # build a loss function that maximizes the activation\n",
        "        # of the nth filter of the layer considered\n",
        "        loss = K.mean(layer_output[:, :, :, filter_index])\n",
        "\n",
        "        # compute the gradient of the input picture wrt this loss\n",
        "        grads = K.gradients(loss, model.input)[0]\n",
        "\n",
        "        # normalization trick: we normalize the gradient\n",
        "        grads /= (K.sqrt(K.mean(K.square(grads))) + 1e-5)\n",
        "\n",
        "        # this function returns the loss and grads given the input picture\n",
        "        iterate = K.function([model.input], [loss, grads])\n",
        "\n",
        "        # step size for gradient ascent\n",
        "        step = 5.\n",
        "\n",
        "        img_asc = np.array(img)\n",
        "        # run gradient ascent for 20 steps\n",
        "        for i in range(20):\n",
        "            loss_value, grads_value = iterate([img_asc])\n",
        "            img_asc += grads_value * step\n",
        "\n",
        "        img_asc = img_asc[0]\n",
        "        img_ascs.append(deprocess_image(img_asc).reshape((28, 28)))\n",
        "        \n",
        "    if layer_output.shape[3] >= 35:\n",
        "        plot_x, plot_y = 6, 6\n",
        "    elif layer_output.shape[3] >= 23:\n",
        "        plot_x, plot_y = 4, 6\n",
        "    elif layer_output.shape[3] >= 11:\n",
        "        plot_x, plot_y = 2, 6\n",
        "    else:\n",
        "        plot_x, plot_y = 1, 2\n",
        "    fig, ax = plt.subplots(plot_x, plot_y, figsize = (12, 12))\n",
        "    ax[0, 0].imshow(img.reshape((28, 28)), cmap = 'gray')\n",
        "    ax[0, 0].set_title('Input image')\n",
        "    fig.suptitle('Input image and %s filters' % (layer_name,))\n",
        "    fig.tight_layout(pad = 0.3, rect = [0, 0, 0.9, 0.9])\n",
        "    for (x, y) in [(i, j) for i in range(plot_x) for j in range(plot_y)]:\n",
        "        if x == 0 and y == 0:\n",
        "            continue\n",
        "        ax[x, y].imshow(img_ascs[x * plot_y + y - 1], cmap = 'gray')\n",
        "        ax[x, y].set_title('filter %d' % (x * plot_y + y - 1))\n",
        "\n",
        "vis_img_in_filter()"
      ],
      "execution_count": 0,
      "outputs": [
        {
          "output_type": "display_data",
          "data": {
            "image/png": "[encoded data removed]",
            "text/plain": [
              "<Figure size 864x864 with 24 Axes>"
            ]
          },
          "metadata": {
            "tags": []
          }
        }
      ]
    },
    {
      "metadata": {
        "id": "9tvptcn8dxvp",
        "colab_type": "code",
        "colab": {}
      },
      "cell_type": "code",
      "source": [
        ""
      ],
      "execution_count": 0,
      "outputs": []
    }
  ]
}