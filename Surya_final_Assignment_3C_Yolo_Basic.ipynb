{
  "nbformat": 4,
  "nbformat_minor": 0,
  "metadata": {
    "colab": {
      "name": "Surya final - Assignment 3C - Yolo_Basic.ipynb",
      "version": "0.3.2",
      "provenance": [],
      "collapsed_sections": []
    },
    "kernelspec": {
      "name": "python3",
      "display_name": "Python 3"
    },
    "accelerator": "GPU"
  },
  "cells": [
    {
      "metadata": {
        "id": "8edSiHPi2N5l",
        "colab_type": "code",
        "outputId": "a231e4c4-1145-458b-9184-7afd60858698",
        "colab": {
          "base_uri": "https://localhost:8080/",
          "height": 35
        }
      },
      "cell_type": "code",
      "source": [
        "# https://keras.io/\n",
        "!pip install -q keras\n",
        "import keras\n",
        "\n",
        "import keras\n",
        "from keras.datasets import cifar10\n",
        "from keras.models import Model, Sequential\n",
        "from keras.layers import Dense, Dropout, Flatten, Input, AveragePooling2D, merge, Activation\n",
        "from keras.layers import Conv2D, MaxPooling2D, BatchNormalization\n",
        "from keras.layers import Concatenate\n",
        "from keras.optimizers import Adam\n",
        "from keras.layers.advanced_activations import LeakyReLU\n",
        "from keras.layers import Reshape, Activation, Conv2D, Input, MaxPooling2D, BatchNormalization, Flatten, Dense, Lambda\n",
        "from keras.layers.merge import concatenate\n",
        "\n",
        "# this part will prevent tensorflow to allocate all the avaliable GPU Memory\n",
        "# backend\n",
        "import tensorflow as tf\n",
        "from keras import backend as k\n",
        "\n",
        "# Don't pre-allocate memory; allocate as-needed\n",
        "config = tf.ConfigProto()\n",
        "config.gpu_options.allow_growth = True\n",
        "\n",
        "# Create a session with the above options specified.\n",
        "k.tensorflow_backend.set_session(tf.Session(config=config))\n",
        "\n",
        "# Hyperparameters\n",
        "batch_size = 128\n",
        "num_classes = 10\n",
        "epochs = 50\n",
        "l = 10\n",
        "num_filter = 20"
      ],
      "execution_count": 0,
      "outputs": [
        {
          "output_type": "stream",
          "text": [
            "Using TensorFlow backend.\n"
          ],
          "name": "stderr"
        }
      ]
    },
    {
      "metadata": {
        "id": "-hkvQwOH2cCO",
        "colab_type": "code",
        "colab": {}
      },
      "cell_type": "code",
      "source": [
        "# Load CIFAR10 Data\n",
        "(x_train, y_train), (x_test, y_test) = cifar10.load_data()\n",
        "img_height, img_width, channel = x_train.shape[1],x_train.shape[2],x_train.shape[3]\n",
        "\n",
        "# convert to one hot encoing \n",
        "y_train = keras.utils.to_categorical(y_train, num_classes)\n",
        "y_test = keras.utils.to_categorical(y_test, num_classes)"
      ],
      "execution_count": 0,
      "outputs": []
    },
    {
      "metadata": {
        "id": "ztoDypc63gEs",
        "colab_type": "code",
        "colab": {}
      },
      "cell_type": "code",
      "source": [
        "def space_to_depth_x2(x):\n",
        "    return tf.space_to_depth(x, block_size=2)"
      ],
      "execution_count": 0,
      "outputs": []
    },
    {
      "metadata": {
        "id": "SNnGm8Tv2fR1",
        "colab_type": "code",
        "outputId": "3fda5356-3436-4729-f2c3-f372e4f552ea",
        "colab": {
          "base_uri": "https://localhost:8080/",
          "height": 90
        }
      },
      "cell_type": "code",
      "source": [
        "input = Input(shape=(img_height, img_width, channel,))\n",
        "\n",
        "def convolutionblock(input_image):\n",
        "  # Layer 1\n",
        "  layer1 = Conv2D(32, (3,3), strides=(1,1), padding='same', use_bias=False)(input_image)\n",
        "  layer1 = BatchNormalization()(layer1)\n",
        "  layer1 = LeakyReLU(alpha=0.1)(layer1)\n",
        "  \n",
        "  # Layer 2\n",
        "  layer2 = Conv2D(64, (3,3), strides=(1,1), padding='same', use_bias=False)(layer1)\n",
        "  layer2 = BatchNormalization()(layer2)\n",
        "  layer2 = LeakyReLU(alpha=0.1)(layer2)\n",
        "  \n",
        "  # Layer 3\n",
        "  layer3 = Conv2D(128, (3,3), strides=(1,1), padding='same', use_bias=False)(layer2)\n",
        "  layer3 = BatchNormalization()(layer3)\n",
        "  layer3 = LeakyReLU(alpha=0.1)(layer3)\n",
        "\n",
        "  # Layer 4\n",
        "  layer4 = Conv2D(256, (1,1), strides=(1,1), padding='same', use_bias=False)(layer3)\n",
        "  layer4 = BatchNormalization()(layer4)\n",
        "  layer4 = LeakyReLU(alpha=0.1)(layer4)\n",
        "\n",
        "  # Layer 5\n",
        "  layer5 = Conv2D(512, (3,3), strides=(1,1), padding='same', use_bias=False)(layer4)\n",
        "  layer5 = BatchNormalization()(layer5)\n",
        "  layer5 = LeakyReLU(alpha=0.1)(layer5)\n",
        "  layer5 = MaxPooling2D(pool_size=(2, 2))(layer5)\n",
        "  \n",
        "  return layer5\n",
        "  \n",
        "  \n",
        "block1 = convolutionblock(input)\n",
        "block2 = convolutionblock(block1)\n",
        "block3 = convolutionblock(block2)\n",
        "block4 = convolutionblock(block3)\n",
        "\n",
        "adjusted_block1 = Lambda(space_to_depth_x2)(block1)\n",
        "adjusted_block2 = Lambda(space_to_depth_x2)(adjusted_block1)\n",
        "adjusted_block3 = Lambda(space_to_depth_x2)(adjusted_block2)\n",
        "\n",
        "final = concatenate([adjusted_block3, block4])\n",
        "\n",
        "flat = Flatten()(final)\n",
        "\n",
        "output = Dense(num_classes, activation='softmax')(flat)\n",
        "\n"
      ],
      "execution_count": 0,
      "outputs": [
        {
          "output_type": "stream",
          "text": [
            "WARNING:tensorflow:From /usr/local/lib/python3.6/dist-packages/tensorflow/python/framework/op_def_library.py:263: colocate_with (from tensorflow.python.framework.ops) is deprecated and will be removed in a future version.\n",
            "Instructions for updating:\n",
            "Colocations handled automatically by placer.\n"
          ],
          "name": "stdout"
        }
      ]
    },
    {
      "metadata": {
        "id": "Jeh0VAxy26NV",
        "colab_type": "code",
        "outputId": "3f628fb6-7b19-428d-ece4-bf5e7cacd051",
        "colab": {
          "base_uri": "https://localhost:8080/",
          "height": 2684
        }
      },
      "cell_type": "code",
      "source": [
        "model = Model(inputs=[input], outputs=[output])\n",
        "model.summary()"
      ],
      "execution_count": 0,
      "outputs": [
        {
          "output_type": "stream",
          "text": [
            "__________________________________________________________________________________________________\n",
            "Layer (type)                    Output Shape         Param #     Connected to                     \n",
            "==================================================================================================\n",
            "input_1 (InputLayer)            (None, 32, 32, 3)    0                                            \n",
            "__________________________________________________________________________________________________\n",
            "conv2d_1 (Conv2D)               (None, 32, 32, 32)   864         input_1[0][0]                    \n",
            "__________________________________________________________________________________________________\n",
            "batch_normalization_1 (BatchNor (None, 32, 32, 32)   128         conv2d_1[0][0]                   \n",
            "__________________________________________________________________________________________________\n",
            "leaky_re_lu_1 (LeakyReLU)       (None, 32, 32, 32)   0           batch_normalization_1[0][0]      \n",
            "__________________________________________________________________________________________________\n",
            "conv2d_2 (Conv2D)               (None, 32, 32, 64)   18432       leaky_re_lu_1[0][0]              \n",
            "__________________________________________________________________________________________________\n",
            "batch_normalization_2 (BatchNor (None, 32, 32, 64)   256         conv2d_2[0][0]                   \n",
            "__________________________________________________________________________________________________\n",
            "leaky_re_lu_2 (LeakyReLU)       (None, 32, 32, 64)   0           batch_normalization_2[0][0]      \n",
            "__________________________________________________________________________________________________\n",
            "conv2d_3 (Conv2D)               (None, 32, 32, 128)  73728       leaky_re_lu_2[0][0]              \n",
            "__________________________________________________________________________________________________\n",
            "batch_normalization_3 (BatchNor (None, 32, 32, 128)  512         conv2d_3[0][0]                   \n",
            "__________________________________________________________________________________________________\n",
            "leaky_re_lu_3 (LeakyReLU)       (None, 32, 32, 128)  0           batch_normalization_3[0][0]      \n",
            "__________________________________________________________________________________________________\n",
            "conv2d_4 (Conv2D)               (None, 32, 32, 256)  32768       leaky_re_lu_3[0][0]              \n",
            "__________________________________________________________________________________________________\n",
            "batch_normalization_4 (BatchNor (None, 32, 32, 256)  1024        conv2d_4[0][0]                   \n",
            "__________________________________________________________________________________________________\n",
            "leaky_re_lu_4 (LeakyReLU)       (None, 32, 32, 256)  0           batch_normalization_4[0][0]      \n",
            "__________________________________________________________________________________________________\n",
            "conv2d_5 (Conv2D)               (None, 32, 32, 512)  1179648     leaky_re_lu_4[0][0]              \n",
            "__________________________________________________________________________________________________\n",
            "batch_normalization_5 (BatchNor (None, 32, 32, 512)  2048        conv2d_5[0][0]                   \n",
            "__________________________________________________________________________________________________\n",
            "leaky_re_lu_5 (LeakyReLU)       (None, 32, 32, 512)  0           batch_normalization_5[0][0]      \n",
            "__________________________________________________________________________________________________\n",
            "max_pooling2d_1 (MaxPooling2D)  (None, 16, 16, 512)  0           leaky_re_lu_5[0][0]              \n",
            "__________________________________________________________________________________________________\n",
            "conv2d_6 (Conv2D)               (None, 16, 16, 32)   147456      max_pooling2d_1[0][0]            \n",
            "__________________________________________________________________________________________________\n",
            "batch_normalization_6 (BatchNor (None, 16, 16, 32)   128         conv2d_6[0][0]                   \n",
            "__________________________________________________________________________________________________\n",
            "leaky_re_lu_6 (LeakyReLU)       (None, 16, 16, 32)   0           batch_normalization_6[0][0]      \n",
            "__________________________________________________________________________________________________\n",
            "conv2d_7 (Conv2D)               (None, 16, 16, 64)   18432       leaky_re_lu_6[0][0]              \n",
            "__________________________________________________________________________________________________\n",
            "batch_normalization_7 (BatchNor (None, 16, 16, 64)   256         conv2d_7[0][0]                   \n",
            "__________________________________________________________________________________________________\n",
            "leaky_re_lu_7 (LeakyReLU)       (None, 16, 16, 64)   0           batch_normalization_7[0][0]      \n",
            "__________________________________________________________________________________________________\n",
            "conv2d_8 (Conv2D)               (None, 16, 16, 128)  73728       leaky_re_lu_7[0][0]              \n",
            "__________________________________________________________________________________________________\n",
            "batch_normalization_8 (BatchNor (None, 16, 16, 128)  512         conv2d_8[0][0]                   \n",
            "__________________________________________________________________________________________________\n",
            "leaky_re_lu_8 (LeakyReLU)       (None, 16, 16, 128)  0           batch_normalization_8[0][0]      \n",
            "__________________________________________________________________________________________________\n",
            "conv2d_9 (Conv2D)               (None, 16, 16, 256)  32768       leaky_re_lu_8[0][0]              \n",
            "__________________________________________________________________________________________________\n",
            "batch_normalization_9 (BatchNor (None, 16, 16, 256)  1024        conv2d_9[0][0]                   \n",
            "__________________________________________________________________________________________________\n",
            "leaky_re_lu_9 (LeakyReLU)       (None, 16, 16, 256)  0           batch_normalization_9[0][0]      \n",
            "__________________________________________________________________________________________________\n",
            "conv2d_10 (Conv2D)              (None, 16, 16, 512)  1179648     leaky_re_lu_9[0][0]              \n",
            "__________________________________________________________________________________________________\n",
            "batch_normalization_10 (BatchNo (None, 16, 16, 512)  2048        conv2d_10[0][0]                  \n",
            "__________________________________________________________________________________________________\n",
            "leaky_re_lu_10 (LeakyReLU)      (None, 16, 16, 512)  0           batch_normalization_10[0][0]     \n",
            "__________________________________________________________________________________________________\n",
            "max_pooling2d_2 (MaxPooling2D)  (None, 8, 8, 512)    0           leaky_re_lu_10[0][0]             \n",
            "__________________________________________________________________________________________________\n",
            "conv2d_11 (Conv2D)              (None, 8, 8, 32)     147456      max_pooling2d_2[0][0]            \n",
            "__________________________________________________________________________________________________\n",
            "batch_normalization_11 (BatchNo (None, 8, 8, 32)     128         conv2d_11[0][0]                  \n",
            "__________________________________________________________________________________________________\n",
            "leaky_re_lu_11 (LeakyReLU)      (None, 8, 8, 32)     0           batch_normalization_11[0][0]     \n",
            "__________________________________________________________________________________________________\n",
            "conv2d_12 (Conv2D)              (None, 8, 8, 64)     18432       leaky_re_lu_11[0][0]             \n",
            "__________________________________________________________________________________________________\n",
            "batch_normalization_12 (BatchNo (None, 8, 8, 64)     256         conv2d_12[0][0]                  \n",
            "__________________________________________________________________________________________________\n",
            "leaky_re_lu_12 (LeakyReLU)      (None, 8, 8, 64)     0           batch_normalization_12[0][0]     \n",
            "__________________________________________________________________________________________________\n",
            "conv2d_13 (Conv2D)              (None, 8, 8, 128)    73728       leaky_re_lu_12[0][0]             \n",
            "__________________________________________________________________________________________________\n",
            "batch_normalization_13 (BatchNo (None, 8, 8, 128)    512         conv2d_13[0][0]                  \n",
            "__________________________________________________________________________________________________\n",
            "leaky_re_lu_13 (LeakyReLU)      (None, 8, 8, 128)    0           batch_normalization_13[0][0]     \n",
            "__________________________________________________________________________________________________\n",
            "conv2d_14 (Conv2D)              (None, 8, 8, 256)    32768       leaky_re_lu_13[0][0]             \n",
            "__________________________________________________________________________________________________\n",
            "batch_normalization_14 (BatchNo (None, 8, 8, 256)    1024        conv2d_14[0][0]                  \n",
            "__________________________________________________________________________________________________\n",
            "leaky_re_lu_14 (LeakyReLU)      (None, 8, 8, 256)    0           batch_normalization_14[0][0]     \n",
            "__________________________________________________________________________________________________\n",
            "conv2d_15 (Conv2D)              (None, 8, 8, 512)    1179648     leaky_re_lu_14[0][0]             \n",
            "__________________________________________________________________________________________________\n",
            "batch_normalization_15 (BatchNo (None, 8, 8, 512)    2048        conv2d_15[0][0]                  \n",
            "__________________________________________________________________________________________________\n",
            "leaky_re_lu_15 (LeakyReLU)      (None, 8, 8, 512)    0           batch_normalization_15[0][0]     \n",
            "__________________________________________________________________________________________________\n",
            "max_pooling2d_3 (MaxPooling2D)  (None, 4, 4, 512)    0           leaky_re_lu_15[0][0]             \n",
            "__________________________________________________________________________________________________\n",
            "conv2d_16 (Conv2D)              (None, 4, 4, 32)     147456      max_pooling2d_3[0][0]            \n",
            "__________________________________________________________________________________________________\n",
            "batch_normalization_16 (BatchNo (None, 4, 4, 32)     128         conv2d_16[0][0]                  \n",
            "__________________________________________________________________________________________________\n",
            "leaky_re_lu_16 (LeakyReLU)      (None, 4, 4, 32)     0           batch_normalization_16[0][0]     \n",
            "__________________________________________________________________________________________________\n",
            "conv2d_17 (Conv2D)              (None, 4, 4, 64)     18432       leaky_re_lu_16[0][0]             \n",
            "__________________________________________________________________________________________________\n",
            "batch_normalization_17 (BatchNo (None, 4, 4, 64)     256         conv2d_17[0][0]                  \n",
            "__________________________________________________________________________________________________\n",
            "leaky_re_lu_17 (LeakyReLU)      (None, 4, 4, 64)     0           batch_normalization_17[0][0]     \n",
            "__________________________________________________________________________________________________\n",
            "conv2d_18 (Conv2D)              (None, 4, 4, 128)    73728       leaky_re_lu_17[0][0]             \n",
            "__________________________________________________________________________________________________\n",
            "batch_normalization_18 (BatchNo (None, 4, 4, 128)    512         conv2d_18[0][0]                  \n",
            "__________________________________________________________________________________________________\n",
            "leaky_re_lu_18 (LeakyReLU)      (None, 4, 4, 128)    0           batch_normalization_18[0][0]     \n",
            "__________________________________________________________________________________________________\n",
            "conv2d_19 (Conv2D)              (None, 4, 4, 256)    32768       leaky_re_lu_18[0][0]             \n",
            "__________________________________________________________________________________________________\n",
            "batch_normalization_19 (BatchNo (None, 4, 4, 256)    1024        conv2d_19[0][0]                  \n",
            "__________________________________________________________________________________________________\n",
            "leaky_re_lu_19 (LeakyReLU)      (None, 4, 4, 256)    0           batch_normalization_19[0][0]     \n",
            "__________________________________________________________________________________________________\n",
            "conv2d_20 (Conv2D)              (None, 4, 4, 512)    1179648     leaky_re_lu_19[0][0]             \n",
            "__________________________________________________________________________________________________\n",
            "lambda_1 (Lambda)               (None, 8, 8, 2048)   0           max_pooling2d_1[0][0]            \n",
            "__________________________________________________________________________________________________\n",
            "batch_normalization_20 (BatchNo (None, 4, 4, 512)    2048        conv2d_20[0][0]                  \n",
            "__________________________________________________________________________________________________\n",
            "lambda_2 (Lambda)               (None, 4, 4, 8192)   0           lambda_1[0][0]                   \n",
            "__________________________________________________________________________________________________\n",
            "leaky_re_lu_20 (LeakyReLU)      (None, 4, 4, 512)    0           batch_normalization_20[0][0]     \n",
            "__________________________________________________________________________________________________\n",
            "lambda_3 (Lambda)               (None, 2, 2, 32768)  0           lambda_2[0][0]                   \n",
            "__________________________________________________________________________________________________\n",
            "max_pooling2d_4 (MaxPooling2D)  (None, 2, 2, 512)    0           leaky_re_lu_20[0][0]             \n",
            "__________________________________________________________________________________________________\n",
            "concatenate_1 (Concatenate)     (None, 2, 2, 33280)  0           lambda_3[0][0]                   \n",
            "                                                                 max_pooling2d_4[0][0]            \n",
            "__________________________________________________________________________________________________\n",
            "flatten_1 (Flatten)             (None, 133120)       0           concatenate_1[0][0]              \n",
            "__________________________________________________________________________________________________\n",
            "dense_1 (Dense)                 (None, 10)           1331210     flatten_1[0][0]                  \n",
            "==================================================================================================\n",
            "Total params: 7,008,618\n",
            "Trainable params: 7,000,682\n",
            "Non-trainable params: 7,936\n",
            "__________________________________________________________________________________________________\n"
          ],
          "name": "stdout"
        }
      ]
    },
    {
      "metadata": {
        "id": "apCwOjvZ4Kts",
        "colab_type": "code",
        "colab": {}
      },
      "cell_type": "code",
      "source": [
        "# determine Loss function and Optimizer\n",
        "model.compile(loss='categorical_crossentropy',\n",
        "              optimizer=Adam(lr=0.0001),\n",
        "              metrics=['accuracy'])"
      ],
      "execution_count": 0,
      "outputs": []
    },
    {
      "metadata": {
        "id": "tLaFy2AO4TLl",
        "colab_type": "code",
        "outputId": "bd5e97fe-2330-43ce-bc80-a601598edb46",
        "colab": {
          "base_uri": "https://localhost:8080/",
          "height": 1904
        }
      },
      "cell_type": "code",
      "source": [
        "model.fit(x_train, y_train,\n",
        "                    batch_size=batch_size,\n",
        "                    epochs=epochs,\n",
        "                    verbose=1,\n",
        "                    validation_data=(x_test, y_test))"
      ],
      "execution_count": 0,
      "outputs": [
        {
          "output_type": "stream",
          "text": [
            "WARNING:tensorflow:From /usr/local/lib/python3.6/dist-packages/tensorflow/python/ops/math_ops.py:3066: to_int32 (from tensorflow.python.ops.math_ops) is deprecated and will be removed in a future version.\n",
            "Instructions for updating:\n",
            "Use tf.cast instead.\n",
            "Train on 50000 samples, validate on 10000 samples\n",
            "Epoch 1/50\n",
            "50000/50000 [==============================] - 226s 5ms/step - loss: 6.0831 - acc: 0.3853 - val_loss: 5.6084 - val_acc: 0.4486\n",
            "Epoch 2/50\n",
            "50000/50000 [==============================] - 207s 4ms/step - loss: 5.4505 - acc: 0.4915 - val_loss: 5.4594 - val_acc: 0.4898\n",
            "Epoch 3/50\n",
            "50000/50000 [==============================] - 207s 4ms/step - loss: 5.2749 - acc: 0.5458 - val_loss: 5.5579 - val_acc: 0.4763\n",
            "Epoch 4/50\n",
            "50000/50000 [==============================] - 207s 4ms/step - loss: 5.1854 - acc: 0.5773 - val_loss: 5.8350 - val_acc: 0.4424\n",
            "Epoch 5/50\n",
            "50000/50000 [==============================] - 207s 4ms/step - loss: 5.0757 - acc: 0.6144 - val_loss: 5.4722 - val_acc: 0.5083\n",
            "Epoch 6/50\n",
            "50000/50000 [==============================] - 207s 4ms/step - loss: 4.9834 - acc: 0.6476 - val_loss: 5.5037 - val_acc: 0.5039\n",
            "Epoch 7/50\n",
            "50000/50000 [==============================] - 207s 4ms/step - loss: 4.9615 - acc: 0.6555 - val_loss: 5.5210 - val_acc: 0.5117\n",
            "Epoch 8/50\n",
            "50000/50000 [==============================] - 207s 4ms/step - loss: 4.9351 - acc: 0.6677 - val_loss: 5.5306 - val_acc: 0.5246\n",
            "Epoch 9/50\n",
            "50000/50000 [==============================] - 207s 4ms/step - loss: 4.9205 - acc: 0.6706 - val_loss: 5.5505 - val_acc: 0.5222\n",
            "Epoch 10/50\n",
            "50000/50000 [==============================] - 207s 4ms/step - loss: 4.9220 - acc: 0.6711 - val_loss: 5.6392 - val_acc: 0.5094\n",
            "Epoch 11/50\n",
            "50000/50000 [==============================] - 207s 4ms/step - loss: 4.8934 - acc: 0.6817 - val_loss: 5.5288 - val_acc: 0.5280\n",
            "Epoch 12/50\n",
            "50000/50000 [==============================] - 207s 4ms/step - loss: 4.9359 - acc: 0.6707 - val_loss: 5.7827 - val_acc: 0.5105\n",
            "Epoch 13/50\n",
            "50000/50000 [==============================] - 207s 4ms/step - loss: 4.9003 - acc: 0.6774 - val_loss: 5.6244 - val_acc: 0.5333\n",
            "Epoch 14/50\n",
            "50000/50000 [==============================] - 207s 4ms/step - loss: 4.8903 - acc: 0.6813 - val_loss: 5.7776 - val_acc: 0.5241\n",
            "Epoch 15/50\n",
            "50000/50000 [==============================] - 207s 4ms/step - loss: 4.8610 - acc: 0.6919 - val_loss: 5.6701 - val_acc: 0.5301\n",
            "Epoch 16/50\n",
            "50000/50000 [==============================] - 207s 4ms/step - loss: 4.9042 - acc: 0.6791 - val_loss: 5.6741 - val_acc: 0.5389\n",
            "Epoch 17/50\n",
            "50000/50000 [==============================] - 207s 4ms/step - loss: 4.9155 - acc: 0.6744 - val_loss: 5.5525 - val_acc: 0.5482\n",
            "Epoch 18/50\n",
            "50000/50000 [==============================] - 207s 4ms/step - loss: 4.9120 - acc: 0.6766 - val_loss: 5.9623 - val_acc: 0.5146\n",
            "Epoch 19/50\n",
            "50000/50000 [==============================] - 207s 4ms/step - loss: 4.9056 - acc: 0.6793 - val_loss: 5.7538 - val_acc: 0.5353\n",
            "Epoch 20/50\n",
            "50000/50000 [==============================] - 207s 4ms/step - loss: 4.8686 - acc: 0.6893 - val_loss: 5.5907 - val_acc: 0.5536\n",
            "Epoch 21/50\n",
            "50000/50000 [==============================] - 207s 4ms/step - loss: 4.8533 - acc: 0.6952 - val_loss: 5.8327 - val_acc: 0.5302\n",
            "Epoch 22/50\n",
            "50000/50000 [==============================] - 207s 4ms/step - loss: 4.9087 - acc: 0.6795 - val_loss: 6.3539 - val_acc: 0.4966\n",
            "Epoch 23/50\n",
            "50000/50000 [==============================] - 207s 4ms/step - loss: 4.9244 - acc: 0.6735 - val_loss: 5.9203 - val_acc: 0.5275\n",
            "Epoch 24/50\n",
            "50000/50000 [==============================] - 207s 4ms/step - loss: 4.8698 - acc: 0.6894 - val_loss: 5.6510 - val_acc: 0.5593\n",
            "Epoch 25/50\n",
            "50000/50000 [==============================] - 207s 4ms/step - loss: 4.8651 - acc: 0.6905 - val_loss: 5.7787 - val_acc: 0.5449\n",
            "Epoch 26/50\n",
            "50000/50000 [==============================] - 207s 4ms/step - loss: 4.8595 - acc: 0.6926 - val_loss: 5.8895 - val_acc: 0.5371\n",
            "Epoch 27/50\n",
            "50000/50000 [==============================] - 207s 4ms/step - loss: 4.9065 - acc: 0.6798 - val_loss: 6.2267 - val_acc: 0.5141\n",
            "Epoch 28/50\n",
            "50000/50000 [==============================] - 207s 4ms/step - loss: 4.8778 - acc: 0.6881 - val_loss: 5.7115 - val_acc: 0.5542\n",
            "Epoch 29/50\n",
            "50000/50000 [==============================] - 207s 4ms/step - loss: 4.8577 - acc: 0.6928 - val_loss: 5.7296 - val_acc: 0.5587\n",
            "Epoch 30/50\n",
            "50000/50000 [==============================] - 207s 4ms/step - loss: 4.8855 - acc: 0.6861 - val_loss: 6.0605 - val_acc: 0.5338\n",
            "Epoch 31/50\n",
            "50000/50000 [==============================] - 207s 4ms/step - loss: 4.8663 - acc: 0.6902 - val_loss: 5.8920 - val_acc: 0.5492\n",
            "Epoch 32/50\n",
            "50000/50000 [==============================] - 207s 4ms/step - loss: 4.8819 - acc: 0.6870 - val_loss: 6.0366 - val_acc: 0.5372\n",
            "Epoch 33/50\n",
            "50000/50000 [==============================] - 207s 4ms/step - loss: 4.8697 - acc: 0.6893 - val_loss: 5.9231 - val_acc: 0.5470\n",
            "Epoch 34/50\n",
            "50000/50000 [==============================] - 207s 4ms/step - loss: 4.8647 - acc: 0.6913 - val_loss: 5.8439 - val_acc: 0.5561\n",
            "Epoch 35/50\n",
            "50000/50000 [==============================] - 208s 4ms/step - loss: 4.8757 - acc: 0.6879 - val_loss: 5.7672 - val_acc: 0.5644\n",
            "Epoch 36/50\n",
            "50000/50000 [==============================] - 207s 4ms/step - loss: 4.9005 - acc: 0.6848 - val_loss: 6.1084 - val_acc: 0.5338\n",
            "Epoch 37/50\n",
            "50000/50000 [==============================] - 207s 4ms/step - loss: 4.8700 - acc: 0.6908 - val_loss: 5.9207 - val_acc: 0.5521\n",
            "Epoch 38/50\n",
            "50000/50000 [==============================] - 208s 4ms/step - loss: 4.8568 - acc: 0.6941 - val_loss: 6.2778 - val_acc: 0.5244\n",
            "Epoch 39/50\n",
            "50000/50000 [==============================] - 208s 4ms/step - loss: 4.9017 - acc: 0.6848 - val_loss: 6.0757 - val_acc: 0.5481\n",
            "Epoch 40/50\n",
            "50000/50000 [==============================] - 208s 4ms/step - loss: 4.8644 - acc: 0.6920 - val_loss: 5.9106 - val_acc: 0.5581\n",
            "Epoch 41/50\n",
            "50000/50000 [==============================] - 208s 4ms/step - loss: 4.8567 - acc: 0.6943 - val_loss: 6.1289 - val_acc: 0.5334\n",
            "Epoch 42/50\n",
            "50000/50000 [==============================] - 208s 4ms/step - loss: 4.8637 - acc: 0.6920 - val_loss: 5.8428 - val_acc: 0.5650\n",
            "Epoch 43/50\n",
            "50000/50000 [==============================] - 208s 4ms/step - loss: 4.8747 - acc: 0.6896 - val_loss: 5.9657 - val_acc: 0.5588\n",
            "Epoch 44/50\n",
            "50000/50000 [==============================] - 208s 4ms/step - loss: 4.8852 - acc: 0.6881 - val_loss: 6.1010 - val_acc: 0.5450\n",
            "Epoch 45/50\n",
            "50000/50000 [==============================] - 208s 4ms/step - loss: 4.8547 - acc: 0.6947 - val_loss: 6.1031 - val_acc: 0.5429\n",
            "Epoch 46/50\n",
            "50000/50000 [==============================] - 208s 4ms/step - loss: 4.8514 - acc: 0.6954 - val_loss: 6.0140 - val_acc: 0.5578\n",
            "Epoch 47/50\n",
            "50000/50000 [==============================] - 208s 4ms/step - loss: 4.8888 - acc: 0.6865 - val_loss: 5.8900 - val_acc: 0.5666\n",
            "Epoch 48/50\n",
            "50000/50000 [==============================] - 208s 4ms/step - loss: 4.8615 - acc: 0.6928 - val_loss: 5.9332 - val_acc: 0.5626\n",
            "Epoch 49/50\n",
            "50000/50000 [==============================] - 208s 4ms/step - loss: 4.8693 - acc: 0.6920 - val_loss: 5.8547 - val_acc: 0.5696\n",
            "Epoch 50/50\n",
            "50000/50000 [==============================] - 208s 4ms/step - loss: 4.8675 - acc: 0.6922 - val_loss: 6.0520 - val_acc: 0.5535\n"
          ],
          "name": "stdout"
        },
        {
          "output_type": "execute_result",
          "data": {
            "text/plain": [
              "<keras.callbacks.History at 0x7f0c10ef89e8>"
            ]
          },
          "metadata": {
            "tags": []
          },
          "execution_count": 7
        }
      ]
    },
    {
      "metadata": {
        "id": "pTfZIGrf4Uyd",
        "colab_type": "code",
        "outputId": "06f70329-486f-4592-f257-a004d663a622",
        "colab": {
          "base_uri": "https://localhost:8080/",
          "height": 88
        }
      },
      "cell_type": "code",
      "source": [
        "# Test the model\n",
        "score = model.evaluate(x_test, y_test, verbose=1)\n",
        "print('Test loss:', score[0])\n",
        "print('Test accuracy:', score[1])\n",
        "# Save the trained weights in to .h5 format\n",
        "model.save_weights(\"Yolo_Basic_model2.h5\")\n",
        "print(\"Saved the model to disk\")"
      ],
      "execution_count": 0,
      "outputs": [
        {
          "output_type": "stream",
          "text": [
            "10000/10000 [==============================] - 16s 2ms/step\n",
            "Test loss: 6.051976725387573\n",
            "Test accuracy: 0.5535\n",
            "Saved the model to disk\n"
          ],
          "name": "stdout"
        }
      ]
    },
    {
      "metadata": {
        "id": "Jiyb9TlVGsZs",
        "colab_type": "code",
        "outputId": "94a75b36-7937-47f6-8c9c-166f16de33ee",
        "colab": {
          "base_uri": "https://localhost:8080/",
          "height": 35
        }
      },
      "cell_type": "code",
      "source": [
        "model.save_weights(\"Yolo_Basic_model2.h5\")\n",
        "print(\"Saved the model to disk\")\n",
        "from google.colab import files\n",
        "\n",
        "files.download('Yolo_Basic_model2.h5')"
      ],
      "execution_count": 0,
      "outputs": [
        {
          "output_type": "stream",
          "text": [
            "Saved the model to disk\n"
          ],
          "name": "stdout"
        }
      ]
    },
    {
      "metadata": {
        "id": "g9A3pesKbUJ8",
        "colab_type": "code",
        "colab": {}
      },
      "cell_type": "code",
      "source": [
        ""
      ],
      "execution_count": 0,
      "outputs": []
    }
  ]
}