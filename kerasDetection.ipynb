{
  "nbformat": 4,
  "nbformat_minor": 0,
  "metadata": {
    "accelerator": "TPU",
    "colab": {
      "name": "kerasDetection.ipynb",
      "provenance": [],
      "collapsed_sections": [],
      "include_colab_link": true
    },
    "kernelspec": {
      "display_name": "Python 3",
      "name": "python3"
    }
  },
  "cells": [
    {
      "cell_type": "markdown",
      "metadata": {
        "id": "view-in-github",
        "colab_type": "text"
      },
      "source": [
        "<a href=\"https://colab.research.google.com/github/Surya-prakash-v/MLAI/blob/master/kerasDetection.ipynb\" target=\"_parent\"><img src=\"https://colab.research.google.com/assets/colab-badge.svg\" alt=\"Open In Colab\"/></a>"
      ]
    },
    {
      "cell_type": "markdown",
      "metadata": {
        "id": "Xma8LHnHnQIV"
      },
      "source": [
        "####Analytics Vidya</b>\n",
        "###Face detection and counting</p></b>\n",
        "<p>People detection and head counting is one of the classical albeit challenging computer vision application. For this problem, given a group selfie/photo, you are required to count the number of heads present in the picture. You are provided with a training set of images with coordinates of bounding box and head count for each image and need to predict the headcount for each image in the test set.</p></br>"
      ]
    },
    {
      "cell_type": "code",
      "metadata": {
        "colab": {
          "base_uri": "https://localhost:8080/"
        },
        "id": "pNqamX7xpIa_",
        "outputId": "e264dc82-e885-4d99-ca16-4627e16083ef"
      },
      "source": [
        "from google.colab import drive\n",
        "import zipfile as zip1\n",
        "import os\n",
        "drive.mount('/content/drive')\n",
        "zip_ref = zip1.ZipFile('./drive/My Drive/Colab Notebooks/AnalyticsVidya/train_HNzkrPW (1).zip', 'r')\n",
        "zip_ref.extractall('train/')\n",
        "zip_ref.close()"
      ],
      "execution_count": null,
      "outputs": [
        {
          "output_type": "stream",
          "text": [
            "Mounted at /content/drive\n"
          ],
          "name": "stdout"
        }
      ]
    },
    {
      "cell_type": "code",
      "metadata": {
        "colab": {
          "base_uri": "https://localhost:8080/"
        },
        "id": "FazTJE_lnKGI",
        "outputId": "dc52c1b4-90dd-4d44-f6ef-c7fe5dc5899d"
      },
      "source": [
        "from tensorflow.keras.preprocessing.image import ImageDataGenerator\n",
        "import pandas as pd\n",
        "\n",
        "IMG_SIZE = 128\n",
        "BATCH_SIZE = 64\n",
        "traindatagen = ImageDataGenerator(rescale=1./255)\n",
        "traincsv = pd.read_csv('train/train.csv',dtype={'Name': str,'HeadCount':int})\n",
        "trainFaceMaskcsv = pd.read_csv('train/bbox_train.csv',dtype={'Name': str,'width':float,'height':float,'xmin':float,'ymin':float,'xmax':float,'ymax':float})\n",
        "trainFaceMaskcsv['xmin'] = trainFaceMaskcsv['xmin']*IMG_SIZE/trainFaceMaskcsv['width']\n",
        "trainFaceMaskcsv['xmax'] = trainFaceMaskcsv['xmax']*IMG_SIZE/trainFaceMaskcsv['width']\n",
        "trainFaceMaskcsv['ymin'] = trainFaceMaskcsv['ymin']*IMG_SIZE/trainFaceMaskcsv['height']\n",
        "trainFaceMaskcsv['ymax'] = trainFaceMaskcsv['ymax']*IMG_SIZE/trainFaceMaskcsv['height']\n",
        "\n",
        "traingenerator = traindatagen.flow_from_dataframe(traincsv, directory='train/image_data/',x_col='Name', y_col=['Name','HeadCount'],target_size=(IMG_SIZE,IMG_SIZE), color_mode='rgb',class_mode='raw', batch_size=BATCH_SIZE,shuffle=False, seed=10)"
      ],
      "execution_count": null,
      "outputs": [
        {
          "output_type": "stream",
          "text": [
            "Found 5733 validated image filenames.\n"
          ],
          "name": "stdout"
        }
      ]
    },
    {
      "cell_type": "code",
      "metadata": {
        "id": "4PQyY1SCPuK3"
      },
      "source": [
        "import numpy as np\n",
        "def get_iou(a, epsilon=1e-5):\n",
        "    a[:,9] = np.maximum(a[:,1], a[:,5])\n",
        "    a[:,10] = np.maximum(a[:,2], a[:,6])\n",
        "    a[:,11] = np.minimum(a[:,3], a[:,7])\n",
        "    a[:,12] = np.minimum(a[:,4], a[:,8])\n",
        "    overlap = np.multiply(np.maximum(0,np.subtract(a[:,11],a[:,9])),np.maximum(0,np.subtract(a[:,12],a[:,10])))\n",
        "    area_a = np.multiply(np.subtract(a[:,3],a[:,1]),np.subtract(a[:,4],a[:,2]))\n",
        "    area_b = np.multiply(np.subtract(a[:,7],a[:,5]),np.subtract(a[:,8],a[:,6]))\n",
        "    area_combined = np.subtract(area_a+area_b,overlap)+epsilon\n",
        "    a[:,13] = np.divide(overlap,area_combined)*IMG_SIZE\n",
        "    a[np.where(a[:,13] > 0),14] = IMG_SIZE \n",
        "    a[np.where(a[:,13] <= 0),14] = 0\n",
        "    return a"
      ],
      "execution_count": null,
      "outputs": []
    },
    {
      "cell_type": "code",
      "metadata": {
        "id": "3k37JcnB7jhO"
      },
      "source": [
        "def get_iou_tf(a, epsilon=1e-5):\r\n",
        "  a1max = tf.maximum(a[:,0], a[:,4])\r\n",
        "  a2max = tf.maximum(a[:,1], a[:,5])\r\n",
        "  a3min = tf.minimum(a[:,2], a[:,6])\r\n",
        "  a4min = tf.minimum(a[:,3], a[:,7])\r\n",
        "  overlap = tf.multiply(tf.maximum(0.0,tf.subtract(a3min,a1max)),tf.maximum(0.0,tf.subtract(a4min,a2max)))\r\n",
        "  area_a = tf.multiply(tf.subtract(a[:,2],a[:,0]),tf.subtract(a[:,3],a[:,1]))\r\n",
        "  area_b = tf.multiply(tf.subtract(a[:,6],a[:,4]),tf.subtract(a[:,7],a[:,5]))\r\n",
        "  area_combined = tf.add(tf.subtract(tf.add(area_a,area_b),overlap),epsilon)\r\n",
        "  return tf.divide(overlap,area_combined)"
      ],
      "execution_count": null,
      "outputs": []
    },
    {
      "cell_type": "code",
      "metadata": {
        "id": "Hv-t6h2_hQ18"
      },
      "source": [
        "def getAnchorBasedSlidingWindow(image_size,anchor):\r\n",
        "  array = []\r\n",
        "  for i in range(0,image_size,anchor):\r\n",
        "    for j in range(0,image_size,anchor):\r\n",
        "      array.append([i,j,i+anchor,j+anchor])\r\n",
        "  return array\r\n",
        "\r\n",
        "def getallSlidingwindows(image_size):\r\n",
        "  window8 = np.array(getAnchorBasedSlidingWindow(image_size,8))\r\n",
        "  window16 = np.array(getAnchorBasedSlidingWindow(image_size,16))\r\n",
        "  window32 = np.array(getAnchorBasedSlidingWindow(image_size,32))\r\n",
        "  window64 = np.array(getAnchorBasedSlidingWindow(image_size,64))\r\n",
        "\r\n",
        "  return np.vstack([np.hstack([np.ones(shape=(window8.shape[0],1))*8,window8]),\r\n",
        "            np.hstack([np.ones(shape=(window16.shape[0],1))*16,window16]),\r\n",
        "            np.hstack([np.ones(shape=(window32.shape[0],1))*32,window32]),\r\n",
        "            np.hstack([np.ones(shape=(window64.shape[0],1))*64,window64])])"
      ],
      "execution_count": null,
      "outputs": []
    },
    {
      "cell_type": "code",
      "metadata": {
        "id": "z01lq3S-eA3d"
      },
      "source": [
        "def get_faceMasks(traingenerator):\n",
        "  while True:\n",
        "    batch_x, batch_y = next(traingenerator)\n",
        "    allwin = getallSlidingwindows(IMG_SIZE)\n",
        "    facemasks8 = np.zeros(shape=(batch_y.shape[0],int(IMG_SIZE/8),int(IMG_SIZE/8),7))\n",
        "    facemasks16 = np.zeros(shape=(batch_y.shape[0],int(IMG_SIZE/16),int(IMG_SIZE/16),7))\n",
        "    facemasks32 = np.zeros(shape=(batch_y.shape[0],int(IMG_SIZE/32),int(IMG_SIZE/32),7))\n",
        "    facemasks64 = np.zeros(shape=(batch_y.shape[0],int(IMG_SIZE/64),int(IMG_SIZE/64),7))\n",
        "    onestemp = np.ones(shape=(allwin.shape[0]),dtype=np.float64)\n",
        "    for i in range(batch_y.shape[0]):\n",
        "      faceList = trainFaceMaskcsv.where(trainFaceMaskcsv['Name']==batch_y[i][0])\n",
        "      faceList = faceList[faceList.Name.notnull()]\n",
        "      arr = []\n",
        "      for face in range(faceList['Name'].count()):\n",
        "        arr.append(np.concatenate([allwin,np.stack([onestemp*faceList['xmin'].iloc[face],onestemp*faceList['ymin'].iloc[face],onestemp*faceList['xmax'].iloc[face],onestemp*faceList['ymax'].iloc[face],\n",
        "                                    onestemp*0,onestemp*0,onestemp*0,onestemp*0,onestemp*0,onestemp*0,onestemp*faceList['Name'].count()],axis=1)],axis=1))\n",
        "      ious = get_iou(np.array(arr).reshape(faceList['Name'].count()*allwin.shape[0],16))\n",
        "      ious2 = pd.DataFrame(ious)\n",
        "      idx = ious2.loc[ious2.reset_index().groupby([0,1,2,3,4])[13].idxmax()]\n",
        "      idxarray = np.array(idx)\n",
        "      facemasks8[i] = np.reshape((idxarray[idxarray[:,0]==8][:,1:16]/IMG_SIZE)[:,[8,9,10,11,12,13,14]],newshape=(int(IMG_SIZE/8),int(IMG_SIZE/8),7))\n",
        "      facemasks16[i] = np.reshape((idxarray[idxarray[:,0]==16][:,1:16]/IMG_SIZE)[:,[8,9,10,11,12,13,14]],newshape=(int(IMG_SIZE/16),int(IMG_SIZE/16),7))\n",
        "      facemasks32[i] = np.reshape((idxarray[idxarray[:,0]==32][:,1:16]/IMG_SIZE)[:,[8,9,10,11,12,13,14]],newshape=(int(IMG_SIZE/32),int(IMG_SIZE/32),7))\n",
        "      facemasks64[i] = np.reshape((idxarray[idxarray[:,0]==64][:,1:16]/IMG_SIZE)[:,[8,9,10,11,12,13,14]],newshape=(int(IMG_SIZE/64),int(IMG_SIZE/64),7))\n",
        "    yield batch_x, [facemasks8.astype('float32'),facemasks16.astype('float32'),facemasks32.astype('float32'),facemasks64.astype('float32')]"
      ],
      "execution_count": null,
      "outputs": []
    },
    {
      "cell_type": "markdown",
      "metadata": {
        "id": "QJLwKhQV-uRR"
      },
      "source": [
        ""
      ]
    },
    {
      "cell_type": "code",
      "metadata": {
        "id": "LV4r9SJdrRXQ"
      },
      "source": [
        "import tensorflow as tf\n",
        "from tensorflow.python.keras.layers import (Flatten,LeakyReLU,AveragePooling2D,concatenate,\n",
        "                                            Reshape,Activation,Input, Conv2D, MaxPooling2D,\n",
        "                                            BatchNormalization, GlobalAveragePooling2D,SpatialDropout2D)\n",
        "def resNetBlock(input_image,num):\n",
        "\n",
        "  layer1 = Conv2D(64, 3, strides=(1,1), padding='same', use_bias=False,name ='rone'+str(num))(input_image)\n",
        "  layer1 = BatchNormalization()(layer1)\n",
        "  layer1 = LeakyReLU(alpha=0.1)(layer1)\n",
        "\n",
        "  layerp = Conv2D(128, 3, strides=(1,1), padding='same', use_bias=False,name ='rp'+str(num))(layer1)\n",
        "  layerp = BatchNormalization()(layerp)\n",
        "  layerp = LeakyReLU(alpha=0.1)(layerp)\n",
        "\n",
        "  layerq = Conv2D(256, 3, strides=(1,1), padding='same', use_bias=False,name ='rq'+str(num))(layerp)\n",
        "  layerq = BatchNormalization()(layerq)\n",
        "  layerq = LeakyReLU(alpha=0.1)(layerq)\n",
        "  \n",
        "  layer3 = Conv2D(16, 1, strides=(1,1), padding='same', use_bias=False,name='rtwo'+str(num))(layerq)\n",
        "  layer3 = BatchNormalization()(layer3)\n",
        "  layer3 = LeakyReLU(alpha=0.1)(layer3)\n",
        "    \n",
        "  return layer3  \n",
        "\n",
        "def build_model(img_size,img_ch):\n",
        "  input_sh = Input(shape=(img_size,img_size,img_ch)) \n",
        "\n",
        "  layer_1 = Conv2D(16, 3, strides=(1,1), padding='same', use_bias=False,name='one')(input_sh)\n",
        "  layer_1 = BatchNormalization()(layer_1)\n",
        "  layer_1 = LeakyReLU(alpha=0.1)(layer_1)\n",
        "  \n",
        "  layer_2 = Conv2D(32, 3, strides=(1,1), padding='same', use_bias=False,name='two')(layer_1)\n",
        "  layer_2 = BatchNormalization()(layer_2)\n",
        "  layer_2 = LeakyReLU(alpha=0.1)(layer_2)\n",
        " \n",
        "  resNetBlock1 = resNetBlock(layer_2,1)\n",
        "  concact1 = concatenate([resNetBlock1, layer_2])\n",
        "  layer_l = LeakyReLU(alpha=0.1)(concact1)\n",
        "  maxpool1 = MaxPooling2D(pool_size=(2, 2))(layer_l)\n",
        "\n",
        "  resNetBlock2 = resNetBlock(maxpool1,2)\n",
        "  concact2 = concatenate([resNetBlock2, maxpool1])\n",
        "  layer_l2 = LeakyReLU(alpha=0.1)(concact2)\n",
        "  maxpool2 = MaxPooling2D(pool_size=(2, 2))(layer_l2)\n",
        "\n",
        "  resNetBlock3 = resNetBlock(maxpool2,3)\n",
        "  concact3 = concatenate([resNetBlock3, maxpool2])\n",
        "  layer_l3 = LeakyReLU(alpha=0.1)(concact3)\n",
        "  maxpool3 = MaxPooling2D(pool_size=(2, 2))(layer_l3)\n",
        "  \n",
        "  resNetBlock4 = resNetBlock(maxpool3,4)\n",
        "  outputw = Conv2D(7, 1, strides=(1,1), padding='same', use_bias=False,name='six')(resNetBlock4)\n",
        "  concact4 = concatenate([resNetBlock4, maxpool3])\n",
        "  layer_l4 = LeakyReLU(alpha=0.1)(concact4)\n",
        "  maxpool4 = MaxPooling2D(pool_size=(2, 2))(layer_l4)\n",
        "  \n",
        "  resNetBlock5 = resNetBlock(maxpool4,5)\n",
        "  outputk = Conv2D(7, 1, strides=(1,1), padding='same', use_bias=False,name='seven')(resNetBlock5)\n",
        "  concact5 = concatenate([resNetBlock5, maxpool4])\n",
        "  layer_l5 = LeakyReLU(alpha=0.1)(concact5)\n",
        "  maxpool5 = MaxPooling2D(pool_size=(2, 2))(layer_l5)\n",
        "  \n",
        "  resNetBlock6 = resNetBlock(maxpool5,6)\n",
        "  concact6 = concatenate([resNetBlock6, maxpool5])\n",
        "  layer_l6 = LeakyReLU(alpha=0.1)(concact6)\n",
        "  layer_ant = Conv2D(7, (1,1), strides=(1,1), padding='same', use_bias=False, name='eight')(layer_l6)\n",
        "  \n",
        "  layer_plus1 = Conv2D(64, (3,3), strides=(1,1),  use_bias=False, name='nine')(layer_ant)\n",
        "  layer_plus2 = Conv2D(7, (3,3), strides=(1,1),padding='same', use_bias=False, name='ten')(layer_plus1)\n",
        "  model = tf.keras.Model(input_sh,outputs=[outputw,outputk,layer_ant,layer_plus2])\n",
        "  return model"
      ],
      "execution_count": null,
      "outputs": []
    },
    {
      "cell_type": "code",
      "metadata": {
        "colab": {
          "base_uri": "https://localhost:8080/"
        },
        "id": "ub85pxiEptWZ",
        "outputId": "61777e3c-04b1-4138-88b9-29cde76d78e4"
      },
      "source": [
        "model = build_model(IMG_SIZE,3)\r\n",
        "model.summary()"
      ],
      "execution_count": null,
      "outputs": [
        {
          "output_type": "stream",
          "text": [
            "Model: \"model\"\n",
            "__________________________________________________________________________________________________\n",
            "Layer (type)                    Output Shape         Param #     Connected to                     \n",
            "==================================================================================================\n",
            "input_1 (InputLayer)            [(None, 128, 128, 3) 0                                            \n",
            "__________________________________________________________________________________________________\n",
            "one (Conv2D)                    (None, 128, 128, 16) 432         input_1[0][0]                    \n",
            "__________________________________________________________________________________________________\n",
            "batch_normalization (BatchNorma (None, 128, 128, 16) 64          one[0][0]                        \n",
            "__________________________________________________________________________________________________\n",
            "leaky_re_lu (LeakyReLU)         (None, 128, 128, 16) 0           batch_normalization[0][0]        \n",
            "__________________________________________________________________________________________________\n",
            "two (Conv2D)                    (None, 128, 128, 32) 4608        leaky_re_lu[0][0]                \n",
            "__________________________________________________________________________________________________\n",
            "batch_normalization_1 (BatchNor (None, 128, 128, 32) 128         two[0][0]                        \n",
            "__________________________________________________________________________________________________\n",
            "leaky_re_lu_1 (LeakyReLU)       (None, 128, 128, 32) 0           batch_normalization_1[0][0]      \n",
            "__________________________________________________________________________________________________\n",
            "rone1 (Conv2D)                  (None, 128, 128, 64) 18432       leaky_re_lu_1[0][0]              \n",
            "__________________________________________________________________________________________________\n",
            "batch_normalization_2 (BatchNor (None, 128, 128, 64) 256         rone1[0][0]                      \n",
            "__________________________________________________________________________________________________\n",
            "leaky_re_lu_2 (LeakyReLU)       (None, 128, 128, 64) 0           batch_normalization_2[0][0]      \n",
            "__________________________________________________________________________________________________\n",
            "rp1 (Conv2D)                    (None, 128, 128, 128 73728       leaky_re_lu_2[0][0]              \n",
            "__________________________________________________________________________________________________\n",
            "batch_normalization_3 (BatchNor (None, 128, 128, 128 512         rp1[0][0]                        \n",
            "__________________________________________________________________________________________________\n",
            "leaky_re_lu_3 (LeakyReLU)       (None, 128, 128, 128 0           batch_normalization_3[0][0]      \n",
            "__________________________________________________________________________________________________\n",
            "rq1 (Conv2D)                    (None, 128, 128, 256 294912      leaky_re_lu_3[0][0]              \n",
            "__________________________________________________________________________________________________\n",
            "batch_normalization_4 (BatchNor (None, 128, 128, 256 1024        rq1[0][0]                        \n",
            "__________________________________________________________________________________________________\n",
            "leaky_re_lu_4 (LeakyReLU)       (None, 128, 128, 256 0           batch_normalization_4[0][0]      \n",
            "__________________________________________________________________________________________________\n",
            "rtwo1 (Conv2D)                  (None, 128, 128, 16) 4096        leaky_re_lu_4[0][0]              \n",
            "__________________________________________________________________________________________________\n",
            "batch_normalization_5 (BatchNor (None, 128, 128, 16) 64          rtwo1[0][0]                      \n",
            "__________________________________________________________________________________________________\n",
            "leaky_re_lu_5 (LeakyReLU)       (None, 128, 128, 16) 0           batch_normalization_5[0][0]      \n",
            "__________________________________________________________________________________________________\n",
            "concatenate (Concatenate)       (None, 128, 128, 48) 0           leaky_re_lu_5[0][0]              \n",
            "                                                                 leaky_re_lu_1[0][0]              \n",
            "__________________________________________________________________________________________________\n",
            "leaky_re_lu_6 (LeakyReLU)       (None, 128, 128, 48) 0           concatenate[0][0]                \n",
            "__________________________________________________________________________________________________\n",
            "max_pooling2d (MaxPooling2D)    (None, 64, 64, 48)   0           leaky_re_lu_6[0][0]              \n",
            "__________________________________________________________________________________________________\n",
            "rone2 (Conv2D)                  (None, 64, 64, 64)   27648       max_pooling2d[0][0]              \n",
            "__________________________________________________________________________________________________\n",
            "batch_normalization_6 (BatchNor (None, 64, 64, 64)   256         rone2[0][0]                      \n",
            "__________________________________________________________________________________________________\n",
            "leaky_re_lu_7 (LeakyReLU)       (None, 64, 64, 64)   0           batch_normalization_6[0][0]      \n",
            "__________________________________________________________________________________________________\n",
            "rp2 (Conv2D)                    (None, 64, 64, 128)  73728       leaky_re_lu_7[0][0]              \n",
            "__________________________________________________________________________________________________\n",
            "batch_normalization_7 (BatchNor (None, 64, 64, 128)  512         rp2[0][0]                        \n",
            "__________________________________________________________________________________________________\n",
            "leaky_re_lu_8 (LeakyReLU)       (None, 64, 64, 128)  0           batch_normalization_7[0][0]      \n",
            "__________________________________________________________________________________________________\n",
            "rq2 (Conv2D)                    (None, 64, 64, 256)  294912      leaky_re_lu_8[0][0]              \n",
            "__________________________________________________________________________________________________\n",
            "batch_normalization_8 (BatchNor (None, 64, 64, 256)  1024        rq2[0][0]                        \n",
            "__________________________________________________________________________________________________\n",
            "leaky_re_lu_9 (LeakyReLU)       (None, 64, 64, 256)  0           batch_normalization_8[0][0]      \n",
            "__________________________________________________________________________________________________\n",
            "rtwo2 (Conv2D)                  (None, 64, 64, 16)   4096        leaky_re_lu_9[0][0]              \n",
            "__________________________________________________________________________________________________\n",
            "batch_normalization_9 (BatchNor (None, 64, 64, 16)   64          rtwo2[0][0]                      \n",
            "__________________________________________________________________________________________________\n",
            "leaky_re_lu_10 (LeakyReLU)      (None, 64, 64, 16)   0           batch_normalization_9[0][0]      \n",
            "__________________________________________________________________________________________________\n",
            "concatenate_1 (Concatenate)     (None, 64, 64, 64)   0           leaky_re_lu_10[0][0]             \n",
            "                                                                 max_pooling2d[0][0]              \n",
            "__________________________________________________________________________________________________\n",
            "leaky_re_lu_11 (LeakyReLU)      (None, 64, 64, 64)   0           concatenate_1[0][0]              \n",
            "__________________________________________________________________________________________________\n",
            "max_pooling2d_1 (MaxPooling2D)  (None, 32, 32, 64)   0           leaky_re_lu_11[0][0]             \n",
            "__________________________________________________________________________________________________\n",
            "rone3 (Conv2D)                  (None, 32, 32, 64)   36864       max_pooling2d_1[0][0]            \n",
            "__________________________________________________________________________________________________\n",
            "batch_normalization_10 (BatchNo (None, 32, 32, 64)   256         rone3[0][0]                      \n",
            "__________________________________________________________________________________________________\n",
            "leaky_re_lu_12 (LeakyReLU)      (None, 32, 32, 64)   0           batch_normalization_10[0][0]     \n",
            "__________________________________________________________________________________________________\n",
            "rp3 (Conv2D)                    (None, 32, 32, 128)  73728       leaky_re_lu_12[0][0]             \n",
            "__________________________________________________________________________________________________\n",
            "batch_normalization_11 (BatchNo (None, 32, 32, 128)  512         rp3[0][0]                        \n",
            "__________________________________________________________________________________________________\n",
            "leaky_re_lu_13 (LeakyReLU)      (None, 32, 32, 128)  0           batch_normalization_11[0][0]     \n",
            "__________________________________________________________________________________________________\n",
            "rq3 (Conv2D)                    (None, 32, 32, 256)  294912      leaky_re_lu_13[0][0]             \n",
            "__________________________________________________________________________________________________\n",
            "batch_normalization_12 (BatchNo (None, 32, 32, 256)  1024        rq3[0][0]                        \n",
            "__________________________________________________________________________________________________\n",
            "leaky_re_lu_14 (LeakyReLU)      (None, 32, 32, 256)  0           batch_normalization_12[0][0]     \n",
            "__________________________________________________________________________________________________\n",
            "rtwo3 (Conv2D)                  (None, 32, 32, 16)   4096        leaky_re_lu_14[0][0]             \n",
            "__________________________________________________________________________________________________\n",
            "batch_normalization_13 (BatchNo (None, 32, 32, 16)   64          rtwo3[0][0]                      \n",
            "__________________________________________________________________________________________________\n",
            "leaky_re_lu_15 (LeakyReLU)      (None, 32, 32, 16)   0           batch_normalization_13[0][0]     \n",
            "__________________________________________________________________________________________________\n",
            "concatenate_2 (Concatenate)     (None, 32, 32, 80)   0           leaky_re_lu_15[0][0]             \n",
            "                                                                 max_pooling2d_1[0][0]            \n",
            "__________________________________________________________________________________________________\n",
            "leaky_re_lu_16 (LeakyReLU)      (None, 32, 32, 80)   0           concatenate_2[0][0]              \n",
            "__________________________________________________________________________________________________\n",
            "max_pooling2d_2 (MaxPooling2D)  (None, 16, 16, 80)   0           leaky_re_lu_16[0][0]             \n",
            "__________________________________________________________________________________________________\n",
            "rone4 (Conv2D)                  (None, 16, 16, 64)   46080       max_pooling2d_2[0][0]            \n",
            "__________________________________________________________________________________________________\n",
            "batch_normalization_14 (BatchNo (None, 16, 16, 64)   256         rone4[0][0]                      \n",
            "__________________________________________________________________________________________________\n",
            "leaky_re_lu_17 (LeakyReLU)      (None, 16, 16, 64)   0           batch_normalization_14[0][0]     \n",
            "__________________________________________________________________________________________________\n",
            "rp4 (Conv2D)                    (None, 16, 16, 128)  73728       leaky_re_lu_17[0][0]             \n",
            "__________________________________________________________________________________________________\n",
            "batch_normalization_15 (BatchNo (None, 16, 16, 128)  512         rp4[0][0]                        \n",
            "__________________________________________________________________________________________________\n",
            "leaky_re_lu_18 (LeakyReLU)      (None, 16, 16, 128)  0           batch_normalization_15[0][0]     \n",
            "__________________________________________________________________________________________________\n",
            "rq4 (Conv2D)                    (None, 16, 16, 256)  294912      leaky_re_lu_18[0][0]             \n",
            "__________________________________________________________________________________________________\n",
            "batch_normalization_16 (BatchNo (None, 16, 16, 256)  1024        rq4[0][0]                        \n",
            "__________________________________________________________________________________________________\n",
            "leaky_re_lu_19 (LeakyReLU)      (None, 16, 16, 256)  0           batch_normalization_16[0][0]     \n",
            "__________________________________________________________________________________________________\n",
            "rtwo4 (Conv2D)                  (None, 16, 16, 16)   4096        leaky_re_lu_19[0][0]             \n",
            "__________________________________________________________________________________________________\n",
            "batch_normalization_17 (BatchNo (None, 16, 16, 16)   64          rtwo4[0][0]                      \n",
            "__________________________________________________________________________________________________\n",
            "leaky_re_lu_20 (LeakyReLU)      (None, 16, 16, 16)   0           batch_normalization_17[0][0]     \n",
            "__________________________________________________________________________________________________\n",
            "concatenate_3 (Concatenate)     (None, 16, 16, 96)   0           leaky_re_lu_20[0][0]             \n",
            "                                                                 max_pooling2d_2[0][0]            \n",
            "__________________________________________________________________________________________________\n",
            "leaky_re_lu_21 (LeakyReLU)      (None, 16, 16, 96)   0           concatenate_3[0][0]              \n",
            "__________________________________________________________________________________________________\n",
            "max_pooling2d_3 (MaxPooling2D)  (None, 8, 8, 96)     0           leaky_re_lu_21[0][0]             \n",
            "__________________________________________________________________________________________________\n",
            "rone5 (Conv2D)                  (None, 8, 8, 64)     55296       max_pooling2d_3[0][0]            \n",
            "__________________________________________________________________________________________________\n",
            "batch_normalization_18 (BatchNo (None, 8, 8, 64)     256         rone5[0][0]                      \n",
            "__________________________________________________________________________________________________\n",
            "leaky_re_lu_22 (LeakyReLU)      (None, 8, 8, 64)     0           batch_normalization_18[0][0]     \n",
            "__________________________________________________________________________________________________\n",
            "rp5 (Conv2D)                    (None, 8, 8, 128)    73728       leaky_re_lu_22[0][0]             \n",
            "__________________________________________________________________________________________________\n",
            "batch_normalization_19 (BatchNo (None, 8, 8, 128)    512         rp5[0][0]                        \n",
            "__________________________________________________________________________________________________\n",
            "leaky_re_lu_23 (LeakyReLU)      (None, 8, 8, 128)    0           batch_normalization_19[0][0]     \n",
            "__________________________________________________________________________________________________\n",
            "rq5 (Conv2D)                    (None, 8, 8, 256)    294912      leaky_re_lu_23[0][0]             \n",
            "__________________________________________________________________________________________________\n",
            "batch_normalization_20 (BatchNo (None, 8, 8, 256)    1024        rq5[0][0]                        \n",
            "__________________________________________________________________________________________________\n",
            "leaky_re_lu_24 (LeakyReLU)      (None, 8, 8, 256)    0           batch_normalization_20[0][0]     \n",
            "__________________________________________________________________________________________________\n",
            "rtwo5 (Conv2D)                  (None, 8, 8, 16)     4096        leaky_re_lu_24[0][0]             \n",
            "__________________________________________________________________________________________________\n",
            "batch_normalization_21 (BatchNo (None, 8, 8, 16)     64          rtwo5[0][0]                      \n",
            "__________________________________________________________________________________________________\n",
            "leaky_re_lu_25 (LeakyReLU)      (None, 8, 8, 16)     0           batch_normalization_21[0][0]     \n",
            "__________________________________________________________________________________________________\n",
            "concatenate_4 (Concatenate)     (None, 8, 8, 112)    0           leaky_re_lu_25[0][0]             \n",
            "                                                                 max_pooling2d_3[0][0]            \n",
            "__________________________________________________________________________________________________\n",
            "leaky_re_lu_26 (LeakyReLU)      (None, 8, 8, 112)    0           concatenate_4[0][0]              \n",
            "__________________________________________________________________________________________________\n",
            "max_pooling2d_4 (MaxPooling2D)  (None, 4, 4, 112)    0           leaky_re_lu_26[0][0]             \n",
            "__________________________________________________________________________________________________\n",
            "rone6 (Conv2D)                  (None, 4, 4, 64)     64512       max_pooling2d_4[0][0]            \n",
            "__________________________________________________________________________________________________\n",
            "batch_normalization_22 (BatchNo (None, 4, 4, 64)     256         rone6[0][0]                      \n",
            "__________________________________________________________________________________________________\n",
            "leaky_re_lu_27 (LeakyReLU)      (None, 4, 4, 64)     0           batch_normalization_22[0][0]     \n",
            "__________________________________________________________________________________________________\n",
            "rp6 (Conv2D)                    (None, 4, 4, 128)    73728       leaky_re_lu_27[0][0]             \n",
            "__________________________________________________________________________________________________\n",
            "batch_normalization_23 (BatchNo (None, 4, 4, 128)    512         rp6[0][0]                        \n",
            "__________________________________________________________________________________________________\n",
            "leaky_re_lu_28 (LeakyReLU)      (None, 4, 4, 128)    0           batch_normalization_23[0][0]     \n",
            "__________________________________________________________________________________________________\n",
            "rq6 (Conv2D)                    (None, 4, 4, 256)    294912      leaky_re_lu_28[0][0]             \n",
            "__________________________________________________________________________________________________\n",
            "batch_normalization_24 (BatchNo (None, 4, 4, 256)    1024        rq6[0][0]                        \n",
            "__________________________________________________________________________________________________\n",
            "leaky_re_lu_29 (LeakyReLU)      (None, 4, 4, 256)    0           batch_normalization_24[0][0]     \n",
            "__________________________________________________________________________________________________\n",
            "rtwo6 (Conv2D)                  (None, 4, 4, 16)     4096        leaky_re_lu_29[0][0]             \n",
            "__________________________________________________________________________________________________\n",
            "batch_normalization_25 (BatchNo (None, 4, 4, 16)     64          rtwo6[0][0]                      \n",
            "__________________________________________________________________________________________________\n",
            "leaky_re_lu_30 (LeakyReLU)      (None, 4, 4, 16)     0           batch_normalization_25[0][0]     \n",
            "__________________________________________________________________________________________________\n",
            "concatenate_5 (Concatenate)     (None, 4, 4, 128)    0           leaky_re_lu_30[0][0]             \n",
            "                                                                 max_pooling2d_4[0][0]            \n",
            "__________________________________________________________________________________________________\n",
            "leaky_re_lu_31 (LeakyReLU)      (None, 4, 4, 128)    0           concatenate_5[0][0]              \n",
            "__________________________________________________________________________________________________\n",
            "eight (Conv2D)                  (None, 4, 4, 7)      896         leaky_re_lu_31[0][0]             \n",
            "__________________________________________________________________________________________________\n",
            "nine (Conv2D)                   (None, 2, 2, 64)     4032        eight[0][0]                      \n",
            "__________________________________________________________________________________________________\n",
            "six (Conv2D)                    (None, 16, 16, 7)    112         leaky_re_lu_20[0][0]             \n",
            "__________________________________________________________________________________________________\n",
            "seven (Conv2D)                  (None, 8, 8, 7)      112         leaky_re_lu_25[0][0]             \n",
            "__________________________________________________________________________________________________\n",
            "ten (Conv2D)                    (None, 2, 2, 7)      4032        nine[0][0]                       \n",
            "==================================================================================================\n",
            "Total params: 2,510,800\n",
            "Trainable params: 2,505,136\n",
            "Non-trainable params: 5,664\n",
            "__________________________________________________________________________________________________\n"
          ],
          "name": "stdout"
        }
      ]
    },
    {
      "cell_type": "code",
      "metadata": {
        "id": "L-4bBS-fmrlq",
        "colab": {
          "base_uri": "https://localhost:8080/"
        },
        "outputId": "6282ac97-b304-47af-c03e-270453f87e10"
      },
      "source": [
        "resolver = tf.distribute.cluster_resolver.TPUClusterResolver(tpu='grpc://' + os.environ['COLAB_TPU_ADDR'])\r\n",
        "tf.config.experimental_connect_to_cluster(resolver)\r\n",
        "tf.tpu.experimental.initialize_tpu_system(resolver)\r\n",
        "print(\"All devices: \", tf.config.list_logical_devices('TPU'))\r\n",
        "strategy = tf.distribute.TPUStrategy(resolver)"
      ],
      "execution_count": null,
      "outputs": [
        {
          "output_type": "stream",
          "text": [
            "INFO:tensorflow:Initializing the TPU system: grpc://10.24.106.250:8470\n"
          ],
          "name": "stdout"
        },
        {
          "output_type": "stream",
          "text": [
            "INFO:tensorflow:Initializing the TPU system: grpc://10.24.106.250:8470\n"
          ],
          "name": "stderr"
        },
        {
          "output_type": "stream",
          "text": [
            "INFO:tensorflow:Clearing out eager caches\n"
          ],
          "name": "stdout"
        },
        {
          "output_type": "stream",
          "text": [
            "INFO:tensorflow:Clearing out eager caches\n"
          ],
          "name": "stderr"
        },
        {
          "output_type": "stream",
          "text": [
            "INFO:tensorflow:Finished initializing TPU system.\n"
          ],
          "name": "stdout"
        },
        {
          "output_type": "stream",
          "text": [
            "INFO:tensorflow:Finished initializing TPU system.\n"
          ],
          "name": "stderr"
        },
        {
          "output_type": "stream",
          "text": [
            "All devices:  [LogicalDevice(name='/job:worker/replica:0/task:0/device:TPU:6', device_type='TPU'), LogicalDevice(name='/job:worker/replica:0/task:0/device:TPU:4', device_type='TPU'), LogicalDevice(name='/job:worker/replica:0/task:0/device:TPU:3', device_type='TPU'), LogicalDevice(name='/job:worker/replica:0/task:0/device:TPU:5', device_type='TPU'), LogicalDevice(name='/job:worker/replica:0/task:0/device:TPU:0', device_type='TPU'), LogicalDevice(name='/job:worker/replica:0/task:0/device:TPU:1', device_type='TPU'), LogicalDevice(name='/job:worker/replica:0/task:0/device:TPU:7', device_type='TPU'), LogicalDevice(name='/job:worker/replica:0/task:0/device:TPU:2', device_type='TPU')]\n",
            "INFO:tensorflow:Found TPU system:\n"
          ],
          "name": "stdout"
        },
        {
          "output_type": "stream",
          "text": [
            "INFO:tensorflow:Found TPU system:\n"
          ],
          "name": "stderr"
        },
        {
          "output_type": "stream",
          "text": [
            "INFO:tensorflow:*** Num TPU Cores: 8\n"
          ],
          "name": "stdout"
        },
        {
          "output_type": "stream",
          "text": [
            "INFO:tensorflow:*** Num TPU Cores: 8\n"
          ],
          "name": "stderr"
        },
        {
          "output_type": "stream",
          "text": [
            "INFO:tensorflow:*** Num TPU Workers: 1\n"
          ],
          "name": "stdout"
        },
        {
          "output_type": "stream",
          "text": [
            "INFO:tensorflow:*** Num TPU Workers: 1\n"
          ],
          "name": "stderr"
        },
        {
          "output_type": "stream",
          "text": [
            "INFO:tensorflow:*** Num TPU Cores Per Worker: 8\n"
          ],
          "name": "stdout"
        },
        {
          "output_type": "stream",
          "text": [
            "INFO:tensorflow:*** Num TPU Cores Per Worker: 8\n"
          ],
          "name": "stderr"
        },
        {
          "output_type": "stream",
          "text": [
            "INFO:tensorflow:*** Available Device: _DeviceAttributes(/job:localhost/replica:0/task:0/device:CPU:0, CPU, 0, 0)\n"
          ],
          "name": "stdout"
        },
        {
          "output_type": "stream",
          "text": [
            "INFO:tensorflow:*** Available Device: _DeviceAttributes(/job:localhost/replica:0/task:0/device:CPU:0, CPU, 0, 0)\n"
          ],
          "name": "stderr"
        },
        {
          "output_type": "stream",
          "text": [
            "INFO:tensorflow:*** Available Device: _DeviceAttributes(/job:worker/replica:0/task:0/device:CPU:0, CPU, 0, 0)\n"
          ],
          "name": "stdout"
        },
        {
          "output_type": "stream",
          "text": [
            "INFO:tensorflow:*** Available Device: _DeviceAttributes(/job:worker/replica:0/task:0/device:CPU:0, CPU, 0, 0)\n"
          ],
          "name": "stderr"
        },
        {
          "output_type": "stream",
          "text": [
            "INFO:tensorflow:*** Available Device: _DeviceAttributes(/job:worker/replica:0/task:0/device:TPU:0, TPU, 0, 0)\n"
          ],
          "name": "stdout"
        },
        {
          "output_type": "stream",
          "text": [
            "INFO:tensorflow:*** Available Device: _DeviceAttributes(/job:worker/replica:0/task:0/device:TPU:0, TPU, 0, 0)\n"
          ],
          "name": "stderr"
        },
        {
          "output_type": "stream",
          "text": [
            "INFO:tensorflow:*** Available Device: _DeviceAttributes(/job:worker/replica:0/task:0/device:TPU:1, TPU, 0, 0)\n"
          ],
          "name": "stdout"
        },
        {
          "output_type": "stream",
          "text": [
            "INFO:tensorflow:*** Available Device: _DeviceAttributes(/job:worker/replica:0/task:0/device:TPU:1, TPU, 0, 0)\n"
          ],
          "name": "stderr"
        },
        {
          "output_type": "stream",
          "text": [
            "INFO:tensorflow:*** Available Device: _DeviceAttributes(/job:worker/replica:0/task:0/device:TPU:2, TPU, 0, 0)\n"
          ],
          "name": "stdout"
        },
        {
          "output_type": "stream",
          "text": [
            "INFO:tensorflow:*** Available Device: _DeviceAttributes(/job:worker/replica:0/task:0/device:TPU:2, TPU, 0, 0)\n"
          ],
          "name": "stderr"
        },
        {
          "output_type": "stream",
          "text": [
            "INFO:tensorflow:*** Available Device: _DeviceAttributes(/job:worker/replica:0/task:0/device:TPU:3, TPU, 0, 0)\n"
          ],
          "name": "stdout"
        },
        {
          "output_type": "stream",
          "text": [
            "INFO:tensorflow:*** Available Device: _DeviceAttributes(/job:worker/replica:0/task:0/device:TPU:3, TPU, 0, 0)\n"
          ],
          "name": "stderr"
        },
        {
          "output_type": "stream",
          "text": [
            "INFO:tensorflow:*** Available Device: _DeviceAttributes(/job:worker/replica:0/task:0/device:TPU:4, TPU, 0, 0)\n"
          ],
          "name": "stdout"
        },
        {
          "output_type": "stream",
          "text": [
            "INFO:tensorflow:*** Available Device: _DeviceAttributes(/job:worker/replica:0/task:0/device:TPU:4, TPU, 0, 0)\n"
          ],
          "name": "stderr"
        },
        {
          "output_type": "stream",
          "text": [
            "INFO:tensorflow:*** Available Device: _DeviceAttributes(/job:worker/replica:0/task:0/device:TPU:5, TPU, 0, 0)\n"
          ],
          "name": "stdout"
        },
        {
          "output_type": "stream",
          "text": [
            "INFO:tensorflow:*** Available Device: _DeviceAttributes(/job:worker/replica:0/task:0/device:TPU:5, TPU, 0, 0)\n"
          ],
          "name": "stderr"
        },
        {
          "output_type": "stream",
          "text": [
            "INFO:tensorflow:*** Available Device: _DeviceAttributes(/job:worker/replica:0/task:0/device:TPU:6, TPU, 0, 0)\n"
          ],
          "name": "stdout"
        },
        {
          "output_type": "stream",
          "text": [
            "INFO:tensorflow:*** Available Device: _DeviceAttributes(/job:worker/replica:0/task:0/device:TPU:6, TPU, 0, 0)\n"
          ],
          "name": "stderr"
        },
        {
          "output_type": "stream",
          "text": [
            "INFO:tensorflow:*** Available Device: _DeviceAttributes(/job:worker/replica:0/task:0/device:TPU:7, TPU, 0, 0)\n"
          ],
          "name": "stdout"
        },
        {
          "output_type": "stream",
          "text": [
            "INFO:tensorflow:*** Available Device: _DeviceAttributes(/job:worker/replica:0/task:0/device:TPU:7, TPU, 0, 0)\n"
          ],
          "name": "stderr"
        },
        {
          "output_type": "stream",
          "text": [
            "INFO:tensorflow:*** Available Device: _DeviceAttributes(/job:worker/replica:0/task:0/device:TPU_SYSTEM:0, TPU_SYSTEM, 0, 0)\n"
          ],
          "name": "stdout"
        },
        {
          "output_type": "stream",
          "text": [
            "INFO:tensorflow:*** Available Device: _DeviceAttributes(/job:worker/replica:0/task:0/device:TPU_SYSTEM:0, TPU_SYSTEM, 0, 0)\n"
          ],
          "name": "stderr"
        },
        {
          "output_type": "stream",
          "text": [
            "INFO:tensorflow:*** Available Device: _DeviceAttributes(/job:worker/replica:0/task:0/device:XLA_CPU:0, XLA_CPU, 0, 0)\n"
          ],
          "name": "stdout"
        },
        {
          "output_type": "stream",
          "text": [
            "INFO:tensorflow:*** Available Device: _DeviceAttributes(/job:worker/replica:0/task:0/device:XLA_CPU:0, XLA_CPU, 0, 0)\n"
          ],
          "name": "stderr"
        }
      ]
    },
    {
      "cell_type": "code",
      "metadata": {
        "id": "q9Ny9y1nm1tr"
      },
      "source": [
        "import tensorflow_addons as tfa\r\n",
        "with strategy.scope():\r\n",
        "  gl = tfa.losses.GIoULoss(reduction=tf.keras.losses.Reduction.NONE)\r\n",
        "  bce = tf.keras.losses.BinaryCrossentropy(reduction=tf.keras.losses.Reduction.NONE,from_logits=True)\r\n",
        "  mse = tf.keras.losses.MeanSquaredError(reduction=tf.keras.losses.Reduction.NONE)\r\n",
        "  mseMetric = tf.keras.metrics.MeanSquaredError()\r\n",
        "  classifiMetric = tf.keras.metrics.BinaryCrossentropy()\r\n",
        "\r\n",
        "  def reshape_things(labels, predictions):\r\n",
        "    shape1 = (labels[0].shape[0]*labels[0].shape[1]*labels[0].shape[2],labels[0].shape[3])\r\n",
        "    shape2 = (labels[1].shape[0]*labels[1].shape[1]*labels[1].shape[2],labels[1].shape[3])\r\n",
        "    shape3 = (labels[2].shape[0]*labels[2].shape[1]*labels[2].shape[2],labels[2].shape[3])\r\n",
        "    shape4 = (labels[3].shape[0]*labels[3].shape[1]*labels[3].shape[2],labels[3].shape[3])\r\n",
        "    labels_shaped = tf.concat([tf.reshape(labels[0],shape=shape1),tf.reshape(labels[1],shape=shape2),tf.reshape(labels[2],shape=shape3),tf.reshape(labels[3],shape=shape4)],axis=0)\r\n",
        "    predictions_shaped = tf.concat([tf.reshape(predictions[0],shape=shape1),tf.reshape(predictions[1],shape=shape2),tf.reshape(predictions[2],shape=shape3),tf.reshape(predictions[3],shape=shape4)],axis=0)\r\n",
        "    classifylabel = tf.reshape(labels_shaped[:,5],shape=(labels_shaped[:,5].shape[0],1))\r\n",
        "    classifypred = tf.reshape(predictions_shaped[:,5],shape=(predictions_shaped[:,5].shape[0],1))\r\n",
        "    classifylabelnorm = tf.divide(tf.subtract(classifylabel,tf.reduce_min(classifylabel)),tf.subtract(tf.reduce_max(classifylabel),tf.reduce_min(classifylabel)))\r\n",
        "    classifyprednorm = tf.divide(tf.subtract(classifypred,tf.reduce_min(classifypred)),tf.subtract(tf.reduce_max(classifypred),tf.reduce_min(classifypred)))\r\n",
        "    bc1 = tf.concat([classifylabelnorm,tf.abs(tf.subtract(classifylabelnorm,tf.ones(classifylabelnorm.shape)))],axis=1)\r\n",
        "    bc2 = tf.concat([classifyprednorm,tf.abs(tf.subtract(classifyprednorm,tf.ones(classifyprednorm.shape)))],axis=1)\r\n",
        "    mselabel = tf.reshape(labels_shaped[:,6],shape=(labels_shaped[:,6].shape[0],1))\r\n",
        "    msepred = tf.reshape(predictions_shaped[:,6],shape=(predictions_shaped[:,6].shape[0],1))\r\n",
        "    ioulabel = tf.reshape(labels_shaped[:,0:4],shape=(labels_shaped[:,0:4].shape[0],4))\r\n",
        "    ioupred = tf.reshape(predictions_shaped[:,0:4],shape=(predictions_shaped[:,0:4].shape[0],4))\r\n",
        "    return bc1,bc2,mselabel,msepred,ioulabel,ioupred,classifylabel\r\n",
        "  \r\n",
        "  def compute_loss(labels, predictions):\r\n",
        "    bc1,bc2,mselabel,msepred,ioulabel,ioupred,classifylabel = reshape_things(labels, predictions)\r\n",
        "    p1 = bce(bc1,bc2)\r\n",
        "    p2 = mse(mselabel,msepred)\r\n",
        "    p3 = gl(ioulabel,ioupred)\r\n",
        "    pp11 = tf.nn.compute_average_loss(p1)\r\n",
        "    pp22 = tf.nn.compute_average_loss(p2 *classifylabel)\r\n",
        "    pp33 = tf.nn.compute_average_loss(p3* classifylabel)\r\n",
        "    return pp11,pp22,pp33\r\n",
        "\r\n",
        "  def custom_metric(labels,predictions):\r\n",
        "    bc1,bc2,mselabel,msepred,ioulabel,ioupred,classifylabel = reshape_things(labels, predictions)\r\n",
        "    classifiMetric.update_state(bc1,bc2)\r\n",
        "    mseMetric.update_state(mselabel,msepred)\r\n",
        "    iou = get_iou_tf(tf.concat([ioulabel,ioupred],1))\r\n",
        "    return tf.math.reduce_mean(iou)\r\n",
        "    \r\n",
        "  def custom_metric_reset():\r\n",
        "    return classifiMetric.reset_states(),mseMetric.reset_states()\r\n",
        "  def custom_metric_result():\r\n",
        "    return classifiMetric.result(),mseMetric.result()\r\n",
        "\r\n",
        "  model = build_model(IMG_SIZE,3)\r\n",
        "  optimizer = tf.keras.optimizers.Adam()"
      ],
      "execution_count": null,
      "outputs": []
    },
    {
      "cell_type": "code",
      "metadata": {
        "id": "tCrCd5Ky3j_l"
      },
      "source": [
        "from tensorflow.data import Dataset\r\n",
        "from tensorflow.python.keras.callbacks import ModelCheckpoint\r\n",
        "def train_step(input):\r\n",
        "  image,[label1,label2,label3,label4] = input\r\n",
        "  with tf.GradientTape() as tape:\r\n",
        "    predictions1,predictions2,predictions3,predictions4 = model(image, training=True)\r\n",
        "    l1,l2,l3 = compute_loss([label1,label2,label3,label4],[predictions1,predictions2,predictions3,predictions4])\r\n",
        "  gradients = tape.gradient([l1,l2,l3], model.trainable_variables)\r\n",
        "  updated_vars = optimizer.apply_gradients(list(zip(gradients,model.trainable_variables)))\r\n",
        "  iou = custom_metric([label1,label2,label3,label4],[predictions1,predictions2,predictions3,predictions4])\r\n",
        "  return l1,l2,l3,iou\r\n",
        "\r\n",
        "@tf.function\r\n",
        "def distributed_train_epoch(xx,yy):\r\n",
        "  [yy1,yy2,yy3,yy4] = yy\r\n",
        "  l1,l2,l3,iou = strategy.run(train_step,args=((xx,[yy1,yy2,yy3,yy4]),))\r\n",
        "  return strategy.reduce(tf.distribute.ReduceOp.SUM, l1, axis=None),strategy.reduce(tf.distribute.ReduceOp.SUM, l2, axis=None),strategy.reduce(tf.distribute.ReduceOp.SUM, l3, axis=None),strategy.reduce(tf.distribute.ReduceOp.SUM, iou, axis=None)\r\n",
        "\r\n",
        "def custom_loop(initial_epoch,num_epochs):\r\n",
        "  for epoch in range(initial_epoch,num_epochs):\r\n",
        "    total_loss=0.0\r\n",
        "    num_batches = 0\r\n",
        "    total_metric = 0.0\r\n",
        "    iou_per_epoch = 0.0\r\n",
        "    for batch in range(int(5733/BATCH_SIZE)):\r\n",
        "      num_batches +=1\r\n",
        "      xx,[m1,m2,m3,m4] = next(get_faceMasks(traingenerator))\r\n",
        "      l1,l2,l3,iou = distributed_train_epoch(xx,[m1,m2,m3,m4])\r\n",
        "      total_loss += l1+l2+l3\r\n",
        "      iou_per_epoch += iou\r\n",
        "    f1,f2 = custom_metric_result()\r\n",
        "    total_metric = (f1 +(iou_per_epoch/num_batches))/2 \r\n",
        "    custom_metric_reset()\r\n",
        "    template = ('Epoch: {} -> , Train Loss: {:.6f}, facecount_regress_mse:{:.6f}      Train Accuracy: {:.6f},classification Accuracy: {:.6f}, iou_accuracy: {:.6f}')\r\n",
        "    print(template.format(epoch,total_loss/num_batches,f2, total_metric,f1,iou_per_epoch/num_batches))\r\n",
        "  model.save('drive/My Drive/Colab Notebooks/AnalyticsVidya/FaceDetection/face_detectionTPU'+initial_epoch+'_'+num_epochs+'.hdf5')"
      ],
      "execution_count": null,
      "outputs": []
    },
    {
      "cell_type": "code",
      "metadata": {
        "id": "slXJeRCMVXff",
        "colab": {
          "base_uri": "https://localhost:8080/"
        },
        "outputId": "257d4d0c-0947-4199-fe99-e0a9882620ac"
      },
      "source": [
        "custom_loop(0,20)"
      ],
      "execution_count": null,
      "outputs": [
        {
          "output_type": "stream",
          "text": [
            "Epoch: 0, Train Loss: 4810.513672, Train Accuracy: 0.399359,classification Accuracy: 0.736960, mean squared error:0.053617, iou_accuracy: 0.004070\n",
            "Epoch: 1, Train Loss: 4214.025391, Train Accuracy: 0.254804,classification Accuracy: 0.490789, mean squared error:0.005711, iou_accuracy: 0.006554\n",
            "Epoch: 2, Train Loss: 4182.578613, Train Accuracy: 0.255724,classification Accuracy: 0.489831, mean squared error:0.002568, iou_accuracy: 0.009525\n",
            "Epoch: 3, Train Loss: 4175.518555, Train Accuracy: 0.284528,classification Accuracy: 0.531814, mean squared error:0.001624, iou_accuracy: 0.017809\n",
            "Epoch: 4, Train Loss: 4171.503418, Train Accuracy: 0.320114,classification Accuracy: 0.577931, mean squared error:0.001306, iou_accuracy: 0.030495\n",
            "Epoch: 5, Train Loss: 4162.186035, Train Accuracy: 0.334789,classification Accuracy: 0.576958, mean squared error:0.001161, iou_accuracy: 0.045730\n",
            "Epoch: 6, Train Loss: 4153.070312, Train Accuracy: 0.352006,classification Accuracy: 0.568532, mean squared error:0.001135, iou_accuracy: 0.067172\n",
            "Epoch: 7, Train Loss: 4145.890625, Train Accuracy: 0.373953,classification Accuracy: 0.588014, mean squared error:0.001065, iou_accuracy: 0.079414\n",
            "Epoch: 8, Train Loss: 4147.111328, Train Accuracy: 0.390227,classification Accuracy: 0.613112, mean squared error:0.001221, iou_accuracy: 0.083060\n",
            "Epoch: 9, Train Loss: 4123.592285, Train Accuracy: 0.402509,classification Accuracy: 0.611751, mean squared error:0.000954, iou_accuracy: 0.096156\n",
            "Epoch: 10, Train Loss: 4128.710938, Train Accuracy: 0.411997,classification Accuracy: 0.622956, mean squared error:0.000949, iou_accuracy: 0.100044\n",
            "Epoch: 11, Train Loss: 4126.237793, Train Accuracy: 0.429730,classification Accuracy: 0.641703, mean squared error:0.000825, iou_accuracy: 0.108466\n",
            "Epoch: 12, Train Loss: 4121.775391, Train Accuracy: 0.434570,classification Accuracy: 0.647103, mean squared error:0.000820, iou_accuracy: 0.110608\n",
            "Epoch: 13, Train Loss: 4124.507324, Train Accuracy: 0.448320,classification Accuracy: 0.666228, mean squared error:0.000762, iou_accuracy: 0.114825\n",
            "Epoch: 14, Train Loss: 4117.498535, Train Accuracy: 0.455167,classification Accuracy: 0.672098, mean squared error:0.000745, iou_accuracy: 0.118746\n",
            "Epoch: 15, Train Loss: 4115.614258, Train Accuracy: 0.465016,classification Accuracy: 0.686393, mean squared error:0.000761, iou_accuracy: 0.121439\n",
            "Epoch: 16, Train Loss: 4117.095703, Train Accuracy: 0.478934,classification Accuracy: 0.709754, mean squared error:0.000762, iou_accuracy: 0.123676\n",
            "Epoch: 17, Train Loss: 4116.930176, Train Accuracy: 0.476261,classification Accuracy: 0.709575, mean squared error:0.000897, iou_accuracy: 0.121025\n",
            "Epoch: 18, Train Loss: 4113.413574, Train Accuracy: 0.495179,classification Accuracy: 0.743113, mean squared error:0.000847, iou_accuracy: 0.123200\n",
            "Epoch: 19, Train Loss: 4108.564941, Train Accuracy: 0.491643,classification Accuracy: 0.725060, mean squared error:0.000658, iou_accuracy: 0.128784\n"
          ],
          "name": "stdout"
        }
      ]
    },
    {
      "cell_type": "markdown",
      "metadata": {
        "id": "u1B2dxjLgnBE"
      },
      "source": [
        "####Helper functions</b>"
      ]
    },
    {
      "cell_type": "code",
      "metadata": {
        "colab": {
          "base_uri": "https://localhost:8080/",
          "height": 555
        },
        "id": "4eIkwG7gju7P",
        "outputId": "0e348190-2dbf-42a2-c0dd-e4133090045c"
      },
      "source": [
        "custom_loop(20,120)"
      ],
      "execution_count": null,
      "outputs": [
        {
          "output_type": "stream",
          "text": [
            "Epoch: 20, Train Loss: 4105.806152, Train Accuracy: 0.508834,classification Accuracy: 0.732696, mean squared error:0.000571, iou_accuracy: 0.142200\n",
            "Epoch: 21, Train Loss: 4100.610840, Train Accuracy: 0.510800,classification Accuracy: 0.727033, mean squared error:0.000539, iou_accuracy: 0.147014\n",
            "Epoch: 22, Train Loss: 4097.215820, Train Accuracy: 0.514508,classification Accuracy: 0.728691, mean squared error:0.000531, iou_accuracy: 0.149898\n",
            "Epoch: 23, Train Loss: 4094.894775, Train Accuracy: 0.516278,classification Accuracy: 0.727587, mean squared error:0.000518, iou_accuracy: 0.152226\n",
            "Epoch: 24, Train Loss: 4103.167480, Train Accuracy: 0.518133,classification Accuracy: 0.729872, mean squared error:0.000518, iou_accuracy: 0.152937\n",
            "Epoch: 25, Train Loss: 4098.235840, Train Accuracy: 0.516633,classification Accuracy: 0.724149, mean squared error:0.000508, iou_accuracy: 0.154304\n",
            "Epoch: 26, Train Loss: 4100.704102, Train Accuracy: 0.516586,classification Accuracy: 0.719071, mean squared error:0.000507, iou_accuracy: 0.156797\n",
            "Epoch: 27, Train Loss: 4106.644043, Train Accuracy: 0.519663,classification Accuracy: 0.720610, mean squared error:0.000506, iou_accuracy: 0.159104\n",
            "Epoch: 28, Train Loss: 4101.095703, Train Accuracy: 0.522040,classification Accuracy: 0.722903, mean squared error:0.000504, iou_accuracy: 0.160336\n",
            "Epoch: 29, Train Loss: 4099.282227, Train Accuracy: 0.527472,classification Accuracy: 0.730354, mean squared error:0.000508, iou_accuracy: 0.162042\n",
            "Epoch: 30, Train Loss: 4097.014160, Train Accuracy: 0.527181,classification Accuracy: 0.726555, mean squared error:0.000503, iou_accuracy: 0.163652\n",
            "Epoch: 31, Train Loss: 4092.154785, Train Accuracy: 0.529530,classification Accuracy: 0.731107, mean squared error:0.000499, iou_accuracy: 0.163728\n",
            "Epoch: 32, Train Loss: 4088.487793, Train Accuracy: 0.530929,classification Accuracy: 0.730089, mean squared error:0.000485, iou_accuracy: 0.165642\n",
            "Epoch: 33, Train Loss: 4091.133057, Train Accuracy: 0.531176,classification Accuracy: 0.728815, mean squared error:0.000494, iou_accuracy: 0.166521\n",
            "Epoch: 34, Train Loss: 4096.571777, Train Accuracy: 0.535101,classification Accuracy: 0.735548, mean squared error:0.000495, iou_accuracy: 0.167080\n"
          ],
          "name": "stdout"
        },
        {
          "output_type": "error",
          "ename": "KeyboardInterrupt",
          "evalue": "ignored",
          "traceback": [
            "\u001b[0;31m---------------------------------------------------------------------------\u001b[0m",
            "\u001b[0;31mKeyboardInterrupt\u001b[0m                         Traceback (most recent call last)",
            "\u001b[0;32m<ipython-input-20-d8384b0a3a3a>\u001b[0m in \u001b[0;36m<module>\u001b[0;34m()\u001b[0m\n\u001b[0;32m----> 1\u001b[0;31m \u001b[0mcustom_loop\u001b[0m\u001b[0;34m(\u001b[0m\u001b[0;36m20\u001b[0m\u001b[0;34m,\u001b[0m\u001b[0;36m120\u001b[0m\u001b[0;34m)\u001b[0m\u001b[0;34m\u001b[0m\u001b[0;34m\u001b[0m\u001b[0m\n\u001b[0m",
            "\u001b[0;32m<ipython-input-19-7e4559aed71a>\u001b[0m in \u001b[0;36mcustom_loop\u001b[0;34m(initial_epoch, num_epochs)\u001b[0m\n\u001b[1;32m     25\u001b[0m     \u001b[0;32mfor\u001b[0m \u001b[0mbatch\u001b[0m \u001b[0;32min\u001b[0m \u001b[0mrange\u001b[0m\u001b[0;34m(\u001b[0m\u001b[0mint\u001b[0m\u001b[0;34m(\u001b[0m\u001b[0;36m5733\u001b[0m\u001b[0;34m/\u001b[0m\u001b[0mBATCH_SIZE\u001b[0m\u001b[0;34m)\u001b[0m\u001b[0;34m)\u001b[0m\u001b[0;34m:\u001b[0m\u001b[0;34m\u001b[0m\u001b[0;34m\u001b[0m\u001b[0m\n\u001b[1;32m     26\u001b[0m       \u001b[0mnum_batches\u001b[0m \u001b[0;34m+=\u001b[0m\u001b[0;36m1\u001b[0m\u001b[0;34m\u001b[0m\u001b[0;34m\u001b[0m\u001b[0m\n\u001b[0;32m---> 27\u001b[0;31m       \u001b[0mxx\u001b[0m\u001b[0;34m,\u001b[0m\u001b[0;34m[\u001b[0m\u001b[0mm1\u001b[0m\u001b[0;34m,\u001b[0m\u001b[0mm2\u001b[0m\u001b[0;34m,\u001b[0m\u001b[0mm3\u001b[0m\u001b[0;34m,\u001b[0m\u001b[0mm4\u001b[0m\u001b[0;34m]\u001b[0m \u001b[0;34m=\u001b[0m \u001b[0mnext\u001b[0m\u001b[0;34m(\u001b[0m\u001b[0mget_faceMasks\u001b[0m\u001b[0;34m(\u001b[0m\u001b[0mtraingenerator\u001b[0m\u001b[0;34m)\u001b[0m\u001b[0;34m)\u001b[0m\u001b[0;34m\u001b[0m\u001b[0;34m\u001b[0m\u001b[0m\n\u001b[0m\u001b[1;32m     28\u001b[0m       \u001b[0ml1\u001b[0m\u001b[0;34m,\u001b[0m\u001b[0ml2\u001b[0m\u001b[0;34m,\u001b[0m\u001b[0ml3\u001b[0m\u001b[0;34m,\u001b[0m\u001b[0miou\u001b[0m \u001b[0;34m=\u001b[0m \u001b[0mdistributed_train_epoch\u001b[0m\u001b[0;34m(\u001b[0m\u001b[0mxx\u001b[0m\u001b[0;34m,\u001b[0m\u001b[0;34m[\u001b[0m\u001b[0mm1\u001b[0m\u001b[0;34m,\u001b[0m\u001b[0mm2\u001b[0m\u001b[0;34m,\u001b[0m\u001b[0mm3\u001b[0m\u001b[0;34m,\u001b[0m\u001b[0mm4\u001b[0m\u001b[0;34m]\u001b[0m\u001b[0;34m)\u001b[0m\u001b[0;34m\u001b[0m\u001b[0;34m\u001b[0m\u001b[0m\n\u001b[1;32m     29\u001b[0m       \u001b[0mtotal_loss\u001b[0m \u001b[0;34m+=\u001b[0m \u001b[0ml1\u001b[0m\u001b[0;34m+\u001b[0m\u001b[0ml2\u001b[0m\u001b[0;34m+\u001b[0m\u001b[0ml3\u001b[0m\u001b[0;34m\u001b[0m\u001b[0;34m\u001b[0m\u001b[0m\n",
            "\u001b[0;32m<ipython-input-6-940866fd7c73>\u001b[0m in \u001b[0;36mget_faceMasks\u001b[0;34m(traingenerator)\u001b[0m\n\u001b[1;32m     14\u001b[0m       \u001b[0;32mfor\u001b[0m \u001b[0mface\u001b[0m \u001b[0;32min\u001b[0m \u001b[0mrange\u001b[0m\u001b[0;34m(\u001b[0m\u001b[0mfaceList\u001b[0m\u001b[0;34m[\u001b[0m\u001b[0;34m'Name'\u001b[0m\u001b[0;34m]\u001b[0m\u001b[0;34m.\u001b[0m\u001b[0mcount\u001b[0m\u001b[0;34m(\u001b[0m\u001b[0;34m)\u001b[0m\u001b[0;34m)\u001b[0m\u001b[0;34m:\u001b[0m\u001b[0;34m\u001b[0m\u001b[0;34m\u001b[0m\u001b[0m\n\u001b[1;32m     15\u001b[0m         arr.append(np.concatenate([allwin,np.stack([onestemp*faceList['xmin'].iloc[face],onestemp*faceList['ymin'].iloc[face],onestemp*faceList['xmax'].iloc[face],onestemp*faceList['ymax'].iloc[face],\n\u001b[0;32m---> 16\u001b[0;31m                                     onestemp*0,onestemp*0,onestemp*0,onestemp*0,onestemp*0,onestemp*0,onestemp*faceList['Name'].count()],axis=1)],axis=1))\n\u001b[0m\u001b[1;32m     17\u001b[0m       \u001b[0mious\u001b[0m \u001b[0;34m=\u001b[0m \u001b[0mget_iou\u001b[0m\u001b[0;34m(\u001b[0m\u001b[0mnp\u001b[0m\u001b[0;34m.\u001b[0m\u001b[0marray\u001b[0m\u001b[0;34m(\u001b[0m\u001b[0marr\u001b[0m\u001b[0;34m)\u001b[0m\u001b[0;34m.\u001b[0m\u001b[0mreshape\u001b[0m\u001b[0;34m(\u001b[0m\u001b[0mfaceList\u001b[0m\u001b[0;34m[\u001b[0m\u001b[0;34m'Name'\u001b[0m\u001b[0;34m]\u001b[0m\u001b[0;34m.\u001b[0m\u001b[0mcount\u001b[0m\u001b[0;34m(\u001b[0m\u001b[0;34m)\u001b[0m\u001b[0;34m*\u001b[0m\u001b[0mallwin\u001b[0m\u001b[0;34m.\u001b[0m\u001b[0mshape\u001b[0m\u001b[0;34m[\u001b[0m\u001b[0;36m0\u001b[0m\u001b[0;34m]\u001b[0m\u001b[0;34m,\u001b[0m\u001b[0;36m16\u001b[0m\u001b[0;34m)\u001b[0m\u001b[0;34m)\u001b[0m\u001b[0;34m\u001b[0m\u001b[0;34m\u001b[0m\u001b[0m\n\u001b[1;32m     18\u001b[0m       \u001b[0mious2\u001b[0m \u001b[0;34m=\u001b[0m \u001b[0mpd\u001b[0m\u001b[0;34m.\u001b[0m\u001b[0mDataFrame\u001b[0m\u001b[0;34m(\u001b[0m\u001b[0mious\u001b[0m\u001b[0;34m)\u001b[0m\u001b[0;34m\u001b[0m\u001b[0;34m\u001b[0m\u001b[0m\n",
            "\u001b[0;32m/usr/local/lib/python3.6/dist-packages/pandas/core/series.py\u001b[0m in \u001b[0;36mcount\u001b[0;34m(self, level)\u001b[0m\n\u001b[1;32m   1778\u001b[0m         \"\"\"\n\u001b[1;32m   1779\u001b[0m         \u001b[0;32mif\u001b[0m \u001b[0mlevel\u001b[0m \u001b[0;32mis\u001b[0m \u001b[0;32mNone\u001b[0m\u001b[0;34m:\u001b[0m\u001b[0;34m\u001b[0m\u001b[0;34m\u001b[0m\u001b[0m\n\u001b[0;32m-> 1780\u001b[0;31m             \u001b[0;32mreturn\u001b[0m \u001b[0mnotna\u001b[0m\u001b[0;34m(\u001b[0m\u001b[0mself\u001b[0m\u001b[0;34m.\u001b[0m\u001b[0marray\u001b[0m\u001b[0;34m)\u001b[0m\u001b[0;34m.\u001b[0m\u001b[0msum\u001b[0m\u001b[0;34m(\u001b[0m\u001b[0;34m)\u001b[0m\u001b[0;34m\u001b[0m\u001b[0;34m\u001b[0m\u001b[0m\n\u001b[0m\u001b[1;32m   1781\u001b[0m \u001b[0;34m\u001b[0m\u001b[0m\n\u001b[1;32m   1782\u001b[0m         \u001b[0;32mif\u001b[0m \u001b[0misinstance\u001b[0m\u001b[0;34m(\u001b[0m\u001b[0mlevel\u001b[0m\u001b[0;34m,\u001b[0m \u001b[0mstr\u001b[0m\u001b[0;34m)\u001b[0m\u001b[0;34m:\u001b[0m\u001b[0;34m\u001b[0m\u001b[0;34m\u001b[0m\u001b[0m\n",
            "\u001b[0;32m/usr/local/lib/python3.6/dist-packages/pandas/core/dtypes/missing.py\u001b[0m in \u001b[0;36mnotna\u001b[0;34m(obj)\u001b[0m\n\u001b[1;32m    330\u001b[0m     \u001b[0mName\u001b[0m\u001b[0;34m:\u001b[0m \u001b[0;36m1\u001b[0m\u001b[0;34m,\u001b[0m \u001b[0mdtype\u001b[0m\u001b[0;34m:\u001b[0m \u001b[0mbool\u001b[0m\u001b[0;34m\u001b[0m\u001b[0;34m\u001b[0m\u001b[0m\n\u001b[1;32m    331\u001b[0m     \"\"\"\n\u001b[0;32m--> 332\u001b[0;31m     \u001b[0mres\u001b[0m \u001b[0;34m=\u001b[0m \u001b[0misna\u001b[0m\u001b[0;34m(\u001b[0m\u001b[0mobj\u001b[0m\u001b[0;34m)\u001b[0m\u001b[0;34m\u001b[0m\u001b[0;34m\u001b[0m\u001b[0m\n\u001b[0m\u001b[1;32m    333\u001b[0m     \u001b[0;32mif\u001b[0m \u001b[0mis_scalar\u001b[0m\u001b[0;34m(\u001b[0m\u001b[0mres\u001b[0m\u001b[0;34m)\u001b[0m\u001b[0;34m:\u001b[0m\u001b[0;34m\u001b[0m\u001b[0;34m\u001b[0m\u001b[0m\n\u001b[1;32m    334\u001b[0m         \u001b[0;32mreturn\u001b[0m \u001b[0;32mnot\u001b[0m \u001b[0mres\u001b[0m\u001b[0;34m\u001b[0m\u001b[0;34m\u001b[0m\u001b[0m\n",
            "\u001b[0;32m/usr/local/lib/python3.6/dist-packages/pandas/core/dtypes/missing.py\u001b[0m in \u001b[0;36misna\u001b[0;34m(obj)\u001b[0m\n\u001b[1;32m    122\u001b[0m     \u001b[0mName\u001b[0m\u001b[0;34m:\u001b[0m \u001b[0;36m1\u001b[0m\u001b[0;34m,\u001b[0m \u001b[0mdtype\u001b[0m\u001b[0;34m:\u001b[0m \u001b[0mbool\u001b[0m\u001b[0;34m\u001b[0m\u001b[0;34m\u001b[0m\u001b[0m\n\u001b[1;32m    123\u001b[0m     \"\"\"\n\u001b[0;32m--> 124\u001b[0;31m     \u001b[0;32mreturn\u001b[0m \u001b[0m_isna\u001b[0m\u001b[0;34m(\u001b[0m\u001b[0mobj\u001b[0m\u001b[0;34m)\u001b[0m\u001b[0;34m\u001b[0m\u001b[0;34m\u001b[0m\u001b[0m\n\u001b[0m\u001b[1;32m    125\u001b[0m \u001b[0;34m\u001b[0m\u001b[0m\n\u001b[1;32m    126\u001b[0m \u001b[0;34m\u001b[0m\u001b[0m\n",
            "\u001b[0;32m/usr/local/lib/python3.6/dist-packages/pandas/core/dtypes/missing.py\u001b[0m in \u001b[0;36m_isna\u001b[0;34m(obj, inf_as_na)\u001b[0m\n\u001b[1;32m    161\u001b[0m         \u001b[0;32mreturn\u001b[0m \u001b[0m_isna_ndarraylike\u001b[0m\u001b[0;34m(\u001b[0m\u001b[0mnp\u001b[0m\u001b[0;34m.\u001b[0m\u001b[0masarray\u001b[0m\u001b[0;34m(\u001b[0m\u001b[0mobj\u001b[0m\u001b[0;34m,\u001b[0m \u001b[0mdtype\u001b[0m\u001b[0;34m=\u001b[0m\u001b[0mobject\u001b[0m\u001b[0;34m)\u001b[0m\u001b[0;34m,\u001b[0m \u001b[0minf_as_na\u001b[0m\u001b[0;34m=\u001b[0m\u001b[0minf_as_na\u001b[0m\u001b[0;34m)\u001b[0m\u001b[0;34m\u001b[0m\u001b[0;34m\u001b[0m\u001b[0m\n\u001b[1;32m    162\u001b[0m     \u001b[0;32melif\u001b[0m \u001b[0mhasattr\u001b[0m\u001b[0;34m(\u001b[0m\u001b[0mobj\u001b[0m\u001b[0;34m,\u001b[0m \u001b[0;34m\"__array__\"\u001b[0m\u001b[0;34m)\u001b[0m\u001b[0;34m:\u001b[0m\u001b[0;34m\u001b[0m\u001b[0;34m\u001b[0m\u001b[0m\n\u001b[0;32m--> 163\u001b[0;31m         \u001b[0;32mreturn\u001b[0m \u001b[0m_isna_ndarraylike\u001b[0m\u001b[0;34m(\u001b[0m\u001b[0mnp\u001b[0m\u001b[0;34m.\u001b[0m\u001b[0masarray\u001b[0m\u001b[0;34m(\u001b[0m\u001b[0mobj\u001b[0m\u001b[0;34m)\u001b[0m\u001b[0;34m,\u001b[0m \u001b[0minf_as_na\u001b[0m\u001b[0;34m=\u001b[0m\u001b[0minf_as_na\u001b[0m\u001b[0;34m)\u001b[0m\u001b[0;34m\u001b[0m\u001b[0;34m\u001b[0m\u001b[0m\n\u001b[0m\u001b[1;32m    164\u001b[0m     \u001b[0;32melse\u001b[0m\u001b[0;34m:\u001b[0m\u001b[0;34m\u001b[0m\u001b[0;34m\u001b[0m\u001b[0m\n\u001b[1;32m    165\u001b[0m         \u001b[0;32mreturn\u001b[0m \u001b[0;32mFalse\u001b[0m\u001b[0;34m\u001b[0m\u001b[0;34m\u001b[0m\u001b[0m\n",
            "\u001b[0;32m/usr/local/lib/python3.6/dist-packages/pandas/core/dtypes/missing.py\u001b[0m in \u001b[0;36m_isna_ndarraylike\u001b[0;34m(obj, inf_as_na)\u001b[0m\n\u001b[1;32m    215\u001b[0m         \u001b[0;32melse\u001b[0m\u001b[0;34m:\u001b[0m\u001b[0;34m\u001b[0m\u001b[0;34m\u001b[0m\u001b[0m\n\u001b[1;32m    216\u001b[0m             \u001b[0mresult\u001b[0m \u001b[0;34m=\u001b[0m \u001b[0mvalues\u001b[0m\u001b[0;34m.\u001b[0m\u001b[0misna\u001b[0m\u001b[0;34m(\u001b[0m\u001b[0;34m)\u001b[0m\u001b[0;34m\u001b[0m\u001b[0;34m\u001b[0m\u001b[0m\n\u001b[0;32m--> 217\u001b[0;31m     \u001b[0;32melif\u001b[0m \u001b[0mis_string_dtype\u001b[0m\u001b[0;34m(\u001b[0m\u001b[0mdtype\u001b[0m\u001b[0;34m)\u001b[0m\u001b[0;34m:\u001b[0m\u001b[0;34m\u001b[0m\u001b[0;34m\u001b[0m\u001b[0m\n\u001b[0m\u001b[1;32m    218\u001b[0m         \u001b[0mresult\u001b[0m \u001b[0;34m=\u001b[0m \u001b[0m_isna_string_dtype\u001b[0m\u001b[0;34m(\u001b[0m\u001b[0mvalues\u001b[0m\u001b[0;34m,\u001b[0m \u001b[0mdtype\u001b[0m\u001b[0;34m,\u001b[0m \u001b[0minf_as_na\u001b[0m\u001b[0;34m=\u001b[0m\u001b[0minf_as_na\u001b[0m\u001b[0;34m)\u001b[0m\u001b[0;34m\u001b[0m\u001b[0;34m\u001b[0m\u001b[0m\n\u001b[1;32m    219\u001b[0m     \u001b[0;32melif\u001b[0m \u001b[0mneeds_i8_conversion\u001b[0m\u001b[0;34m(\u001b[0m\u001b[0mdtype\u001b[0m\u001b[0;34m)\u001b[0m\u001b[0;34m:\u001b[0m\u001b[0;34m\u001b[0m\u001b[0;34m\u001b[0m\u001b[0m\n",
            "\u001b[0;32m/usr/local/lib/python3.6/dist-packages/pandas/core/dtypes/common.py\u001b[0m in \u001b[0;36mis_string_dtype\u001b[0;34m(arr_or_dtype)\u001b[0m\n\u001b[1;32m    603\u001b[0m         \u001b[0;32mreturn\u001b[0m \u001b[0many\u001b[0m\u001b[0;34m(\u001b[0m\u001b[0mis_excluded\u001b[0m\u001b[0;34m(\u001b[0m\u001b[0mdtype\u001b[0m\u001b[0;34m)\u001b[0m \u001b[0;32mfor\u001b[0m \u001b[0mis_excluded\u001b[0m \u001b[0;32min\u001b[0m \u001b[0mis_excluded_checks\u001b[0m\u001b[0;34m)\u001b[0m\u001b[0;34m\u001b[0m\u001b[0;34m\u001b[0m\u001b[0m\n\u001b[1;32m    604\u001b[0m \u001b[0;34m\u001b[0m\u001b[0m\n\u001b[0;32m--> 605\u001b[0;31m     \u001b[0;32mreturn\u001b[0m \u001b[0m_is_dtype\u001b[0m\u001b[0;34m(\u001b[0m\u001b[0marr_or_dtype\u001b[0m\u001b[0;34m,\u001b[0m \u001b[0mcondition\u001b[0m\u001b[0;34m)\u001b[0m\u001b[0;34m\u001b[0m\u001b[0;34m\u001b[0m\u001b[0m\n\u001b[0m\u001b[1;32m    606\u001b[0m \u001b[0;34m\u001b[0m\u001b[0m\n\u001b[1;32m    607\u001b[0m \u001b[0;34m\u001b[0m\u001b[0m\n",
            "\u001b[0;32m/usr/local/lib/python3.6/dist-packages/pandas/core/dtypes/common.py\u001b[0m in \u001b[0;36m_is_dtype\u001b[0;34m(arr_or_dtype, condition)\u001b[0m\n\u001b[1;32m   1560\u001b[0m     \u001b[0;32mexcept\u001b[0m \u001b[0;34m(\u001b[0m\u001b[0mTypeError\u001b[0m\u001b[0;34m,\u001b[0m \u001b[0mValueError\u001b[0m\u001b[0;34m,\u001b[0m \u001b[0mUnicodeEncodeError\u001b[0m\u001b[0;34m)\u001b[0m\u001b[0;34m:\u001b[0m\u001b[0;34m\u001b[0m\u001b[0;34m\u001b[0m\u001b[0m\n\u001b[1;32m   1561\u001b[0m         \u001b[0;32mreturn\u001b[0m \u001b[0;32mFalse\u001b[0m\u001b[0;34m\u001b[0m\u001b[0;34m\u001b[0m\u001b[0m\n\u001b[0;32m-> 1562\u001b[0;31m     \u001b[0;32mreturn\u001b[0m \u001b[0mcondition\u001b[0m\u001b[0;34m(\u001b[0m\u001b[0mdtype\u001b[0m\u001b[0;34m)\u001b[0m\u001b[0;34m\u001b[0m\u001b[0;34m\u001b[0m\u001b[0m\n\u001b[0m\u001b[1;32m   1563\u001b[0m \u001b[0;34m\u001b[0m\u001b[0m\n\u001b[1;32m   1564\u001b[0m \u001b[0;34m\u001b[0m\u001b[0m\n",
            "\u001b[0;32m/usr/local/lib/python3.6/dist-packages/pandas/core/dtypes/common.py\u001b[0m in \u001b[0;36mcondition\u001b[0;34m(dtype)\u001b[0m\n\u001b[1;32m    594\u001b[0m     \u001b[0;31m# TODO: gh-15585: consider making the checks stricter.\u001b[0m\u001b[0;34m\u001b[0m\u001b[0;34m\u001b[0m\u001b[0;34m\u001b[0m\u001b[0m\n\u001b[1;32m    595\u001b[0m     \u001b[0;32mdef\u001b[0m \u001b[0mcondition\u001b[0m\u001b[0;34m(\u001b[0m\u001b[0mdtype\u001b[0m\u001b[0;34m)\u001b[0m \u001b[0;34m->\u001b[0m \u001b[0mbool\u001b[0m\u001b[0;34m:\u001b[0m\u001b[0;34m\u001b[0m\u001b[0;34m\u001b[0m\u001b[0m\n\u001b[0;32m--> 596\u001b[0;31m         \u001b[0;32mreturn\u001b[0m \u001b[0mdtype\u001b[0m\u001b[0;34m.\u001b[0m\u001b[0mkind\u001b[0m \u001b[0;32min\u001b[0m \u001b[0;34m(\u001b[0m\u001b[0;34m\"O\"\u001b[0m\u001b[0;34m,\u001b[0m \u001b[0;34m\"S\"\u001b[0m\u001b[0;34m,\u001b[0m \u001b[0;34m\"U\"\u001b[0m\u001b[0;34m)\u001b[0m \u001b[0;32mand\u001b[0m \u001b[0;32mnot\u001b[0m \u001b[0mis_excluded_dtype\u001b[0m\u001b[0;34m(\u001b[0m\u001b[0mdtype\u001b[0m\u001b[0;34m)\u001b[0m\u001b[0;34m\u001b[0m\u001b[0;34m\u001b[0m\u001b[0m\n\u001b[0m\u001b[1;32m    597\u001b[0m \u001b[0;34m\u001b[0m\u001b[0m\n\u001b[1;32m    598\u001b[0m     \u001b[0;32mdef\u001b[0m \u001b[0mis_excluded_dtype\u001b[0m\u001b[0;34m(\u001b[0m\u001b[0mdtype\u001b[0m\u001b[0;34m)\u001b[0m \u001b[0;34m->\u001b[0m \u001b[0mbool\u001b[0m\u001b[0;34m:\u001b[0m\u001b[0;34m\u001b[0m\u001b[0;34m\u001b[0m\u001b[0m\n",
            "\u001b[0;32m/usr/local/lib/python3.6/dist-packages/pandas/core/dtypes/common.py\u001b[0m in \u001b[0;36mis_excluded_dtype\u001b[0;34m(dtype)\u001b[0m\n\u001b[1;32m    601\u001b[0m         \"\"\"\n\u001b[1;32m    602\u001b[0m         \u001b[0mis_excluded_checks\u001b[0m \u001b[0;34m=\u001b[0m \u001b[0;34m(\u001b[0m\u001b[0mis_period_dtype\u001b[0m\u001b[0;34m,\u001b[0m \u001b[0mis_interval_dtype\u001b[0m\u001b[0;34m,\u001b[0m \u001b[0mis_categorical_dtype\u001b[0m\u001b[0;34m)\u001b[0m\u001b[0;34m\u001b[0m\u001b[0;34m\u001b[0m\u001b[0m\n\u001b[0;32m--> 603\u001b[0;31m         \u001b[0;32mreturn\u001b[0m \u001b[0many\u001b[0m\u001b[0;34m(\u001b[0m\u001b[0mis_excluded\u001b[0m\u001b[0;34m(\u001b[0m\u001b[0mdtype\u001b[0m\u001b[0;34m)\u001b[0m \u001b[0;32mfor\u001b[0m \u001b[0mis_excluded\u001b[0m \u001b[0;32min\u001b[0m \u001b[0mis_excluded_checks\u001b[0m\u001b[0;34m)\u001b[0m\u001b[0;34m\u001b[0m\u001b[0;34m\u001b[0m\u001b[0m\n\u001b[0m\u001b[1;32m    604\u001b[0m \u001b[0;34m\u001b[0m\u001b[0m\n\u001b[1;32m    605\u001b[0m     \u001b[0;32mreturn\u001b[0m \u001b[0m_is_dtype\u001b[0m\u001b[0;34m(\u001b[0m\u001b[0marr_or_dtype\u001b[0m\u001b[0;34m,\u001b[0m \u001b[0mcondition\u001b[0m\u001b[0;34m)\u001b[0m\u001b[0;34m\u001b[0m\u001b[0;34m\u001b[0m\u001b[0m\n",
            "\u001b[0;32m/usr/local/lib/python3.6/dist-packages/pandas/core/dtypes/common.py\u001b[0m in \u001b[0;36m<genexpr>\u001b[0;34m(.0)\u001b[0m\n\u001b[1;32m    601\u001b[0m         \"\"\"\n\u001b[1;32m    602\u001b[0m         \u001b[0mis_excluded_checks\u001b[0m \u001b[0;34m=\u001b[0m \u001b[0;34m(\u001b[0m\u001b[0mis_period_dtype\u001b[0m\u001b[0;34m,\u001b[0m \u001b[0mis_interval_dtype\u001b[0m\u001b[0;34m,\u001b[0m \u001b[0mis_categorical_dtype\u001b[0m\u001b[0;34m)\u001b[0m\u001b[0;34m\u001b[0m\u001b[0;34m\u001b[0m\u001b[0m\n\u001b[0;32m--> 603\u001b[0;31m         \u001b[0;32mreturn\u001b[0m \u001b[0many\u001b[0m\u001b[0;34m(\u001b[0m\u001b[0mis_excluded\u001b[0m\u001b[0;34m(\u001b[0m\u001b[0mdtype\u001b[0m\u001b[0;34m)\u001b[0m \u001b[0;32mfor\u001b[0m \u001b[0mis_excluded\u001b[0m \u001b[0;32min\u001b[0m \u001b[0mis_excluded_checks\u001b[0m\u001b[0;34m)\u001b[0m\u001b[0;34m\u001b[0m\u001b[0;34m\u001b[0m\u001b[0m\n\u001b[0m\u001b[1;32m    604\u001b[0m \u001b[0;34m\u001b[0m\u001b[0m\n\u001b[1;32m    605\u001b[0m     \u001b[0;32mreturn\u001b[0m \u001b[0m_is_dtype\u001b[0m\u001b[0;34m(\u001b[0m\u001b[0marr_or_dtype\u001b[0m\u001b[0;34m,\u001b[0m \u001b[0mcondition\u001b[0m\u001b[0;34m)\u001b[0m\u001b[0;34m\u001b[0m\u001b[0;34m\u001b[0m\u001b[0m\n",
            "\u001b[0;32m/usr/local/lib/python3.6/dist-packages/pandas/core/dtypes/common.py\u001b[0m in \u001b[0;36mis_categorical_dtype\u001b[0;34m(arr_or_dtype)\u001b[0m\n\u001b[1;32m    561\u001b[0m     \u001b[0;32mif\u001b[0m \u001b[0marr_or_dtype\u001b[0m \u001b[0;32mis\u001b[0m \u001b[0;32mNone\u001b[0m\u001b[0;34m:\u001b[0m\u001b[0;34m\u001b[0m\u001b[0;34m\u001b[0m\u001b[0m\n\u001b[1;32m    562\u001b[0m         \u001b[0;32mreturn\u001b[0m \u001b[0;32mFalse\u001b[0m\u001b[0;34m\u001b[0m\u001b[0;34m\u001b[0m\u001b[0m\n\u001b[0;32m--> 563\u001b[0;31m     \u001b[0;32mreturn\u001b[0m \u001b[0mCategoricalDtype\u001b[0m\u001b[0;34m.\u001b[0m\u001b[0mis_dtype\u001b[0m\u001b[0;34m(\u001b[0m\u001b[0marr_or_dtype\u001b[0m\u001b[0;34m)\u001b[0m\u001b[0;34m\u001b[0m\u001b[0;34m\u001b[0m\u001b[0m\n\u001b[0m\u001b[1;32m    564\u001b[0m \u001b[0;34m\u001b[0m\u001b[0m\n\u001b[1;32m    565\u001b[0m \u001b[0;34m\u001b[0m\u001b[0m\n",
            "\u001b[0;31mKeyboardInterrupt\u001b[0m: "
          ]
        }
      ]
    },
    {
      "cell_type": "code",
      "metadata": {
        "id": "y_QGiM37u4Tl",
        "colab": {
          "base_uri": "https://localhost:8080/"
        },
        "outputId": "bd6d81b2-e0c1-4733-a2a6-09ff7c724c0b"
      },
      "source": [
        "with strategy.scope():\r\n",
        "  #model = tf.keras.models.load_model('drive/My Drive/Colab Notebooks/AnalyticsVidya/FaceDetection/face_detectionTPU.hdf5')\r\n",
        "  optimizer = tf.keras.optimizers.Adam(learning_rate=0.0001)\r\n",
        "custom_loop(35,120)"
      ],
      "execution_count": null,
      "outputs": [
        {
          "output_type": "stream",
          "text": [
            "Epoch: 35, Train Loss: 4082.916504, Train Accuracy: 0.537043,classification Accuracy: 0.737576, mean squared error:0.000423, iou_accuracy: 0.168044\n",
            "Epoch: 36, Train Loss: 4090.511230, Train Accuracy: 0.540465,classification Accuracy: 0.738216, mean squared error:0.000473, iou_accuracy: 0.171120\n",
            "Epoch: 37, Train Loss: 4090.035156, Train Accuracy: 0.540135,classification Accuracy: 0.737834, mean squared error:0.000493, iou_accuracy: 0.170971\n",
            "Epoch: 38, Train Loss: 4090.602539, Train Accuracy: 0.542844,classification Accuracy: 0.741490, mean squared error:0.000501, iou_accuracy: 0.171849\n",
            "Epoch: 39, Train Loss: 4095.536865, Train Accuracy: 0.544821,classification Accuracy: 0.744912, mean squared error:0.000494, iou_accuracy: 0.172118\n",
            "Epoch: 40, Train Loss: 4094.014648, Train Accuracy: 0.543019,classification Accuracy: 0.739735, mean squared error:0.000491, iou_accuracy: 0.172906\n",
            "Epoch: 41, Train Loss: 4085.377930, Train Accuracy: 0.541666,classification Accuracy: 0.732774, mean squared error:0.000490, iou_accuracy: 0.175034\n",
            "Epoch: 42, Train Loss: 4084.241455, Train Accuracy: 0.535546,classification Accuracy: 0.711572, mean squared error:0.000496, iou_accuracy: 0.179512\n",
            "Epoch: 43, Train Loss: 4084.700928, Train Accuracy: 0.528925,classification Accuracy: 0.693816, mean squared error:0.000499, iou_accuracy: 0.181767\n",
            "Epoch: 44, Train Loss: 4084.004883, Train Accuracy: 0.529179,classification Accuracy: 0.698205, mean squared error:0.000512, iou_accuracy: 0.179820\n",
            "Epoch: 45, Train Loss: 4083.278076, Train Accuracy: 0.528761,classification Accuracy: 0.692590, mean squared error:0.000512, iou_accuracy: 0.182210\n",
            "Epoch: 46, Train Loss: 4071.955811, Train Accuracy: 0.529652,classification Accuracy: 0.685978, mean squared error:0.000485, iou_accuracy: 0.186420\n",
            "Epoch: 47, Train Loss: 4082.569092, Train Accuracy: 0.530834,classification Accuracy: 0.699691, mean squared error:0.000510, iou_accuracy: 0.180733\n",
            "Epoch: 48, Train Loss: 4083.773926, Train Accuracy: 0.531970,classification Accuracy: 0.691951, mean squared error:0.000502, iou_accuracy: 0.185743\n",
            "Epoch: 49, Train Loss: 4079.758545, Train Accuracy: 0.537278,classification Accuracy: 0.695262, mean squared error:0.000499, iou_accuracy: 0.189397\n",
            "Epoch: 50, Train Loss: 4084.019043, Train Accuracy: 0.538573,classification Accuracy: 0.697755, mean squared error:0.000490, iou_accuracy: 0.189451\n",
            "Epoch: 51, Train Loss: 4074.998535, Train Accuracy: 0.533966,classification Accuracy: 0.701264, mean squared error:0.000504, iou_accuracy: 0.183082\n",
            "Epoch: 52, Train Loss: 4077.019775, Train Accuracy: 0.542170,classification Accuracy: 0.698179, mean squared error:0.000491, iou_accuracy: 0.192835\n",
            "Epoch: 53, Train Loss: 4068.932129, Train Accuracy: 0.539276,classification Accuracy: 0.692180, mean squared error:0.000498, iou_accuracy: 0.192937\n",
            "Epoch: 54, Train Loss: 4054.792236, Train Accuracy: 0.537159,classification Accuracy: 0.681399, mean squared error:0.000492, iou_accuracy: 0.196214\n",
            "Epoch: 55, Train Loss: 4078.042725, Train Accuracy: 0.529492,classification Accuracy: 0.674546, mean squared error:0.000511, iou_accuracy: 0.191963\n",
            "Epoch: 56, Train Loss: 4074.423096, Train Accuracy: 0.544457,classification Accuracy: 0.696731, mean squared error:0.000510, iou_accuracy: 0.195836\n"
          ],
          "name": "stdout"
        }
      ]
    },
    {
      "cell_type": "code",
      "metadata": {
        "id": "uu-lR-cZnG7Q"
      },
      "source": [
        "model.save('drive/My Drive/Colab Notebooks/AnalyticsVidya/FaceDetection/face_detectionTPU2.hdf5')"
      ],
      "execution_count": null,
      "outputs": []
    },
    {
      "cell_type": "code",
      "metadata": {
        "id": "2RxanhXi0an-"
      },
      "source": [
        "from matplotlib import pyplot as plt\r\n",
        "import matplotlib.patches as patches\r\n",
        "x_train,[m1,m2,m3,m4] = next(get_faceMasks(traingenerator))\r\n",
        "newm1 = np.reshape(m1,newshape=(m1.shape[0],int((IMG_SIZE*IMG_SIZE)/(8*8)),7))\r\n",
        "newm2 = np.reshape(m2,newshape=(m2.shape[0],int((IMG_SIZE*IMG_SIZE)/(16*16)),7))\r\n",
        "newm3 = np.reshape(m3,newshape=(m3.shape[0],int((IMG_SIZE*IMG_SIZE)/(32*32)),7))\r\n",
        "newm4 = np.reshape(m4,newshape=(m4.shape[0],int((IMG_SIZE*IMG_SIZE)/(64*64)),7))\r\n",
        "allanchors = np.hstack([newm1,newm2,newm3,newm4])\r\n",
        "fig,ax = plt.subplots(1,20,figsize=(100,5))\r\n",
        "for pi in range(20):\r\n",
        "  img_to_show = x_train[pi]\r\n",
        "  ax[pi].imshow(img_to_show)\r\n",
        "  boxes = allanchors[pi][allanchors[pi][:,5]==1]*IMG_SIZE\r\n",
        "  for box in range(len(boxes)):\r\n",
        "    ax[pi].add_patch(patches.Rectangle((boxes[box,0],boxes[box,1]),boxes[box,2]-boxes[box,0],boxes[box,3]-boxes[box,1],linewidth=1,edgecolor='r',facecolor='none'))\r\n",
        "plt.show()"
      ],
      "execution_count": null,
      "outputs": []
    },
    {
      "cell_type": "markdown",
      "metadata": {
        "id": "Xykofu3AanLo"
      },
      "source": [
        "####Test Pre</b>"
      ]
    },
    {
      "cell_type": "code",
      "metadata": {
        "id": "b8Aj5Q8iP7AW"
      },
      "source": [
        "from matplotlib import pyplot as plt\n",
        "from PIL import Image,ImageOps,ImageFilter\n",
        "import matplotlib.patches as patches\n",
        "import random\n",
        "import cv2\n",
        "from google.colab.patches import cv2_imshow\n",
        "\n",
        "face_cascade = cv2.CascadeClassifier('haarcascade_frontalface_default.xml')\n",
        "profile_cascade = cv2.CascadeClassifier('haarcascade_profileface.xml')\n",
        "eye_cascade = cv2.CascadeClassifier('haarcascade_eye.xml')\n",
        "item_num = random.randint(0,(x_ou[0].shape[0])-1)\n",
        "#item_num = 24\n",
        "img = Image.fromarray((x_ou[0][item_num]).astype('uint8'),mode='RGB')\n",
        "print(item_num)\n",
        "\n",
        "fig = plt.figure()\n",
        "ax = fig.add_subplot(1,1,1)\n",
        "ticks = np.arange(0, 256, 32)\n",
        "\n",
        "ax.set_xticks(ticks)\n",
        "ax.set_yticks(ticks)\n",
        "ax.grid(b=True,color='black')\n",
        "gray = cv2.cvtColor(np.array(img), cv2.COLOR_RGB2GRAY)\n",
        "\n",
        "faces = face_cascade.detectMultiScale(gray, 1.01, 10)\n",
        "for (x1,y1,w1,h1) in faces:\n",
        "    print('x1 '+str(x1)+' y1 '+str(y1)+' w1 '+str(w1)+' h1 '+str(h1))\n",
        "    img = cv2.rectangle(np.array(img),(x1,y1),(x1+w1,y1+h1),(255,0,0),2)\n",
        "    roi_color = img[y1:y1+h1, x1:x1+w1]\n",
        "\n",
        "profiles = profile_cascade.detectMultiScale(gray, 1.01, 10)\n",
        "for (x2,y2,w2,h2) in profiles:\n",
        "    print('x2 '+str(x2)+' y2 '+str(y2)+' w2 '+str(w2)+' h2 '+str(h2))\n",
        "    img = cv2.rectangle(np.array(img),(x2,y2),(x2+w2,y2+h2),(0,255,0),2)\n",
        "    roi_color = img[y2:y2+h2, x2:x2+w2]\n",
        "\n",
        "ax.imshow(img)"
      ],
      "execution_count": null,
      "outputs": []
    },
    {
      "cell_type": "markdown",
      "metadata": {
        "id": "s6LHBS_gh7o5"
      },
      "source": [
        "####Model</b>"
      ]
    },
    {
      "cell_type": "markdown",
      "metadata": {
        "id": "CUZE-tU83JTy"
      },
      "source": [
        "16 x 16 x 5 x 2"
      ]
    },
    {
      "cell_type": "code",
      "metadata": {
        "id": "6CnKGl6rOyAe"
      },
      "source": [
        "import requests\n",
        "from io import BytesIO\n",
        "import numpy as np\n",
        "from PIL import Image\n",
        "from matplotlib import pyplot as plt\n",
        "\n",
        "\n",
        "response = requests.get('https://www.bmw.co.uk/bmw-cars/explore-the-range/lifestyle/image-thumb__14913__480x270/3-series-1920x1080.jpeg?1539010591')\n",
        "img = Image.open(BytesIO(response.content))\n",
        "img2 = img.resize((32, 32), Image.NEAREST) \n",
        "img3 =np.expand_dims(img2, axis=0)\n",
        "print(img3.shape)\n",
        "p = current_model.predict(img3)\n",
        "print(p.shape)\n",
        "print(p[0])"
      ],
      "execution_count": null,
      "outputs": []
    },
    {
      "cell_type": "code",
      "metadata": {
        "id": "9KQjeOFnM_ja"
      },
      "source": [
        "def fetch_model(input_size):\n",
        "  files = os.listdir('/drive/My Drive/Colab Notebooks/AnalyticsVidya/FaceDetection')\n",
        "\n",
        "  matchs = [s for s in files if SAVED_MODEL in s]\n",
        "  \n",
        "  least_val_loss = 1000.00\n",
        "  previous_model_file = ''\n",
        "  for m in matchs:\n",
        "      if float((m.split('_',2)[2]).split('.hdf5',1)[0]) < least_val_loss:\n",
        "        least_val_loss = float((m.split('_',2)[2]).split('.hdf5',1)[0])\n",
        "        previous_model_file = '/drive/My Drive/Colab Notebooks/AnalyticsVidya/FaceDetection' + m\n",
        "  if(least_val_loss < 1000.00):\n",
        "      print(\"Loading previous model with least val loss: \"+ str(previous_model_file))\n",
        "      current_model = build_model(img_size=input_size)\n",
        "      current_model.load_weights(previous_model_file)\n",
        "  else:\n",
        "      print(\"No previous model..   creating new Model\")\n",
        "      current_model = build_model(img_size=input_size)\n",
        "  \n",
        "  return current_model"
      ],
      "execution_count": null,
      "outputs": []
    },
    {
      "cell_type": "code",
      "metadata": {
        "id": "2G-LMat4WNQ6"
      },
      "source": [
        "from tensorflow.python.ops import clip_ops\r\n",
        "from tensorflow.python.framework import constant_op\r\n",
        "\r\n",
        "\r\n",
        "def _constant_to_tensor(x, dtype):\r\n",
        "    return constant_op.constant(x, dtype=dtype)\r\n",
        "\r\n",
        "\r\n",
        "with strategy.scope():\r\n",
        "\r\n",
        "    num_classes = len(CLASSES)\r\n",
        "    \r\n",
        "    # About why we set `reduction` to 'none', please check this tutorial\r\n",
        "    # https://www.tensorflow.org/tutorials/distribute/custom_training#define_the_loss_function\r\n",
        "    # In particular, read the paragraph\r\n",
        "    #     <<If using tf.keras.losses classes (as in the example below), the loss reduction needs to be explicitly specified to be one of NONE or SUM. AUTO and SUM_OVER_BATCH_SIZE are disallowed when used with tf.distribute.Strategy.>>\r\n",
        "    \r\n",
        "    loss_object = tf.keras.losses.CategoricalCrossentropy(from_logits=False, reduction='none', label_smoothing=0.1)\r\n",
        "\r\n",
        "    def loss_function(labels, prob_dists, sample_weights=None):\r\n",
        "\r\n",
        "        if not sample_weights:\r\n",
        "            sample_weights = 1.0\r\n",
        "\r\n",
        "        # While trained with BATCH_SIZE = 8 * strategy.num_replicas_in_sync, I got `nan` values.\r\n",
        "        # Since we pass probability distribution to `CategoricalCrossentropy` with `from_logits` = False,\r\n",
        "        # which has numerical unstability issue,\r\n",
        "        # we use the same trick in the source code to avoid such unstabiltiy.\r\n",
        "        epsilon_ = _constant_to_tensor(tf.keras.backend.epsilon(), prob_dists.dtype.base_dtype)\r\n",
        "        prob_dists = clip_ops.clip_by_value(prob_dists, epsilon_, 1 - epsilon_)\r\n",
        "        \r\n",
        "        labels = tf.keras.backend.one_hot(labels, num_classes)\r\n",
        "        \r\n",
        "        loss = loss_object(labels, prob_dists)\r\n",
        "        \r\n",
        "        # About why we use `tf.nn.compute_average_loss`, please check this tutorial\r\n",
        "        # https://www.tensorflow.org/tutorials/distribute/custom_training#define_the_loss_function\r\n",
        "        \r\n",
        "        loss = tf.nn.compute_average_loss(loss, global_batch_size=BATCH_SIZE)\r\n",
        "\r\n",
        "        return loss"
      ],
      "execution_count": null,
      "outputs": []
    }
  ]
}