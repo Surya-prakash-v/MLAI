{
  "nbformat": 4,
  "nbformat_minor": 0,
  "metadata": {
    "accelerator": "TPU",
    "colab": {
      "name": "kerasDetection.ipynb",
      "provenance": [],
      "collapsed_sections": [],
      "toc_visible": true,
      "include_colab_link": true
    },
    "kernelspec": {
      "display_name": "Python 3",
      "name": "python3"
    }
  },
  "cells": [
    {
      "cell_type": "markdown",
      "metadata": {
        "id": "view-in-github",
        "colab_type": "text"
      },
      "source": [
        "<a href=\"https://colab.research.google.com/github/Surya-prakash-v/MLAI/blob/master/kerasDetection.ipynb\" target=\"_parent\"><img src=\"https://colab.research.google.com/assets/colab-badge.svg\" alt=\"Open In Colab\"/></a>"
      ]
    },
    {
      "cell_type": "markdown",
      "metadata": {
        "id": "Xma8LHnHnQIV"
      },
      "source": [
        "####Analytics Vidya</b>\n",
        "###Face detection and counting</p></b>\n",
        "<p>People detection and head counting is one of the classical albeit challenging computer vision application. For this problem, given a group selfie/photo, you are required to count the number of heads present in the picture. You are provided with a training set of images with coordinates of bounding box and head count for each image and need to predict the headcount for each image in the test set.</p></br>"
      ]
    },
    {
      "cell_type": "code",
      "metadata": {
        "colab": {
          "base_uri": "https://localhost:8080/"
        },
        "id": "pNqamX7xpIa_",
        "outputId": "cf09e162-1be9-49f8-d69e-ac7155a26512"
      },
      "source": [
        "from google.colab import drive\n",
        "drive.mount('/content/drive')"
      ],
      "execution_count": 49,
      "outputs": [
        {
          "output_type": "stream",
          "text": [
            "Drive already mounted at /content/drive; to attempt to forcibly remount, call drive.mount(\"/content/drive\", force_remount=True).\n"
          ],
          "name": "stdout"
        }
      ]
    },
    {
      "cell_type": "code",
      "metadata": {
        "id": "eDFEkL8lxPuf"
      },
      "source": [
        "import zipfile as zip\n",
        "import os\n",
        "\n",
        "zip_ref = zip.ZipFile('./drive/My Drive/Colab Notebooks/AnalyticsVidya/train_HNzkrPW (1).zip', 'r')\n",
        "zip_ref.extractall('train/')\n",
        "zip_ref.close()"
      ],
      "execution_count": 50,
      "outputs": []
    },
    {
      "cell_type": "code",
      "metadata": {
        "colab": {
          "base_uri": "https://localhost:8080/"
        },
        "id": "FazTJE_lnKGI",
        "outputId": "75886236-d05b-4047-9e4a-65e0d550b711"
      },
      "source": [
        "from keras.preprocessing.image import ImageDataGenerator\n",
        "import pandas as pd\n",
        "\n",
        "IMG_SIZE = 128\n",
        "BATCH_SIZE = 32\n",
        "traindatagen = ImageDataGenerator(rescale=1./255)\n",
        "\n",
        "traincsv = pd.read_csv('train/train.csv',dtype={'Name': str,'HeadCount':int})\n",
        "trainFaceMaskcsv = pd.read_csv('train/bbox_train.csv',dtype={'Name': str,'width':float,'height':float,'xmin':float,'ymin':float,'xmax':float,'ymax':float})\n",
        "trainFaceMaskcsv['xmin'] = trainFaceMaskcsv['xmin']*IMG_SIZE/trainFaceMaskcsv['width']\n",
        "trainFaceMaskcsv['xmax'] = trainFaceMaskcsv['xmax']*IMG_SIZE/trainFaceMaskcsv['width']\n",
        "trainFaceMaskcsv['ymin'] = trainFaceMaskcsv['ymin']*IMG_SIZE/trainFaceMaskcsv['height']\n",
        "trainFaceMaskcsv['ymax'] = trainFaceMaskcsv['ymax']*IMG_SIZE/trainFaceMaskcsv['height']\n",
        "\n",
        "traingenerator = traindatagen.flow_from_dataframe(traincsv, directory='train/image_data/',x_col='Name', y_col=['Name','HeadCount'], \n",
        "                    target_size=(IMG_SIZE,IMG_SIZE), color_mode='rgb',class_mode='raw', batch_size=32,shuffle=False, seed=10)"
      ],
      "execution_count": 51,
      "outputs": [
        {
          "output_type": "stream",
          "text": [
            "Found 5733 validated image filenames.\n"
          ],
          "name": "stdout"
        }
      ]
    },
    {
      "cell_type": "markdown",
      "metadata": {
        "id": "u1B2dxjLgnBE"
      },
      "source": [
        "####Helper functions</b>"
      ]
    },
    {
      "cell_type": "code",
      "metadata": {
        "id": "z01lq3S-eA3d"
      },
      "source": [
        "def get_faceMasks(batch_y,anchor):\n",
        "  facemasks = np.zeros(shape=(batch_y.shape[0],int(IMG_SIZE/anchor),int(IMG_SIZE/anchor),6))\n",
        "  #i = 0\n",
        "  #for element in y_train_dataset:\n",
        "  for i in range(batch_y.shape[0]):\n",
        "    faceList = trainFaceMaskcsv.where(trainFaceMaskcsv['Name']==batch_y[i][0])\n",
        "    faceList = faceList[faceList.Name.notnull()]\n",
        "    arr = []\n",
        "    for face in range(faceList['Name'].count()):\n",
        "      for row_x in range(0,IMG_SIZE,anchor):\n",
        "        for col_y in range(0,IMG_SIZE,anchor): \n",
        "          arr.append([row_x,col_y,row_x+anchor,col_y+anchor,faceList['xmin'].iloc[face],faceList['ymin'].iloc[face],faceList['xmax'].iloc[face],faceList['ymax'].iloc[face],0,0,0,0,0,faceList['Name'].count()])\n",
        "    ious = get_iou(np.array(arr))\n",
        "    ious2 = pd.DataFrame(ious)\n",
        "    idx = ious2.loc[ious2.reset_index().groupby([0,1,2,3])[12].idxmax()]\n",
        "    facemasks[i] = np.reshape((np.array(idx)/IMG_SIZE)[:,[8,9,10,11,12,13]],newshape=(int(IMG_SIZE/anchor),int(IMG_SIZE/anchor),6))\n",
        "    #i = i+1\n",
        "  #return tf.data.Dataset.from_tensor_slices(facemasks)\n",
        "  return facemasks"
      ],
      "execution_count": 52,
      "outputs": []
    },
    {
      "cell_type": "code",
      "metadata": {
        "id": "4PQyY1SCPuK3"
      },
      "source": [
        "import numpy as np\n",
        "def get_iou(a, epsilon=1e-5):\n",
        "    a[:,8] = np.maximum(a[:,0], a[:,4])\n",
        "    a[:,9] = np.maximum(a[:,1], a[:,5])\n",
        "    a[:,10] = np.minimum(a[:,2], a[:,6])\n",
        "    a[:,11] = np.minimum(a[:,3], a[:,7])\n",
        "    overlap = np.multiply(np.maximum(0,np.subtract(a[:,10],a[:,8])),np.maximum(0,np.subtract(a[:,11],a[:,9])))\n",
        "    area_a = np.multiply(np.subtract(a[:,2],a[:,0]),np.subtract(a[:,3],a[:,1]))\n",
        "    area_b = np.multiply(np.subtract(a[:,6],a[:,4]),np.subtract(a[:,7],a[:,5]))\n",
        "    area_combined = np.subtract(area_a+area_b,overlap)+epsilon\n",
        "    a[:,12] = np.divide(overlap,area_combined)*IMG_SIZE\n",
        "    return a"
      ],
      "execution_count": 53,
      "outputs": []
    },
    {
      "cell_type": "code",
      "metadata": {
        "id": "2U-pmFtXwBf9"
      },
      "source": [
        "import numpy as np\n",
        "import tensorflow as tf\n",
        "def get_output(batch):\n",
        "  while True:\n",
        "    batch_x, batch_y = next(batch)\n",
        "    #batch_x_dataset = tf.data.Dataset.from_tensor_slices(batch_x)\n",
        "    #batch_y_dataset = tf.data.Dataset.from_tensor_slices(batch_y)\n",
        "    yield (batch_x, [get_faceMasks(batch_y,8),get_faceMasks(batch_y,16),get_faceMasks(batch_y,32),get_faceMasks(batch_y,64)])\n",
        "    #yield tf.data.Dataset.from_tensor_slices((batch_x_dataset, [get_faceMasks(batch_y_dataset,8),get_faceMasks(batch_y_dataset,16),get_faceMasks(batch_y_dataset,32),get_faceMasks(batch_y_dataset,64)]))"
      ],
      "execution_count": 54,
      "outputs": []
    },
    {
      "cell_type": "markdown",
      "metadata": {
        "id": "Xykofu3AanLo"
      },
      "source": [
        "####Test Pre</b>"
      ]
    },
    {
      "cell_type": "code",
      "metadata": {
        "colab": {
          "base_uri": "https://localhost:8080/",
          "height": 273
        },
        "id": "op7MIasIL-ea",
        "outputId": "0f34511a-7171-4b51-8cb4-a6009f3ed4d9"
      },
      "source": [
        "from matplotlib import pyplot as plt\n",
        "import matplotlib.patches as patches\n",
        "\n",
        "x_train,y_train = next(get_output(traingenerator))\n",
        "for pic in range(7):\n",
        "  im = np.array(x_train[pic*4])\n",
        "  fig,ax = plt.subplots(pic,figsize = (8, 8))\n",
        "  ax.imshow(im)\n",
        "  for anchor in range(len(y_train)):\n",
        "    boxes = np.reshape(y_train[30][anchor],newshape=(int((IMG_SIZE*IMG_SIZE)/(anchor_sizes[anchor]*anchor_sizes[anchor])),13))\n",
        "    boxes = boxes[boxes[:,12]>0]*IMG_SIZE\n",
        "    for box in range(len(boxes)):\n",
        "      ax.add_patch(patches.Rectangle((boxes[box,8],boxes[box,9]),boxes[box,10]-boxes[box,8],boxes[box,11]-boxes[box,9],linewidth=1,edgecolor='r',facecolor='none'))\n",
        "plt.show()"
      ],
      "execution_count": 55,
      "outputs": [
        {
          "output_type": "error",
          "ename": "AttributeError",
          "evalue": "ignored",
          "traceback": [
            "\u001b[0;31m---------------------------------------------------------------------------\u001b[0m",
            "\u001b[0;31mAttributeError\u001b[0m                            Traceback (most recent call last)",
            "\u001b[0;32m<ipython-input-55-7a16fec453ee>\u001b[0m in \u001b[0;36m<module>\u001b[0;34m()\u001b[0m\n\u001b[1;32m      6\u001b[0m   \u001b[0mim\u001b[0m \u001b[0;34m=\u001b[0m \u001b[0mnp\u001b[0m\u001b[0;34m.\u001b[0m\u001b[0marray\u001b[0m\u001b[0;34m(\u001b[0m\u001b[0mx_train\u001b[0m\u001b[0;34m[\u001b[0m\u001b[0mpic\u001b[0m\u001b[0;34m*\u001b[0m\u001b[0;36m4\u001b[0m\u001b[0;34m]\u001b[0m\u001b[0;34m)\u001b[0m\u001b[0;34m\u001b[0m\u001b[0;34m\u001b[0m\u001b[0m\n\u001b[1;32m      7\u001b[0m   \u001b[0mfig\u001b[0m\u001b[0;34m,\u001b[0m\u001b[0max\u001b[0m \u001b[0;34m=\u001b[0m \u001b[0mplt\u001b[0m\u001b[0;34m.\u001b[0m\u001b[0msubplots\u001b[0m\u001b[0;34m(\u001b[0m\u001b[0mpic\u001b[0m\u001b[0;34m,\u001b[0m\u001b[0mfigsize\u001b[0m \u001b[0;34m=\u001b[0m \u001b[0;34m(\u001b[0m\u001b[0;36m8\u001b[0m\u001b[0;34m,\u001b[0m \u001b[0;36m8\u001b[0m\u001b[0;34m)\u001b[0m\u001b[0;34m)\u001b[0m\u001b[0;34m\u001b[0m\u001b[0;34m\u001b[0m\u001b[0m\n\u001b[0;32m----> 8\u001b[0;31m   \u001b[0max\u001b[0m\u001b[0;34m.\u001b[0m\u001b[0mimshow\u001b[0m\u001b[0;34m(\u001b[0m\u001b[0mim\u001b[0m\u001b[0;34m)\u001b[0m\u001b[0;34m\u001b[0m\u001b[0;34m\u001b[0m\u001b[0m\n\u001b[0m\u001b[1;32m      9\u001b[0m   \u001b[0;32mfor\u001b[0m \u001b[0manchor\u001b[0m \u001b[0;32min\u001b[0m \u001b[0mrange\u001b[0m\u001b[0;34m(\u001b[0m\u001b[0mlen\u001b[0m\u001b[0;34m(\u001b[0m\u001b[0my_train\u001b[0m\u001b[0;34m)\u001b[0m\u001b[0;34m)\u001b[0m\u001b[0;34m:\u001b[0m\u001b[0;34m\u001b[0m\u001b[0;34m\u001b[0m\u001b[0m\n\u001b[1;32m     10\u001b[0m     \u001b[0mboxes\u001b[0m \u001b[0;34m=\u001b[0m \u001b[0mnp\u001b[0m\u001b[0;34m.\u001b[0m\u001b[0mreshape\u001b[0m\u001b[0;34m(\u001b[0m\u001b[0my_train\u001b[0m\u001b[0;34m[\u001b[0m\u001b[0;36m30\u001b[0m\u001b[0;34m]\u001b[0m\u001b[0;34m[\u001b[0m\u001b[0manchor\u001b[0m\u001b[0;34m]\u001b[0m\u001b[0;34m,\u001b[0m\u001b[0mnewshape\u001b[0m\u001b[0;34m=\u001b[0m\u001b[0;34m(\u001b[0m\u001b[0mint\u001b[0m\u001b[0;34m(\u001b[0m\u001b[0;34m(\u001b[0m\u001b[0mIMG_SIZE\u001b[0m\u001b[0;34m*\u001b[0m\u001b[0mIMG_SIZE\u001b[0m\u001b[0;34m)\u001b[0m\u001b[0;34m/\u001b[0m\u001b[0;34m(\u001b[0m\u001b[0manchor_sizes\u001b[0m\u001b[0;34m[\u001b[0m\u001b[0manchor\u001b[0m\u001b[0;34m]\u001b[0m\u001b[0;34m*\u001b[0m\u001b[0manchor_sizes\u001b[0m\u001b[0;34m[\u001b[0m\u001b[0manchor\u001b[0m\u001b[0;34m]\u001b[0m\u001b[0;34m)\u001b[0m\u001b[0;34m)\u001b[0m\u001b[0;34m,\u001b[0m\u001b[0;36m13\u001b[0m\u001b[0;34m)\u001b[0m\u001b[0;34m)\u001b[0m\u001b[0;34m\u001b[0m\u001b[0;34m\u001b[0m\u001b[0m\n",
            "\u001b[0;31mAttributeError\u001b[0m: 'numpy.ndarray' object has no attribute 'imshow'"
          ]
        },
        {
          "output_type": "display_data",
          "data": {
            "text/plain": [
              "<Figure size 576x576 with 0 Axes>"
            ]
          },
          "metadata": {
            "tags": []
          }
        }
      ]
    },
    {
      "cell_type": "code",
      "metadata": {
        "id": "LV4r9SJdrRXQ"
      },
      "source": [
        "import tensorflow as tf\n",
        "from tensorflow.python.keras.layers import (Flatten,LeakyReLU,AveragePooling2D,concatenate,\n",
        "                                            Reshape,Activation,Input, Conv2D, MaxPooling2D,\n",
        "                                            BatchNormalization, GlobalAveragePooling2D,SpatialDropout2D)\n",
        "def resNetBlock(input_image,num):\n",
        "\n",
        "  layer1 = Conv2D(128, 3, strides=(1,1), padding='same', use_bias=False,name ='rone'+str(num))(input_image)\n",
        "  layer1 = BatchNormalization()(layer1)\n",
        "  layer1 = SpatialDropout2D(0.25)(layer1)\n",
        "  layer1 = LeakyReLU(alpha=0.1)(layer1)\n",
        "  \n",
        "  layer3 = Conv2D(64, 1, strides=(1,1), padding='same', use_bias=False,name='rtwo'+str(num))(layer1)\n",
        "  layer3 = BatchNormalization()(layer3)\n",
        "  layer3 = SpatialDropout2D(0.25)(layer3)\n",
        "  layer3 = LeakyReLU(alpha=0.1)(layer3)\n",
        "    \n",
        "  return layer3  \n",
        "\n",
        "def build_model(img_size,img_ch):\n",
        "  input_sh = Input(shape=(img_size,img_size,img_ch)) \n",
        "\n",
        "  layer_1 = Conv2D(16, 3, strides=(1,1), padding='same', use_bias=False,name='one')(input_sh)\n",
        "  layer_1 = BatchNormalization()(layer_1)\n",
        "  layer_1 = SpatialDropout2D(0.25)(layer_1)\n",
        "  layer_1 = LeakyReLU(alpha=0.1)(layer_1)\n",
        "  \n",
        "  layer_2 = Conv2D(32, 3, strides=(1,1), padding='same', use_bias=False,name='two')(layer_1)\n",
        "  layer_2 = BatchNormalization()(layer_2)\n",
        "  layer_2 = SpatialDropout2D(0.25)(layer_2)\n",
        "  layer_2 = LeakyReLU(alpha=0.1)(layer_2)\n",
        "  \n",
        "  layer_3 = Conv2D(64, 3, strides=(1,1), padding='same', use_bias=False,name='three')(layer_2)\n",
        "  layer_3 = BatchNormalization()(layer_3)\n",
        "  layer_3 = SpatialDropout2D(0.25)(layer_3)\n",
        "  layer_3 = LeakyReLU(alpha=0.1)(layer_3)\n",
        " \n",
        "  resNetBlock1 = resNetBlock(layer_3,1)\n",
        "  concact1 = concatenate([resNetBlock1, layer_3])\n",
        "  layer_l = LeakyReLU(alpha=0.1)(concact1)\n",
        "  maxpool1 = MaxPooling2D(pool_size=(2, 2))(layer_l)\n",
        "\n",
        "  resNetBlock2 = resNetBlock(maxpool1,2)\n",
        "  outputy = Conv2D(8, 1, strides=(1,1), padding='same', use_bias=False,name='four')(resNetBlock2)\n",
        "  concact2 = concatenate([resNetBlock2, maxpool1])\n",
        "  layer_l2 = LeakyReLU(alpha=0.1)(concact2)\n",
        "  maxpool2 = MaxPooling2D(pool_size=(2, 2))(layer_l2)\n",
        "\n",
        "  resNetBlock3 = resNetBlock(maxpool2,3)\n",
        "  outputz = Conv2D(16, 1, strides=(1,1), padding='same', use_bias=False,name='five')(resNetBlock3)\n",
        "  concact3 = concatenate([resNetBlock3, maxpool2])\n",
        "  layer_l3 = LeakyReLU(alpha=0.1)(concact3)\n",
        "  maxpool3 = MaxPooling2D(pool_size=(2, 2))(layer_l3)\n",
        "  \n",
        "  resNetBlock4 = resNetBlock(maxpool3,4)\n",
        "  outputw = Conv2D(32, 1, strides=(1,1), padding='same', use_bias=False,name='six')(resNetBlock4)\n",
        "  concact4 = concatenate([resNetBlock4, maxpool3])\n",
        "  layer_l4 = LeakyReLU(alpha=0.1)(concact4)\n",
        "  maxpool4 = MaxPooling2D(pool_size=(2, 2))(layer_l4)\n",
        "  \n",
        "  resNetBlock5 = resNetBlock(maxpool4,5)\n",
        "  outputk = Conv2D(6, 1, strides=(1,1), padding='same', use_bias=False,name='seven')(resNetBlock5)\n",
        "  concact5 = concatenate([resNetBlock5, maxpool4])\n",
        "  layer_l5 = LeakyReLU(alpha=0.1)(concact5)\n",
        "  maxpool5 = MaxPooling2D(pool_size=(2, 2))(layer_l5)\n",
        "  \n",
        "  resNetBlock6 = resNetBlock(maxpool5,6)\n",
        "  concact6 = concatenate([resNetBlock6, maxpool5])\n",
        "  layer_l6 = LeakyReLU(alpha=0.1)(concact6)\n",
        "\n",
        "  layer_ant = Conv2D(6, (1,1), strides=(1,1), padding='same', use_bias=False, name='eight')(layer_l6)\n",
        "  layer_plus1 = Conv2D(6, (3,3), strides=(1,1),  use_bias=False, name='nine')(layer_ant)\n",
        "  layer_plus2 = Conv2D(6, (3,3), strides=(1,1),padding='same', use_bias=False, name='ten')(layer_plus1)\n",
        "  #layer_plus3 = Conv2D(6, (3,3), strides=(1,1),  use_bias=False, name='eleven')(layer_plus2)\n",
        "  #model = Model(input_sh,outputs=[outputw,outputk,layer_ant,layer_plus2,layer_plus3])\n",
        "  model = tf.keras.Model(input_sh,outputs=[outputw,outputk,layer_ant,layer_plus2])\n",
        "  return model"
      ],
      "execution_count": 56,
      "outputs": []
    },
    {
      "cell_type": "code",
      "metadata": {
        "id": "pqGFM7p8sHv1"
      },
      "source": [
        "import tensorflow_addons as tfa\n",
        "def my_loss5(y_true,y_pred):\n",
        "  loss_classification = tf.math.abs(tf.math.subtract(y_true[:,:,:,4],y_pred[:,:,:,4]))\n",
        "  loss_regression = tf.math.abs(tf.math.subtract(y_true[:,:,:,5],y_pred[:,:,:,5]))\n",
        "  gl = tfa.losses.GIoULoss()\n",
        "  loss = tf.keras.losses.Reduction.SUM(loss_classification)+tf.keras.losses.Reduction.SUM(loss_regression)+tf.keras.losses.Reduction.SUM(gl(y_true[:,:,:,0:4], y_pred[:,:,:,0:4]))\n",
        "  return loss"
      ],
      "execution_count": 61,
      "outputs": []
    },
    {
      "cell_type": "code",
      "metadata": {
        "colab": {
          "base_uri": "https://localhost:8080/"
        },
        "id": "tHaBc4qQ99Yf",
        "outputId": "1e1b1298-2dd0-4fbf-e12b-31bfe36913fb"
      },
      "source": [
        "current_model= build_model(None,3)\r\n",
        "current_model.summary()"
      ],
      "execution_count": 58,
      "outputs": [
        {
          "output_type": "stream",
          "text": [
            "Model: \"model_1\"\n",
            "__________________________________________________________________________________________________\n",
            "Layer (type)                    Output Shape         Param #     Connected to                     \n",
            "==================================================================================================\n",
            "input_2 (InputLayer)            [(None, None, None,  0                                            \n",
            "__________________________________________________________________________________________________\n",
            "one (Conv2D)                    (None, None, None, 1 432         input_2[0][0]                    \n",
            "__________________________________________________________________________________________________\n",
            "batch_normalization_15 (BatchNo (None, None, None, 1 64          one[0][0]                        \n",
            "__________________________________________________________________________________________________\n",
            "spatial_dropout2d_15 (SpatialDr (None, None, None, 1 0           batch_normalization_15[0][0]     \n",
            "__________________________________________________________________________________________________\n",
            "leaky_re_lu_21 (LeakyReLU)      (None, None, None, 1 0           spatial_dropout2d_15[0][0]       \n",
            "__________________________________________________________________________________________________\n",
            "two (Conv2D)                    (None, None, None, 3 4608        leaky_re_lu_21[0][0]             \n",
            "__________________________________________________________________________________________________\n",
            "batch_normalization_16 (BatchNo (None, None, None, 3 128         two[0][0]                        \n",
            "__________________________________________________________________________________________________\n",
            "spatial_dropout2d_16 (SpatialDr (None, None, None, 3 0           batch_normalization_16[0][0]     \n",
            "__________________________________________________________________________________________________\n",
            "leaky_re_lu_22 (LeakyReLU)      (None, None, None, 3 0           spatial_dropout2d_16[0][0]       \n",
            "__________________________________________________________________________________________________\n",
            "three (Conv2D)                  (None, None, None, 6 18432       leaky_re_lu_22[0][0]             \n",
            "__________________________________________________________________________________________________\n",
            "batch_normalization_17 (BatchNo (None, None, None, 6 256         three[0][0]                      \n",
            "__________________________________________________________________________________________________\n",
            "spatial_dropout2d_17 (SpatialDr (None, None, None, 6 0           batch_normalization_17[0][0]     \n",
            "__________________________________________________________________________________________________\n",
            "leaky_re_lu_23 (LeakyReLU)      (None, None, None, 6 0           spatial_dropout2d_17[0][0]       \n",
            "__________________________________________________________________________________________________\n",
            "rone1 (Conv2D)                  (None, None, None, 1 73728       leaky_re_lu_23[0][0]             \n",
            "__________________________________________________________________________________________________\n",
            "batch_normalization_18 (BatchNo (None, None, None, 1 512         rone1[0][0]                      \n",
            "__________________________________________________________________________________________________\n",
            "spatial_dropout2d_18 (SpatialDr (None, None, None, 1 0           batch_normalization_18[0][0]     \n",
            "__________________________________________________________________________________________________\n",
            "leaky_re_lu_24 (LeakyReLU)      (None, None, None, 1 0           spatial_dropout2d_18[0][0]       \n",
            "__________________________________________________________________________________________________\n",
            "rtwo1 (Conv2D)                  (None, None, None, 6 8192        leaky_re_lu_24[0][0]             \n",
            "__________________________________________________________________________________________________\n",
            "batch_normalization_19 (BatchNo (None, None, None, 6 256         rtwo1[0][0]                      \n",
            "__________________________________________________________________________________________________\n",
            "spatial_dropout2d_19 (SpatialDr (None, None, None, 6 0           batch_normalization_19[0][0]     \n",
            "__________________________________________________________________________________________________\n",
            "leaky_re_lu_25 (LeakyReLU)      (None, None, None, 6 0           spatial_dropout2d_19[0][0]       \n",
            "__________________________________________________________________________________________________\n",
            "concatenate_6 (Concatenate)     (None, None, None, 1 0           leaky_re_lu_25[0][0]             \n",
            "                                                                 leaky_re_lu_23[0][0]             \n",
            "__________________________________________________________________________________________________\n",
            "leaky_re_lu_26 (LeakyReLU)      (None, None, None, 1 0           concatenate_6[0][0]              \n",
            "__________________________________________________________________________________________________\n",
            "max_pooling2d_5 (MaxPooling2D)  (None, None, None, 1 0           leaky_re_lu_26[0][0]             \n",
            "__________________________________________________________________________________________________\n",
            "rone2 (Conv2D)                  (None, None, None, 1 147456      max_pooling2d_5[0][0]            \n",
            "__________________________________________________________________________________________________\n",
            "batch_normalization_20 (BatchNo (None, None, None, 1 512         rone2[0][0]                      \n",
            "__________________________________________________________________________________________________\n",
            "spatial_dropout2d_20 (SpatialDr (None, None, None, 1 0           batch_normalization_20[0][0]     \n",
            "__________________________________________________________________________________________________\n",
            "leaky_re_lu_27 (LeakyReLU)      (None, None, None, 1 0           spatial_dropout2d_20[0][0]       \n",
            "__________________________________________________________________________________________________\n",
            "rtwo2 (Conv2D)                  (None, None, None, 6 8192        leaky_re_lu_27[0][0]             \n",
            "__________________________________________________________________________________________________\n",
            "batch_normalization_21 (BatchNo (None, None, None, 6 256         rtwo2[0][0]                      \n",
            "__________________________________________________________________________________________________\n",
            "spatial_dropout2d_21 (SpatialDr (None, None, None, 6 0           batch_normalization_21[0][0]     \n",
            "__________________________________________________________________________________________________\n",
            "leaky_re_lu_28 (LeakyReLU)      (None, None, None, 6 0           spatial_dropout2d_21[0][0]       \n",
            "__________________________________________________________________________________________________\n",
            "concatenate_7 (Concatenate)     (None, None, None, 1 0           leaky_re_lu_28[0][0]             \n",
            "                                                                 max_pooling2d_5[0][0]            \n",
            "__________________________________________________________________________________________________\n",
            "leaky_re_lu_29 (LeakyReLU)      (None, None, None, 1 0           concatenate_7[0][0]              \n",
            "__________________________________________________________________________________________________\n",
            "max_pooling2d_6 (MaxPooling2D)  (None, None, None, 1 0           leaky_re_lu_29[0][0]             \n",
            "__________________________________________________________________________________________________\n",
            "rone3 (Conv2D)                  (None, None, None, 1 221184      max_pooling2d_6[0][0]            \n",
            "__________________________________________________________________________________________________\n",
            "batch_normalization_22 (BatchNo (None, None, None, 1 512         rone3[0][0]                      \n",
            "__________________________________________________________________________________________________\n",
            "spatial_dropout2d_22 (SpatialDr (None, None, None, 1 0           batch_normalization_22[0][0]     \n",
            "__________________________________________________________________________________________________\n",
            "leaky_re_lu_30 (LeakyReLU)      (None, None, None, 1 0           spatial_dropout2d_22[0][0]       \n",
            "__________________________________________________________________________________________________\n",
            "rtwo3 (Conv2D)                  (None, None, None, 6 8192        leaky_re_lu_30[0][0]             \n",
            "__________________________________________________________________________________________________\n",
            "batch_normalization_23 (BatchNo (None, None, None, 6 256         rtwo3[0][0]                      \n",
            "__________________________________________________________________________________________________\n",
            "spatial_dropout2d_23 (SpatialDr (None, None, None, 6 0           batch_normalization_23[0][0]     \n",
            "__________________________________________________________________________________________________\n",
            "leaky_re_lu_31 (LeakyReLU)      (None, None, None, 6 0           spatial_dropout2d_23[0][0]       \n",
            "__________________________________________________________________________________________________\n",
            "concatenate_8 (Concatenate)     (None, None, None, 2 0           leaky_re_lu_31[0][0]             \n",
            "                                                                 max_pooling2d_6[0][0]            \n",
            "__________________________________________________________________________________________________\n",
            "leaky_re_lu_32 (LeakyReLU)      (None, None, None, 2 0           concatenate_8[0][0]              \n",
            "__________________________________________________________________________________________________\n",
            "max_pooling2d_7 (MaxPooling2D)  (None, None, None, 2 0           leaky_re_lu_32[0][0]             \n",
            "__________________________________________________________________________________________________\n",
            "rone4 (Conv2D)                  (None, None, None, 1 294912      max_pooling2d_7[0][0]            \n",
            "__________________________________________________________________________________________________\n",
            "batch_normalization_24 (BatchNo (None, None, None, 1 512         rone4[0][0]                      \n",
            "__________________________________________________________________________________________________\n",
            "spatial_dropout2d_24 (SpatialDr (None, None, None, 1 0           batch_normalization_24[0][0]     \n",
            "__________________________________________________________________________________________________\n",
            "leaky_re_lu_33 (LeakyReLU)      (None, None, None, 1 0           spatial_dropout2d_24[0][0]       \n",
            "__________________________________________________________________________________________________\n",
            "rtwo4 (Conv2D)                  (None, None, None, 6 8192        leaky_re_lu_33[0][0]             \n",
            "__________________________________________________________________________________________________\n",
            "batch_normalization_25 (BatchNo (None, None, None, 6 256         rtwo4[0][0]                      \n",
            "__________________________________________________________________________________________________\n",
            "spatial_dropout2d_25 (SpatialDr (None, None, None, 6 0           batch_normalization_25[0][0]     \n",
            "__________________________________________________________________________________________________\n",
            "leaky_re_lu_34 (LeakyReLU)      (None, None, None, 6 0           spatial_dropout2d_25[0][0]       \n",
            "__________________________________________________________________________________________________\n",
            "concatenate_9 (Concatenate)     (None, None, None, 3 0           leaky_re_lu_34[0][0]             \n",
            "                                                                 max_pooling2d_7[0][0]            \n",
            "__________________________________________________________________________________________________\n",
            "leaky_re_lu_35 (LeakyReLU)      (None, None, None, 3 0           concatenate_9[0][0]              \n",
            "__________________________________________________________________________________________________\n",
            "max_pooling2d_8 (MaxPooling2D)  (None, None, None, 3 0           leaky_re_lu_35[0][0]             \n",
            "__________________________________________________________________________________________________\n",
            "rone5 (Conv2D)                  (None, None, None, 1 368640      max_pooling2d_8[0][0]            \n",
            "__________________________________________________________________________________________________\n",
            "batch_normalization_26 (BatchNo (None, None, None, 1 512         rone5[0][0]                      \n",
            "__________________________________________________________________________________________________\n",
            "spatial_dropout2d_26 (SpatialDr (None, None, None, 1 0           batch_normalization_26[0][0]     \n",
            "__________________________________________________________________________________________________\n",
            "leaky_re_lu_36 (LeakyReLU)      (None, None, None, 1 0           spatial_dropout2d_26[0][0]       \n",
            "__________________________________________________________________________________________________\n",
            "rtwo5 (Conv2D)                  (None, None, None, 6 8192        leaky_re_lu_36[0][0]             \n",
            "__________________________________________________________________________________________________\n",
            "batch_normalization_27 (BatchNo (None, None, None, 6 256         rtwo5[0][0]                      \n",
            "__________________________________________________________________________________________________\n",
            "spatial_dropout2d_27 (SpatialDr (None, None, None, 6 0           batch_normalization_27[0][0]     \n",
            "__________________________________________________________________________________________________\n",
            "leaky_re_lu_37 (LeakyReLU)      (None, None, None, 6 0           spatial_dropout2d_27[0][0]       \n",
            "__________________________________________________________________________________________________\n",
            "concatenate_10 (Concatenate)    (None, None, None, 3 0           leaky_re_lu_37[0][0]             \n",
            "                                                                 max_pooling2d_8[0][0]            \n",
            "__________________________________________________________________________________________________\n",
            "leaky_re_lu_38 (LeakyReLU)      (None, None, None, 3 0           concatenate_10[0][0]             \n",
            "__________________________________________________________________________________________________\n",
            "max_pooling2d_9 (MaxPooling2D)  (None, None, None, 3 0           leaky_re_lu_38[0][0]             \n",
            "__________________________________________________________________________________________________\n",
            "rone6 (Conv2D)                  (None, None, None, 1 442368      max_pooling2d_9[0][0]            \n",
            "__________________________________________________________________________________________________\n",
            "batch_normalization_28 (BatchNo (None, None, None, 1 512         rone6[0][0]                      \n",
            "__________________________________________________________________________________________________\n",
            "spatial_dropout2d_28 (SpatialDr (None, None, None, 1 0           batch_normalization_28[0][0]     \n",
            "__________________________________________________________________________________________________\n",
            "leaky_re_lu_39 (LeakyReLU)      (None, None, None, 1 0           spatial_dropout2d_28[0][0]       \n",
            "__________________________________________________________________________________________________\n",
            "rtwo6 (Conv2D)                  (None, None, None, 6 8192        leaky_re_lu_39[0][0]             \n",
            "__________________________________________________________________________________________________\n",
            "batch_normalization_29 (BatchNo (None, None, None, 6 256         rtwo6[0][0]                      \n",
            "__________________________________________________________________________________________________\n",
            "spatial_dropout2d_29 (SpatialDr (None, None, None, 6 0           batch_normalization_29[0][0]     \n",
            "__________________________________________________________________________________________________\n",
            "leaky_re_lu_40 (LeakyReLU)      (None, None, None, 6 0           spatial_dropout2d_29[0][0]       \n",
            "__________________________________________________________________________________________________\n",
            "concatenate_11 (Concatenate)    (None, None, None, 4 0           leaky_re_lu_40[0][0]             \n",
            "                                                                 max_pooling2d_9[0][0]            \n",
            "__________________________________________________________________________________________________\n",
            "leaky_re_lu_41 (LeakyReLU)      (None, None, None, 4 0           concatenate_11[0][0]             \n",
            "__________________________________________________________________________________________________\n",
            "eight (Conv2D)                  (None, None, None, 6 2688        leaky_re_lu_41[0][0]             \n",
            "__________________________________________________________________________________________________\n",
            "nine (Conv2D)                   (None, None, None, 6 324         eight[0][0]                      \n",
            "__________________________________________________________________________________________________\n",
            "six (Conv2D)                    (None, None, None, 3 2048        leaky_re_lu_34[0][0]             \n",
            "__________________________________________________________________________________________________\n",
            "seven (Conv2D)                  (None, None, None, 6 384         leaky_re_lu_37[0][0]             \n",
            "__________________________________________________________________________________________________\n",
            "ten (Conv2D)                    (None, None, None, 6 324         nine[0][0]                       \n",
            "==================================================================================================\n",
            "Total params: 1,631,736\n",
            "Trainable params: 1,629,208\n",
            "Non-trainable params: 2,528\n",
            "__________________________________________________________________________________________________\n"
          ],
          "name": "stdout"
        }
      ]
    },
    {
      "cell_type": "code",
      "metadata": {
        "id": "HA-AC3XArEo7"
      },
      "source": [
        "from tensorflow.python.keras.callbacks import ModelCheckpoint\r\n",
        "def learning_strategy(image_size,previous_epoch,epoch_size,batchsize,learning_rate):\r\n",
        "  \r\n",
        "  tf.keras.backend.clear_session()\r\n",
        "\r\n",
        "  resolver = tf.distribute.cluster_resolver.TPUClusterResolver(tpu='grpc://' + os.environ['COLAB_TPU_ADDR'])\r\n",
        "  tf.config.experimental_connect_to_cluster(resolver)\r\n",
        "  tf.tpu.experimental.initialize_tpu_system(resolver)\r\n",
        "  print(\"All devices: \", tf.config.list_logical_devices('TPU'))\r\n",
        "  strategy = tf.distribute.TPUStrategy(resolver)\r\n",
        "\r\n",
        "  with strategy.scope():\r\n",
        "    modelx = build_model(image_size,3)\r\n",
        "  #current_model.compile(loss={'six':my_loss5,'seven':my_loss5,'eight':my_loss5,'ten':my_loss5,'eleven':my_loss5} ,optimizer='adam',metrics=['accuracy'])\r\n",
        "    modelx.compile(loss={'six':my_loss5,'seven':my_loss5,'eight':my_loss5,'ten':my_loss5} ,optimizer='adam',metrics=['accuracy'])\r\n",
        "    #modelx.compile(loss='mape' ,optimizer='adam',metrics=['accuracy'])\r\n",
        "  \r\n",
        "    #checkpoint = ModelCheckpoint('drive/My Drive/Colab Notebooks/AnalyticsVidya/FaceDetection/Weights/face_detectionTPU.hdf5',monitor='ten_accuracy',\r\n",
        "     #                        save_weights_only=False,save_best_only = True,mode='auto')\r\n",
        "  #checkpoint = ModelCheckpoint('/gdrive/My Drive/tpuweights/vddddAssignment4Amodel_{epoch:02d}_{val_loss:.2f}.hdf5',monitor='val_acc',save_weights_only=True,save_best_only = True,mode='auto')\r\n",
        "    #modelx.fit(get_output(traingenerator),initial_epoch=previous_epoch,epochs=epoch_size,steps_per_epoch=int(5733/32),verbose=1,callbacks=[checkpoint])   \r\n",
        "    modelx.fit(get_output(traingenerator),initial_epoch=previous_epoch,epochs=epoch_size,steps_per_epoch=int(5733/32),verbose=1)                       "
      ],
      "execution_count": 59,
      "outputs": []
    },
    {
      "cell_type": "code",
      "metadata": {
        "colab": {
          "base_uri": "https://localhost:8080/",
          "height": 1000
        },
        "id": "yXIo_F7Oso6C",
        "outputId": "14b8c1cd-627b-4752-8f7a-1509ae1eaaac"
      },
      "source": [
        "learning_strategy(128,0,20,32,0.001)"
      ],
      "execution_count": 62,
      "outputs": [
        {
          "output_type": "stream",
          "text": [
            "WARNING:tensorflow:TPU system grpc://10.28.178.50:8470 has already been initialized. Reinitializing the TPU can cause previously created variables on TPU to be lost.\n"
          ],
          "name": "stdout"
        },
        {
          "output_type": "stream",
          "text": [
            "WARNING:tensorflow:TPU system grpc://10.28.178.50:8470 has already been initialized. Reinitializing the TPU can cause previously created variables on TPU to be lost.\n"
          ],
          "name": "stderr"
        },
        {
          "output_type": "stream",
          "text": [
            "INFO:tensorflow:Initializing the TPU system: grpc://10.28.178.50:8470\n"
          ],
          "name": "stdout"
        },
        {
          "output_type": "stream",
          "text": [
            "INFO:tensorflow:Initializing the TPU system: grpc://10.28.178.50:8470\n"
          ],
          "name": "stderr"
        },
        {
          "output_type": "stream",
          "text": [
            "INFO:tensorflow:Clearing out eager caches\n"
          ],
          "name": "stdout"
        },
        {
          "output_type": "stream",
          "text": [
            "INFO:tensorflow:Clearing out eager caches\n"
          ],
          "name": "stderr"
        },
        {
          "output_type": "stream",
          "text": [
            "INFO:tensorflow:Finished initializing TPU system.\n"
          ],
          "name": "stdout"
        },
        {
          "output_type": "stream",
          "text": [
            "INFO:tensorflow:Finished initializing TPU system.\n"
          ],
          "name": "stderr"
        },
        {
          "output_type": "stream",
          "text": [
            "All devices:  [LogicalDevice(name='/job:worker/replica:0/task:0/device:TPU:7', device_type='TPU'), LogicalDevice(name='/job:worker/replica:0/task:0/device:TPU:6', device_type='TPU'), LogicalDevice(name='/job:worker/replica:0/task:0/device:TPU:5', device_type='TPU'), LogicalDevice(name='/job:worker/replica:0/task:0/device:TPU:4', device_type='TPU'), LogicalDevice(name='/job:worker/replica:0/task:0/device:TPU:3', device_type='TPU'), LogicalDevice(name='/job:worker/replica:0/task:0/device:TPU:0', device_type='TPU'), LogicalDevice(name='/job:worker/replica:0/task:0/device:TPU:1', device_type='TPU'), LogicalDevice(name='/job:worker/replica:0/task:0/device:TPU:2', device_type='TPU')]\n",
            "INFO:tensorflow:Found TPU system:\n"
          ],
          "name": "stdout"
        },
        {
          "output_type": "stream",
          "text": [
            "INFO:tensorflow:Found TPU system:\n"
          ],
          "name": "stderr"
        },
        {
          "output_type": "stream",
          "text": [
            "INFO:tensorflow:*** Num TPU Cores: 8\n"
          ],
          "name": "stdout"
        },
        {
          "output_type": "stream",
          "text": [
            "INFO:tensorflow:*** Num TPU Cores: 8\n"
          ],
          "name": "stderr"
        },
        {
          "output_type": "stream",
          "text": [
            "INFO:tensorflow:*** Num TPU Workers: 1\n"
          ],
          "name": "stdout"
        },
        {
          "output_type": "stream",
          "text": [
            "INFO:tensorflow:*** Num TPU Workers: 1\n"
          ],
          "name": "stderr"
        },
        {
          "output_type": "stream",
          "text": [
            "INFO:tensorflow:*** Num TPU Cores Per Worker: 8\n"
          ],
          "name": "stdout"
        },
        {
          "output_type": "stream",
          "text": [
            "INFO:tensorflow:*** Num TPU Cores Per Worker: 8\n"
          ],
          "name": "stderr"
        },
        {
          "output_type": "stream",
          "text": [
            "INFO:tensorflow:*** Available Device: _DeviceAttributes(/job:localhost/replica:0/task:0/device:CPU:0, CPU, 0, 0)\n"
          ],
          "name": "stdout"
        },
        {
          "output_type": "stream",
          "text": [
            "INFO:tensorflow:*** Available Device: _DeviceAttributes(/job:localhost/replica:0/task:0/device:CPU:0, CPU, 0, 0)\n"
          ],
          "name": "stderr"
        },
        {
          "output_type": "stream",
          "text": [
            "INFO:tensorflow:*** Available Device: _DeviceAttributes(/job:worker/replica:0/task:0/device:CPU:0, CPU, 0, 0)\n"
          ],
          "name": "stdout"
        },
        {
          "output_type": "stream",
          "text": [
            "INFO:tensorflow:*** Available Device: _DeviceAttributes(/job:worker/replica:0/task:0/device:CPU:0, CPU, 0, 0)\n"
          ],
          "name": "stderr"
        },
        {
          "output_type": "stream",
          "text": [
            "INFO:tensorflow:*** Available Device: _DeviceAttributes(/job:worker/replica:0/task:0/device:TPU:0, TPU, 0, 0)\n"
          ],
          "name": "stdout"
        },
        {
          "output_type": "stream",
          "text": [
            "INFO:tensorflow:*** Available Device: _DeviceAttributes(/job:worker/replica:0/task:0/device:TPU:0, TPU, 0, 0)\n"
          ],
          "name": "stderr"
        },
        {
          "output_type": "stream",
          "text": [
            "INFO:tensorflow:*** Available Device: _DeviceAttributes(/job:worker/replica:0/task:0/device:TPU:1, TPU, 0, 0)\n"
          ],
          "name": "stdout"
        },
        {
          "output_type": "stream",
          "text": [
            "INFO:tensorflow:*** Available Device: _DeviceAttributes(/job:worker/replica:0/task:0/device:TPU:1, TPU, 0, 0)\n"
          ],
          "name": "stderr"
        },
        {
          "output_type": "stream",
          "text": [
            "INFO:tensorflow:*** Available Device: _DeviceAttributes(/job:worker/replica:0/task:0/device:TPU:2, TPU, 0, 0)\n"
          ],
          "name": "stdout"
        },
        {
          "output_type": "stream",
          "text": [
            "INFO:tensorflow:*** Available Device: _DeviceAttributes(/job:worker/replica:0/task:0/device:TPU:2, TPU, 0, 0)\n"
          ],
          "name": "stderr"
        },
        {
          "output_type": "stream",
          "text": [
            "INFO:tensorflow:*** Available Device: _DeviceAttributes(/job:worker/replica:0/task:0/device:TPU:3, TPU, 0, 0)\n"
          ],
          "name": "stdout"
        },
        {
          "output_type": "stream",
          "text": [
            "INFO:tensorflow:*** Available Device: _DeviceAttributes(/job:worker/replica:0/task:0/device:TPU:3, TPU, 0, 0)\n"
          ],
          "name": "stderr"
        },
        {
          "output_type": "stream",
          "text": [
            "INFO:tensorflow:*** Available Device: _DeviceAttributes(/job:worker/replica:0/task:0/device:TPU:4, TPU, 0, 0)\n"
          ],
          "name": "stdout"
        },
        {
          "output_type": "stream",
          "text": [
            "INFO:tensorflow:*** Available Device: _DeviceAttributes(/job:worker/replica:0/task:0/device:TPU:4, TPU, 0, 0)\n"
          ],
          "name": "stderr"
        },
        {
          "output_type": "stream",
          "text": [
            "INFO:tensorflow:*** Available Device: _DeviceAttributes(/job:worker/replica:0/task:0/device:TPU:5, TPU, 0, 0)\n"
          ],
          "name": "stdout"
        },
        {
          "output_type": "stream",
          "text": [
            "INFO:tensorflow:*** Available Device: _DeviceAttributes(/job:worker/replica:0/task:0/device:TPU:5, TPU, 0, 0)\n"
          ],
          "name": "stderr"
        },
        {
          "output_type": "stream",
          "text": [
            "INFO:tensorflow:*** Available Device: _DeviceAttributes(/job:worker/replica:0/task:0/device:TPU:6, TPU, 0, 0)\n"
          ],
          "name": "stdout"
        },
        {
          "output_type": "stream",
          "text": [
            "INFO:tensorflow:*** Available Device: _DeviceAttributes(/job:worker/replica:0/task:0/device:TPU:6, TPU, 0, 0)\n"
          ],
          "name": "stderr"
        },
        {
          "output_type": "stream",
          "text": [
            "INFO:tensorflow:*** Available Device: _DeviceAttributes(/job:worker/replica:0/task:0/device:TPU:7, TPU, 0, 0)\n"
          ],
          "name": "stdout"
        },
        {
          "output_type": "stream",
          "text": [
            "INFO:tensorflow:*** Available Device: _DeviceAttributes(/job:worker/replica:0/task:0/device:TPU:7, TPU, 0, 0)\n"
          ],
          "name": "stderr"
        },
        {
          "output_type": "stream",
          "text": [
            "INFO:tensorflow:*** Available Device: _DeviceAttributes(/job:worker/replica:0/task:0/device:TPU_SYSTEM:0, TPU_SYSTEM, 0, 0)\n"
          ],
          "name": "stdout"
        },
        {
          "output_type": "stream",
          "text": [
            "INFO:tensorflow:*** Available Device: _DeviceAttributes(/job:worker/replica:0/task:0/device:TPU_SYSTEM:0, TPU_SYSTEM, 0, 0)\n"
          ],
          "name": "stderr"
        },
        {
          "output_type": "stream",
          "text": [
            "INFO:tensorflow:*** Available Device: _DeviceAttributes(/job:worker/replica:0/task:0/device:XLA_CPU:0, XLA_CPU, 0, 0)\n"
          ],
          "name": "stdout"
        },
        {
          "output_type": "stream",
          "text": [
            "INFO:tensorflow:*** Available Device: _DeviceAttributes(/job:worker/replica:0/task:0/device:XLA_CPU:0, XLA_CPU, 0, 0)\n"
          ],
          "name": "stderr"
        },
        {
          "output_type": "stream",
          "text": [
            "Epoch 1/20\n"
          ],
          "name": "stdout"
        },
        {
          "output_type": "error",
          "ename": "ValueError",
          "evalue": "ignored",
          "traceback": [
            "\u001b[0;31m---------------------------------------------------------------------------\u001b[0m",
            "\u001b[0;31mValueError\u001b[0m                                Traceback (most recent call last)",
            "\u001b[0;32m<ipython-input-62-9bd60259e2ad>\u001b[0m in \u001b[0;36m<module>\u001b[0;34m()\u001b[0m\n\u001b[0;32m----> 1\u001b[0;31m \u001b[0mlearning_strategy\u001b[0m\u001b[0;34m(\u001b[0m\u001b[0;36m128\u001b[0m\u001b[0;34m,\u001b[0m\u001b[0;36m0\u001b[0m\u001b[0;34m,\u001b[0m\u001b[0;36m20\u001b[0m\u001b[0;34m,\u001b[0m\u001b[0;36m32\u001b[0m\u001b[0;34m,\u001b[0m\u001b[0;36m0.001\u001b[0m\u001b[0;34m)\u001b[0m\u001b[0;34m\u001b[0m\u001b[0;34m\u001b[0m\u001b[0m\n\u001b[0m",
            "\u001b[0;32m<ipython-input-59-ccce18ad9c2a>\u001b[0m in \u001b[0;36mlearning_strategy\u001b[0;34m(image_size, previous_epoch, epoch_size, batchsize, learning_rate)\u001b[0m\n\u001b[1;32m     21\u001b[0m   \u001b[0;31m#checkpoint = ModelCheckpoint('/gdrive/My Drive/tpuweights/vddddAssignment4Amodel_{epoch:02d}_{val_loss:.2f}.hdf5',monitor='val_acc',save_weights_only=True,save_best_only = True,mode='auto')\u001b[0m\u001b[0;34m\u001b[0m\u001b[0;34m\u001b[0m\u001b[0;34m\u001b[0m\u001b[0m\n\u001b[1;32m     22\u001b[0m     \u001b[0;31m#modelx.fit(get_output(traingenerator),initial_epoch=previous_epoch,epochs=epoch_size,steps_per_epoch=int(5733/32),verbose=1,callbacks=[checkpoint])\u001b[0m\u001b[0;34m\u001b[0m\u001b[0;34m\u001b[0m\u001b[0;34m\u001b[0m\u001b[0m\n\u001b[0;32m---> 23\u001b[0;31m     \u001b[0mmodelx\u001b[0m\u001b[0;34m.\u001b[0m\u001b[0mfit\u001b[0m\u001b[0;34m(\u001b[0m\u001b[0mget_output\u001b[0m\u001b[0;34m(\u001b[0m\u001b[0mtraingenerator\u001b[0m\u001b[0;34m)\u001b[0m\u001b[0;34m,\u001b[0m\u001b[0minitial_epoch\u001b[0m\u001b[0;34m=\u001b[0m\u001b[0mprevious_epoch\u001b[0m\u001b[0;34m,\u001b[0m\u001b[0mepochs\u001b[0m\u001b[0;34m=\u001b[0m\u001b[0mepoch_size\u001b[0m\u001b[0;34m,\u001b[0m\u001b[0msteps_per_epoch\u001b[0m\u001b[0;34m=\u001b[0m\u001b[0mint\u001b[0m\u001b[0;34m(\u001b[0m\u001b[0;36m5733\u001b[0m\u001b[0;34m/\u001b[0m\u001b[0;36m32\u001b[0m\u001b[0;34m)\u001b[0m\u001b[0;34m,\u001b[0m\u001b[0mverbose\u001b[0m\u001b[0;34m=\u001b[0m\u001b[0;36m1\u001b[0m\u001b[0;34m)\u001b[0m\u001b[0;34m\u001b[0m\u001b[0;34m\u001b[0m\u001b[0m\n\u001b[0m",
            "\u001b[0;32m/usr/local/lib/python3.6/dist-packages/tensorflow/python/keras/engine/training.py\u001b[0m in \u001b[0;36mfit\u001b[0;34m(self, x, y, batch_size, epochs, verbose, callbacks, validation_split, validation_data, shuffle, class_weight, sample_weight, initial_epoch, steps_per_epoch, validation_steps, validation_batch_size, validation_freq, max_queue_size, workers, use_multiprocessing)\u001b[0m\n\u001b[1;32m   1098\u001b[0m                 _r=1):\n\u001b[1;32m   1099\u001b[0m               \u001b[0mcallbacks\u001b[0m\u001b[0;34m.\u001b[0m\u001b[0mon_train_batch_begin\u001b[0m\u001b[0;34m(\u001b[0m\u001b[0mstep\u001b[0m\u001b[0;34m)\u001b[0m\u001b[0;34m\u001b[0m\u001b[0;34m\u001b[0m\u001b[0m\n\u001b[0;32m-> 1100\u001b[0;31m               \u001b[0mtmp_logs\u001b[0m \u001b[0;34m=\u001b[0m \u001b[0mself\u001b[0m\u001b[0;34m.\u001b[0m\u001b[0mtrain_function\u001b[0m\u001b[0;34m(\u001b[0m\u001b[0miterator\u001b[0m\u001b[0;34m)\u001b[0m\u001b[0;34m\u001b[0m\u001b[0;34m\u001b[0m\u001b[0m\n\u001b[0m\u001b[1;32m   1101\u001b[0m               \u001b[0;32mif\u001b[0m \u001b[0mdata_handler\u001b[0m\u001b[0;34m.\u001b[0m\u001b[0mshould_sync\u001b[0m\u001b[0;34m:\u001b[0m\u001b[0;34m\u001b[0m\u001b[0;34m\u001b[0m\u001b[0m\n\u001b[1;32m   1102\u001b[0m                 \u001b[0mcontext\u001b[0m\u001b[0;34m.\u001b[0m\u001b[0masync_wait\u001b[0m\u001b[0;34m(\u001b[0m\u001b[0;34m)\u001b[0m\u001b[0;34m\u001b[0m\u001b[0;34m\u001b[0m\u001b[0m\n",
            "\u001b[0;32m/usr/local/lib/python3.6/dist-packages/tensorflow/python/eager/def_function.py\u001b[0m in \u001b[0;36m__call__\u001b[0;34m(self, *args, **kwds)\u001b[0m\n\u001b[1;32m    826\u001b[0m     \u001b[0mtracing_count\u001b[0m \u001b[0;34m=\u001b[0m \u001b[0mself\u001b[0m\u001b[0;34m.\u001b[0m\u001b[0mexperimental_get_tracing_count\u001b[0m\u001b[0;34m(\u001b[0m\u001b[0;34m)\u001b[0m\u001b[0;34m\u001b[0m\u001b[0;34m\u001b[0m\u001b[0m\n\u001b[1;32m    827\u001b[0m     \u001b[0;32mwith\u001b[0m \u001b[0mtrace\u001b[0m\u001b[0;34m.\u001b[0m\u001b[0mTrace\u001b[0m\u001b[0;34m(\u001b[0m\u001b[0mself\u001b[0m\u001b[0;34m.\u001b[0m\u001b[0m_name\u001b[0m\u001b[0;34m)\u001b[0m \u001b[0;32mas\u001b[0m \u001b[0mtm\u001b[0m\u001b[0;34m:\u001b[0m\u001b[0;34m\u001b[0m\u001b[0;34m\u001b[0m\u001b[0m\n\u001b[0;32m--> 828\u001b[0;31m       \u001b[0mresult\u001b[0m \u001b[0;34m=\u001b[0m \u001b[0mself\u001b[0m\u001b[0;34m.\u001b[0m\u001b[0m_call\u001b[0m\u001b[0;34m(\u001b[0m\u001b[0;34m*\u001b[0m\u001b[0margs\u001b[0m\u001b[0;34m,\u001b[0m \u001b[0;34m**\u001b[0m\u001b[0mkwds\u001b[0m\u001b[0;34m)\u001b[0m\u001b[0;34m\u001b[0m\u001b[0;34m\u001b[0m\u001b[0m\n\u001b[0m\u001b[1;32m    829\u001b[0m       \u001b[0mcompiler\u001b[0m \u001b[0;34m=\u001b[0m \u001b[0;34m\"xla\"\u001b[0m \u001b[0;32mif\u001b[0m \u001b[0mself\u001b[0m\u001b[0;34m.\u001b[0m\u001b[0m_experimental_compile\u001b[0m \u001b[0;32melse\u001b[0m \u001b[0;34m\"nonXla\"\u001b[0m\u001b[0;34m\u001b[0m\u001b[0;34m\u001b[0m\u001b[0m\n\u001b[1;32m    830\u001b[0m       \u001b[0mnew_tracing_count\u001b[0m \u001b[0;34m=\u001b[0m \u001b[0mself\u001b[0m\u001b[0;34m.\u001b[0m\u001b[0mexperimental_get_tracing_count\u001b[0m\u001b[0;34m(\u001b[0m\u001b[0;34m)\u001b[0m\u001b[0;34m\u001b[0m\u001b[0;34m\u001b[0m\u001b[0m\n",
            "\u001b[0;32m/usr/local/lib/python3.6/dist-packages/tensorflow/python/eager/def_function.py\u001b[0m in \u001b[0;36m_call\u001b[0;34m(self, *args, **kwds)\u001b[0m\n\u001b[1;32m    869\u001b[0m       \u001b[0;31m# This is the first call of __call__, so we have to initialize.\u001b[0m\u001b[0;34m\u001b[0m\u001b[0;34m\u001b[0m\u001b[0;34m\u001b[0m\u001b[0m\n\u001b[1;32m    870\u001b[0m       \u001b[0minitializers\u001b[0m \u001b[0;34m=\u001b[0m \u001b[0;34m[\u001b[0m\u001b[0;34m]\u001b[0m\u001b[0;34m\u001b[0m\u001b[0;34m\u001b[0m\u001b[0m\n\u001b[0;32m--> 871\u001b[0;31m       \u001b[0mself\u001b[0m\u001b[0;34m.\u001b[0m\u001b[0m_initialize\u001b[0m\u001b[0;34m(\u001b[0m\u001b[0margs\u001b[0m\u001b[0;34m,\u001b[0m \u001b[0mkwds\u001b[0m\u001b[0;34m,\u001b[0m \u001b[0madd_initializers_to\u001b[0m\u001b[0;34m=\u001b[0m\u001b[0minitializers\u001b[0m\u001b[0;34m)\u001b[0m\u001b[0;34m\u001b[0m\u001b[0;34m\u001b[0m\u001b[0m\n\u001b[0m\u001b[1;32m    872\u001b[0m     \u001b[0;32mfinally\u001b[0m\u001b[0;34m:\u001b[0m\u001b[0;34m\u001b[0m\u001b[0;34m\u001b[0m\u001b[0m\n\u001b[1;32m    873\u001b[0m       \u001b[0;31m# At this point we know that the initialization is complete (or less\u001b[0m\u001b[0;34m\u001b[0m\u001b[0;34m\u001b[0m\u001b[0;34m\u001b[0m\u001b[0m\n",
            "\u001b[0;32m/usr/local/lib/python3.6/dist-packages/tensorflow/python/eager/def_function.py\u001b[0m in \u001b[0;36m_initialize\u001b[0;34m(self, args, kwds, add_initializers_to)\u001b[0m\n\u001b[1;32m    724\u001b[0m     self._concrete_stateful_fn = (\n\u001b[1;32m    725\u001b[0m         self._stateful_fn._get_concrete_function_internal_garbage_collected(  # pylint: disable=protected-access\n\u001b[0;32m--> 726\u001b[0;31m             *args, **kwds))\n\u001b[0m\u001b[1;32m    727\u001b[0m \u001b[0;34m\u001b[0m\u001b[0m\n\u001b[1;32m    728\u001b[0m     \u001b[0;32mdef\u001b[0m \u001b[0minvalid_creator_scope\u001b[0m\u001b[0;34m(\u001b[0m\u001b[0;34m*\u001b[0m\u001b[0munused_args\u001b[0m\u001b[0;34m,\u001b[0m \u001b[0;34m**\u001b[0m\u001b[0munused_kwds\u001b[0m\u001b[0;34m)\u001b[0m\u001b[0;34m:\u001b[0m\u001b[0;34m\u001b[0m\u001b[0;34m\u001b[0m\u001b[0m\n",
            "\u001b[0;32m/usr/local/lib/python3.6/dist-packages/tensorflow/python/eager/function.py\u001b[0m in \u001b[0;36m_get_concrete_function_internal_garbage_collected\u001b[0;34m(self, *args, **kwargs)\u001b[0m\n\u001b[1;32m   2967\u001b[0m       \u001b[0margs\u001b[0m\u001b[0;34m,\u001b[0m \u001b[0mkwargs\u001b[0m \u001b[0;34m=\u001b[0m \u001b[0;32mNone\u001b[0m\u001b[0;34m,\u001b[0m \u001b[0;32mNone\u001b[0m\u001b[0;34m\u001b[0m\u001b[0;34m\u001b[0m\u001b[0m\n\u001b[1;32m   2968\u001b[0m     \u001b[0;32mwith\u001b[0m \u001b[0mself\u001b[0m\u001b[0;34m.\u001b[0m\u001b[0m_lock\u001b[0m\u001b[0;34m:\u001b[0m\u001b[0;34m\u001b[0m\u001b[0;34m\u001b[0m\u001b[0m\n\u001b[0;32m-> 2969\u001b[0;31m       \u001b[0mgraph_function\u001b[0m\u001b[0;34m,\u001b[0m \u001b[0m_\u001b[0m \u001b[0;34m=\u001b[0m \u001b[0mself\u001b[0m\u001b[0;34m.\u001b[0m\u001b[0m_maybe_define_function\u001b[0m\u001b[0;34m(\u001b[0m\u001b[0margs\u001b[0m\u001b[0;34m,\u001b[0m \u001b[0mkwargs\u001b[0m\u001b[0;34m)\u001b[0m\u001b[0;34m\u001b[0m\u001b[0;34m\u001b[0m\u001b[0m\n\u001b[0m\u001b[1;32m   2970\u001b[0m     \u001b[0;32mreturn\u001b[0m \u001b[0mgraph_function\u001b[0m\u001b[0;34m\u001b[0m\u001b[0;34m\u001b[0m\u001b[0m\n\u001b[1;32m   2971\u001b[0m \u001b[0;34m\u001b[0m\u001b[0m\n",
            "\u001b[0;32m/usr/local/lib/python3.6/dist-packages/tensorflow/python/eager/function.py\u001b[0m in \u001b[0;36m_maybe_define_function\u001b[0;34m(self, args, kwargs)\u001b[0m\n\u001b[1;32m   3359\u001b[0m \u001b[0;34m\u001b[0m\u001b[0m\n\u001b[1;32m   3360\u001b[0m           \u001b[0mself\u001b[0m\u001b[0;34m.\u001b[0m\u001b[0m_function_cache\u001b[0m\u001b[0;34m.\u001b[0m\u001b[0mmissed\u001b[0m\u001b[0;34m.\u001b[0m\u001b[0madd\u001b[0m\u001b[0;34m(\u001b[0m\u001b[0mcall_context_key\u001b[0m\u001b[0;34m)\u001b[0m\u001b[0;34m\u001b[0m\u001b[0;34m\u001b[0m\u001b[0m\n\u001b[0;32m-> 3361\u001b[0;31m           \u001b[0mgraph_function\u001b[0m \u001b[0;34m=\u001b[0m \u001b[0mself\u001b[0m\u001b[0;34m.\u001b[0m\u001b[0m_create_graph_function\u001b[0m\u001b[0;34m(\u001b[0m\u001b[0margs\u001b[0m\u001b[0;34m,\u001b[0m \u001b[0mkwargs\u001b[0m\u001b[0;34m)\u001b[0m\u001b[0;34m\u001b[0m\u001b[0;34m\u001b[0m\u001b[0m\n\u001b[0m\u001b[1;32m   3362\u001b[0m           \u001b[0mself\u001b[0m\u001b[0;34m.\u001b[0m\u001b[0m_function_cache\u001b[0m\u001b[0;34m.\u001b[0m\u001b[0mprimary\u001b[0m\u001b[0;34m[\u001b[0m\u001b[0mcache_key\u001b[0m\u001b[0;34m]\u001b[0m \u001b[0;34m=\u001b[0m \u001b[0mgraph_function\u001b[0m\u001b[0;34m\u001b[0m\u001b[0;34m\u001b[0m\u001b[0m\n\u001b[1;32m   3363\u001b[0m \u001b[0;34m\u001b[0m\u001b[0m\n",
            "\u001b[0;32m/usr/local/lib/python3.6/dist-packages/tensorflow/python/eager/function.py\u001b[0m in \u001b[0;36m_create_graph_function\u001b[0;34m(self, args, kwargs, override_flat_arg_shapes)\u001b[0m\n\u001b[1;32m   3204\u001b[0m             \u001b[0marg_names\u001b[0m\u001b[0;34m=\u001b[0m\u001b[0marg_names\u001b[0m\u001b[0;34m,\u001b[0m\u001b[0;34m\u001b[0m\u001b[0;34m\u001b[0m\u001b[0m\n\u001b[1;32m   3205\u001b[0m             \u001b[0moverride_flat_arg_shapes\u001b[0m\u001b[0;34m=\u001b[0m\u001b[0moverride_flat_arg_shapes\u001b[0m\u001b[0;34m,\u001b[0m\u001b[0;34m\u001b[0m\u001b[0;34m\u001b[0m\u001b[0m\n\u001b[0;32m-> 3206\u001b[0;31m             capture_by_value=self._capture_by_value),\n\u001b[0m\u001b[1;32m   3207\u001b[0m         \u001b[0mself\u001b[0m\u001b[0;34m.\u001b[0m\u001b[0m_function_attributes\u001b[0m\u001b[0;34m,\u001b[0m\u001b[0;34m\u001b[0m\u001b[0;34m\u001b[0m\u001b[0m\n\u001b[1;32m   3208\u001b[0m         \u001b[0mfunction_spec\u001b[0m\u001b[0;34m=\u001b[0m\u001b[0mself\u001b[0m\u001b[0;34m.\u001b[0m\u001b[0mfunction_spec\u001b[0m\u001b[0;34m,\u001b[0m\u001b[0;34m\u001b[0m\u001b[0;34m\u001b[0m\u001b[0m\n",
            "\u001b[0;32m/usr/local/lib/python3.6/dist-packages/tensorflow/python/framework/func_graph.py\u001b[0m in \u001b[0;36mfunc_graph_from_py_func\u001b[0;34m(name, python_func, args, kwargs, signature, func_graph, autograph, autograph_options, add_control_dependencies, arg_names, op_return_value, collections, capture_by_value, override_flat_arg_shapes)\u001b[0m\n\u001b[1;32m    988\u001b[0m         \u001b[0m_\u001b[0m\u001b[0;34m,\u001b[0m \u001b[0moriginal_func\u001b[0m \u001b[0;34m=\u001b[0m \u001b[0mtf_decorator\u001b[0m\u001b[0;34m.\u001b[0m\u001b[0munwrap\u001b[0m\u001b[0;34m(\u001b[0m\u001b[0mpython_func\u001b[0m\u001b[0;34m)\u001b[0m\u001b[0;34m\u001b[0m\u001b[0;34m\u001b[0m\u001b[0m\n\u001b[1;32m    989\u001b[0m \u001b[0;34m\u001b[0m\u001b[0m\n\u001b[0;32m--> 990\u001b[0;31m       \u001b[0mfunc_outputs\u001b[0m \u001b[0;34m=\u001b[0m \u001b[0mpython_func\u001b[0m\u001b[0;34m(\u001b[0m\u001b[0;34m*\u001b[0m\u001b[0mfunc_args\u001b[0m\u001b[0;34m,\u001b[0m \u001b[0;34m**\u001b[0m\u001b[0mfunc_kwargs\u001b[0m\u001b[0;34m)\u001b[0m\u001b[0;34m\u001b[0m\u001b[0;34m\u001b[0m\u001b[0m\n\u001b[0m\u001b[1;32m    991\u001b[0m \u001b[0;34m\u001b[0m\u001b[0m\n\u001b[1;32m    992\u001b[0m       \u001b[0;31m# invariant: `func_outputs` contains only Tensors, CompositeTensors,\u001b[0m\u001b[0;34m\u001b[0m\u001b[0;34m\u001b[0m\u001b[0;34m\u001b[0m\u001b[0m\n",
            "\u001b[0;32m/usr/local/lib/python3.6/dist-packages/tensorflow/python/eager/def_function.py\u001b[0m in \u001b[0;36mwrapped_fn\u001b[0;34m(*args, **kwds)\u001b[0m\n\u001b[1;32m    632\u001b[0m             \u001b[0mxla_context\u001b[0m\u001b[0;34m.\u001b[0m\u001b[0mExit\u001b[0m\u001b[0;34m(\u001b[0m\u001b[0;34m)\u001b[0m\u001b[0;34m\u001b[0m\u001b[0;34m\u001b[0m\u001b[0m\n\u001b[1;32m    633\u001b[0m         \u001b[0;32melse\u001b[0m\u001b[0;34m:\u001b[0m\u001b[0;34m\u001b[0m\u001b[0;34m\u001b[0m\u001b[0m\n\u001b[0;32m--> 634\u001b[0;31m           \u001b[0mout\u001b[0m \u001b[0;34m=\u001b[0m \u001b[0mweak_wrapped_fn\u001b[0m\u001b[0;34m(\u001b[0m\u001b[0;34m)\u001b[0m\u001b[0;34m.\u001b[0m\u001b[0m__wrapped__\u001b[0m\u001b[0;34m(\u001b[0m\u001b[0;34m*\u001b[0m\u001b[0margs\u001b[0m\u001b[0;34m,\u001b[0m \u001b[0;34m**\u001b[0m\u001b[0mkwds\u001b[0m\u001b[0;34m)\u001b[0m\u001b[0;34m\u001b[0m\u001b[0;34m\u001b[0m\u001b[0m\n\u001b[0m\u001b[1;32m    635\u001b[0m         \u001b[0;32mreturn\u001b[0m \u001b[0mout\u001b[0m\u001b[0;34m\u001b[0m\u001b[0;34m\u001b[0m\u001b[0m\n\u001b[1;32m    636\u001b[0m \u001b[0;34m\u001b[0m\u001b[0m\n",
            "\u001b[0;32m/usr/local/lib/python3.6/dist-packages/tensorflow/python/framework/func_graph.py\u001b[0m in \u001b[0;36mwrapper\u001b[0;34m(*args, **kwargs)\u001b[0m\n\u001b[1;32m    975\u001b[0m           \u001b[0;32mexcept\u001b[0m \u001b[0mException\u001b[0m \u001b[0;32mas\u001b[0m \u001b[0me\u001b[0m\u001b[0;34m:\u001b[0m  \u001b[0;31m# pylint:disable=broad-except\u001b[0m\u001b[0;34m\u001b[0m\u001b[0;34m\u001b[0m\u001b[0m\n\u001b[1;32m    976\u001b[0m             \u001b[0;32mif\u001b[0m \u001b[0mhasattr\u001b[0m\u001b[0;34m(\u001b[0m\u001b[0me\u001b[0m\u001b[0;34m,\u001b[0m \u001b[0;34m\"ag_error_metadata\"\u001b[0m\u001b[0;34m)\u001b[0m\u001b[0;34m:\u001b[0m\u001b[0;34m\u001b[0m\u001b[0;34m\u001b[0m\u001b[0m\n\u001b[0;32m--> 977\u001b[0;31m               \u001b[0;32mraise\u001b[0m \u001b[0me\u001b[0m\u001b[0;34m.\u001b[0m\u001b[0mag_error_metadata\u001b[0m\u001b[0;34m.\u001b[0m\u001b[0mto_exception\u001b[0m\u001b[0;34m(\u001b[0m\u001b[0me\u001b[0m\u001b[0;34m)\u001b[0m\u001b[0;34m\u001b[0m\u001b[0;34m\u001b[0m\u001b[0m\n\u001b[0m\u001b[1;32m    978\u001b[0m             \u001b[0;32melse\u001b[0m\u001b[0;34m:\u001b[0m\u001b[0;34m\u001b[0m\u001b[0;34m\u001b[0m\u001b[0m\n\u001b[1;32m    979\u001b[0m               \u001b[0;32mraise\u001b[0m\u001b[0;34m\u001b[0m\u001b[0;34m\u001b[0m\u001b[0m\n",
            "\u001b[0;31mValueError\u001b[0m: in user code:\n\n    /usr/local/lib/python3.6/dist-packages/tensorflow/python/keras/engine/training.py:805 train_function  *\n        return step_function(self, iterator)\n    /usr/local/lib/python3.6/dist-packages/tensorflow/python/keras/engine/training.py:795 step_function  **\n        outputs = model.distribute_strategy.run(run_step, args=(data,))\n    /usr/local/lib/python3.6/dist-packages/tensorflow/python/distribute/tpu_strategy.py:279 run\n        return self.extended.tpu_run(fn, args, kwargs, options)\n    /usr/local/lib/python3.6/dist-packages/tensorflow/python/distribute/tpu_strategy.py:1296 tpu_run\n        return func(args, kwargs)\n    /usr/local/lib/python3.6/dist-packages/tensorflow/python/distribute/tpu_strategy.py:1364 tpu_function\n        xla_options=tpu.XLAOptions(use_spmd_for_xla_partitioning=False))\n    /usr/local/lib/python3.6/dist-packages/tensorflow/python/tpu/tpu.py:968 replicate\n        xla_options=xla_options)[1]\n    /usr/local/lib/python3.6/dist-packages/tensorflow/python/tpu/tpu.py:1439 split_compile_and_replicate\n        outputs = computation(*computation_inputs)\n    /usr/local/lib/python3.6/dist-packages/tensorflow/python/distribute/tpu_strategy.py:1325 replicated_fn\n        result[0] = fn(*replica_args, **replica_kwargs)\n    /usr/local/lib/python3.6/dist-packages/tensorflow/python/keras/engine/training.py:788 run_step  **\n        outputs = model.train_step(data)\n    /usr/local/lib/python3.6/dist-packages/tensorflow/python/keras/engine/training.py:757 train_step\n        self.optimizer.minimize(loss, self.trainable_variables, tape=tape)\n    /usr/local/lib/python3.6/dist-packages/tensorflow/python/keras/optimizer_v2/optimizer_v2.py:498 minimize\n        return self.apply_gradients(grads_and_vars, name=name)\n    /usr/local/lib/python3.6/dist-packages/tensorflow/python/keras/optimizer_v2/optimizer_v2.py:598 apply_gradients\n        grads_and_vars = optimizer_utils.filter_empty_gradients(grads_and_vars)\n    /usr/local/lib/python3.6/dist-packages/tensorflow/python/keras/optimizer_v2/utils.py:79 filter_empty_gradients\n        ([v.name for _, v in grads_and_vars],))\n\n    ValueError: No gradients provided for any variable: ['one/kernel:0', 'batch_normalization/gamma:0', 'batch_normalization/beta:0', 'two/kernel:0', 'batch_normalization_1/gamma:0', 'batch_normalization_1/beta:0', 'three/kernel:0', 'batch_normalization_2/gamma:0', 'batch_normalization_2/beta:0', 'rone1/kernel:0', 'batch_normalization_3/gamma:0', 'batch_normalization_3/beta:0', 'rtwo1/kernel:0', 'batch_normalization_4/gamma:0', 'batch_normalization_4/beta:0', 'rone2/kernel:0', 'batch_normalization_5/gamma:0', 'batch_normalization_5/beta:0', 'rtwo2/kernel:0', 'batch_normalization_6/gamma:0', 'batch_normalization_6/beta:0', 'rone3/kernel:0', 'batch_normalization_7/gamma:0', 'batch_normalization_7/beta:0', 'rtwo3/kernel:0', 'batch_normalization_8/gamma:0', 'batch_normalization_8/beta:0', 'rone4/kernel:0', 'batch_normalization_9/gamma:0', 'batch_normalization_9/beta:0', 'rtwo4/kernel:0', 'batch_normalization_10/gamma:0', 'batch_normalization_10/beta:0', 'rone5/kernel:0', 'batch_normalization_11/gamma:0', 'batch_normalization_11/beta:0', 'rtwo5/kernel:0', 'batch_normalization_12/gamma:0', 'batch_normalization_12/beta:0', 'rone6/kernel:0', 'batch_normalization_13/gamma:0', 'batch_normalization_13/beta:0', 'rtwo6/kernel:0', 'batch_normalization_14/gamma:0', 'batch_normalization_14/beta:0', 'eight/kernel:0', 'nine/kernel:0', 'six/kernel:0', 'seven/kernel:0', 'ten/kernel:0'].\n"
          ]
        }
      ]
    },
    {
      "cell_type": "code",
      "metadata": {
        "id": "I-6S5rX4G3qQ"
      },
      "source": [
        "AUTO = tf.data.experimental.AUTOTUNE\r\n",
        "\r\n",
        "IMAGE_SIZE = [128, 128]\r\n",
        "\r\n",
        "batch_size = 16 * tpu_strategy.num_replicas_in_sync\r\n",
        "\r\n",
        "gcs_pattern = 'gs://faces/tfrecords-jpeg-128/*.tfrec'\r\n",
        "filenames = tf.io.gfile.glob(gcs_pattern)\r\n",
        "train_fns = filenames[:split]\r\n",
        "\r\n",
        "def parse_tfrecord(example):\r\n",
        "  features = {\r\n",
        "    \"image\": tf.io.FixedLenFeature([], tf.string), # tf.string means bytestring\r\n",
        "    \"class\": tf.io.FixedLenFeature([], tf.int64),  # shape [] means scalar\r\n",
        "    \"one_hot_class\": tf.io.VarLenFeature(tf.float32),\r\n",
        "  }\r\n",
        "  example = tf.io.parse_single_example(example, features)\r\n",
        "  decoded = tf.image.decode_jpeg(example['image'], channels=3)\r\n",
        "  normalized = tf.cast(decoded, tf.float32) / 255.0 # convert each 0-255 value to floats in [0, 1] range\r\n",
        "  image_tensor = tf.reshape(normalized, [*IMAGE_SIZE, 3])\r\n",
        "  one_hot_class = tf.reshape(tf.sparse.to_dense(example['one_hot_class']), [5])\r\n",
        "  return image_tensor, one_hot_class"
      ],
      "execution_count": null,
      "outputs": []
    },
    {
      "cell_type": "code",
      "metadata": {
        "id": "HhQo5KNR0pup"
      },
      "source": [
        "from tensorflow.python.keras.callbacks import ModelCheckpoint\r\n",
        "checkpoint = ModelCheckpoint('drive/My Drive/Colab Notebooks/AnalyticsVidya/FaceDetection/Weights/face_detectionTPU.hdf5',monitor='ten_accuracy',\r\n",
        "                             save_weights_only=False,save_best_only = True,mode='auto')\r\n",
        "current_model.fit(get_output(traingenerator),epochs=50,verbose=1,steps_per_epoch=int(5733/32),callbacks=[checkpoint])"
      ],
      "execution_count": null,
      "outputs": []
    },
    {
      "cell_type": "code",
      "metadata": {
        "id": "b8Aj5Q8iP7AW"
      },
      "source": [
        "from matplotlib import pyplot as plt\n",
        "from PIL import Image,ImageOps,ImageFilter\n",
        "import matplotlib.patches as patches\n",
        "import random\n",
        "import cv2\n",
        "from google.colab.patches import cv2_imshow\n",
        "\n",
        "face_cascade = cv2.CascadeClassifier('haarcascade_frontalface_default.xml')\n",
        "profile_cascade = cv2.CascadeClassifier('haarcascade_profileface.xml')\n",
        "eye_cascade = cv2.CascadeClassifier('haarcascade_eye.xml')\n",
        "item_num = random.randint(0,(x_ou[0].shape[0])-1)\n",
        "#item_num = 24\n",
        "img = Image.fromarray((x_ou[0][item_num]).astype('uint8'),mode='RGB')\n",
        "print(item_num)\n",
        "\n",
        "fig = plt.figure()\n",
        "ax = fig.add_subplot(1,1,1)\n",
        "ticks = np.arange(0, 256, 32)\n",
        "\n",
        "ax.set_xticks(ticks)\n",
        "ax.set_yticks(ticks)\n",
        "ax.grid(b=True,color='black')\n",
        "gray = cv2.cvtColor(np.array(img), cv2.COLOR_RGB2GRAY)\n",
        "\n",
        "faces = face_cascade.detectMultiScale(gray, 1.01, 10)\n",
        "for (x1,y1,w1,h1) in faces:\n",
        "    print('x1 '+str(x1)+' y1 '+str(y1)+' w1 '+str(w1)+' h1 '+str(h1))\n",
        "    img = cv2.rectangle(np.array(img),(x1,y1),(x1+w1,y1+h1),(255,0,0),2)\n",
        "    roi_color = img[y1:y1+h1, x1:x1+w1]\n",
        "\n",
        "profiles = profile_cascade.detectMultiScale(gray, 1.01, 10)\n",
        "for (x2,y2,w2,h2) in profiles:\n",
        "    print('x2 '+str(x2)+' y2 '+str(y2)+' w2 '+str(w2)+' h2 '+str(h2))\n",
        "    img = cv2.rectangle(np.array(img),(x2,y2),(x2+w2,y2+h2),(0,255,0),2)\n",
        "    roi_color = img[y2:y2+h2, x2:x2+w2]\n",
        "\n",
        "ax.imshow(img)"
      ],
      "execution_count": null,
      "outputs": []
    },
    {
      "cell_type": "markdown",
      "metadata": {
        "id": "s6LHBS_gh7o5"
      },
      "source": [
        "####Model</b>"
      ]
    },
    {
      "cell_type": "markdown",
      "metadata": {
        "id": "CUZE-tU83JTy"
      },
      "source": [
        "16 x 16 x 5 x 2"
      ]
    },
    {
      "cell_type": "code",
      "metadata": {
        "id": "6CnKGl6rOyAe"
      },
      "source": [
        "import requests\n",
        "from io import BytesIO\n",
        "import numpy as np\n",
        "from PIL import Image\n",
        "from matplotlib import pyplot as plt\n",
        "\n",
        "\n",
        "response = requests.get('https://www.bmw.co.uk/bmw-cars/explore-the-range/lifestyle/image-thumb__14913__480x270/3-series-1920x1080.jpeg?1539010591')\n",
        "img = Image.open(BytesIO(response.content))\n",
        "img2 = img.resize((32, 32), Image.NEAREST) \n",
        "img3 =np.expand_dims(img2, axis=0)\n",
        "print(img3.shape)\n",
        "p = current_model.predict(img3)\n",
        "print(p.shape)\n",
        "print(p[0])"
      ],
      "execution_count": null,
      "outputs": []
    },
    {
      "cell_type": "code",
      "metadata": {
        "id": "9KQjeOFnM_ja"
      },
      "source": [
        "def fetch_model(input_size):\n",
        "  files = os.listdir('/drive/My Drive/Colab Notebooks/AnalyticsVidya/FaceDetection')\n",
        "\n",
        "  matchs = [s for s in files if SAVED_MODEL in s]\n",
        "  \n",
        "  least_val_loss = 1000.00\n",
        "  previous_model_file = ''\n",
        "  for m in matchs:\n",
        "      if float((m.split('_',2)[2]).split('.hdf5',1)[0]) < least_val_loss:\n",
        "        least_val_loss = float((m.split('_',2)[2]).split('.hdf5',1)[0])\n",
        "        previous_model_file = '/drive/My Drive/Colab Notebooks/AnalyticsVidya/FaceDetection' + m\n",
        "  if(least_val_loss < 1000.00):\n",
        "      print(\"Loading previous model with least val loss: \"+ str(previous_model_file))\n",
        "      current_model = build_model(img_size=input_size)\n",
        "      current_model.load_weights(previous_model_file)\n",
        "  else:\n",
        "      print(\"No previous model..   creating new Model\")\n",
        "      current_model = build_model(img_size=input_size)\n",
        "  \n",
        "  return current_model"
      ],
      "execution_count": null,
      "outputs": []
    }
  ]
}